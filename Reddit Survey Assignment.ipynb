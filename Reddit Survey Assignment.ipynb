{
 "cells": [
  {
   "cell_type": "markdown",
   "metadata": {},
   "source": [
    "# Reddit Survey Assignment\n",
    "\n",
    "Done by Sahil Phule"
   ]
  },
  {
   "cell_type": "code",
   "execution_count": 1,
   "metadata": {
    "collapsed": false
   },
   "outputs": [
    {
     "name": "stdout",
     "output_type": "stream",
     "text": [
      "Populating the interactive namespace from numpy and matplotlib\n"
     ]
    }
   ],
   "source": [
    "# Importing Pandas\n",
    "import pandas as pd\n",
    "%pylab inline"
   ]
  },
  {
   "cell_type": "code",
   "execution_count": 2,
   "metadata": {
    "collapsed": true
   },
   "outputs": [],
   "source": [
    "#reading the data from the disk into memory\n",
    "df = pd.read_csv(\"RedditShortDemoSurvey-1-Cleaned.csv\")"
   ]
  },
  {
   "cell_type": "code",
   "execution_count": 3,
   "metadata": {
    "collapsed": false
   },
   "outputs": [
    {
     "data": {
      "text/plain": [
       "Index([u'Entry Id', u'Please indicate your gender.',\n",
       "       u'Please select the category that includes your age.',\n",
       "       u'What is your marital status?',\n",
       "       u'What best describes your employment status?',\n",
       "       u'Are you or have you ever been in military service?',\n",
       "       u'Do you currently have children under the age of 18 living in your household?',\n",
       "       u'What best describes your level of education?',\n",
       "       u'Treated country data',\n",
       "       u'(For U. S. redditors) In which state do you live?',\n",
       "       u'Which one of the following ranges includes your total yearly household income before taxes?',\n",
       "       u'treated subreddit data', u'Are you a dog or a cat person?',\n",
       "       u'If you were a cheese, what cheese would you be?', u'Unnamed: 14',\n",
       "       u'Unnamed: 15', u'Unnamed: 16', u'Unnamed: 17', u'Unnamed: 18',\n",
       "       u'Unnamed: 19'],\n",
       "      dtype='object')"
      ]
     },
     "execution_count": 3,
     "metadata": {},
     "output_type": "execute_result"
    }
   ],
   "source": [
    "#displaying columns\n",
    "df.columns"
   ]
  },
  {
   "cell_type": "code",
   "execution_count": null,
   "metadata": {
    "collapsed": true
   },
   "outputs": [],
   "source": []
  },
  {
   "cell_type": "markdown",
   "metadata": {},
   "source": [
    "## 1. Data Cleanup\n",
    "\n",
    "### i. Aggregating Countries to their continents\n",
    "\n",
    "I have used the python's Countryutlis package which gives out the continent names.\n"
   ]
  },
  {
   "cell_type": "code",
   "execution_count": 4,
   "metadata": {
    "collapsed": false
   },
   "outputs": [],
   "source": [
    "from incf.countryutils import transformations\n",
    "import urllib\n",
    "import untangle\n",
    "\n",
    "# a simple function to find continent of a country\n",
    "def findconti(x):\n",
    "    #titlelizing the country names since countryutilis only supports titlelized data\n",
    "    x = str.title(x)\n",
    "    #countryutlis dosent seem to undersandw which country United states is, but it understande United States of America..!!\n",
    "    if x == \"United States\":\n",
    "        x = \"United States of America\"\n",
    "    # also it doesn't seem to understand what United Kingdom is hence adding the continent manually.\n",
    "    if x == \"United Kingdom\" :\n",
    "        return \"Europe\"\n",
    "    try:\n",
    "        conti = transformations.cn_to_ctn(x)\n",
    "    except:\n",
    "        # returing none when the function is unable to find the continent.\n",
    "        return \"None\"\n",
    "    else:\n",
    "        return conti\n",
    "\n"
   ]
  },
  {
   "cell_type": "code",
   "execution_count": 5,
   "metadata": {
    "collapsed": false
   },
   "outputs": [],
   "source": [
    "# Creating a new continent column by executing the function on the country column\n",
    "\n",
    "df['continent']=df['Treated country data'].apply(findconti)\n"
   ]
  },
  {
   "cell_type": "code",
   "execution_count": 6,
   "metadata": {
    "collapsed": false
   },
   "outputs": [
    {
     "data": {
      "text/plain": [
       "0        North America\n",
       "1        North America\n",
       "2        North America\n",
       "3        North America\n",
       "4        North America\n",
       "5        North America\n",
       "6               Europe\n",
       "7        North America\n",
       "8        North America\n",
       "9               Europe\n",
       "10       North America\n",
       "11       North America\n",
       "12       North America\n",
       "13              Europe\n",
       "14       North America\n",
       "15       North America\n",
       "16       North America\n",
       "17              Europe\n",
       "18                None\n",
       "19       North America\n",
       "20              Europe\n",
       "21              Europe\n",
       "22              Europe\n",
       "23       North America\n",
       "24              Europe\n",
       "25       North America\n",
       "26       North America\n",
       "27       North America\n",
       "28       North America\n",
       "29       North America\n",
       "             ...      \n",
       "32724    North America\n",
       "32725    North America\n",
       "32726    North America\n",
       "32727           Europe\n",
       "32728    North America\n",
       "32729    North America\n",
       "32730    North America\n",
       "32731             None\n",
       "32732    North America\n",
       "32733    North America\n",
       "32734    North America\n",
       "32735    North America\n",
       "32736    North America\n",
       "32737    North America\n",
       "32738          Oceania\n",
       "32739    North America\n",
       "32740    North America\n",
       "32741    North America\n",
       "32742          Oceania\n",
       "32743    North America\n",
       "32744    North America\n",
       "32745    North America\n",
       "32746    North America\n",
       "32747    North America\n",
       "32748             Asia\n",
       "32749           Europe\n",
       "32750           Europe\n",
       "32751           Europe\n",
       "32752    North America\n",
       "32753    North America\n",
       "Name: continent, dtype: object"
      ]
     },
     "execution_count": 6,
     "metadata": {},
     "output_type": "execute_result"
    }
   ],
   "source": [
    "# Displaying the newly created continent column.\n",
    "df.continent"
   ]
  },
  {
   "cell_type": "markdown",
   "metadata": {},
   "source": [
    "### ii. Dropping US states and the country column\n",
    "Now the new continent column has been created. So droppin both the columns."
   ]
  },
  {
   "cell_type": "code",
   "execution_count": 7,
   "metadata": {
    "collapsed": false
   },
   "outputs": [],
   "source": [
    "df.drop('Treated country data', axis=1, inplace=True)\n",
    "df.drop('(For U. S. redditors) In which state do you live?', axis=1, inplace=True)"
   ]
  },
  {
   "cell_type": "code",
   "execution_count": 8,
   "metadata": {
    "collapsed": false,
    "scrolled": true
   },
   "outputs": [
    {
     "data": {
      "text/plain": [
       "Index([u'Entry Id', u'Please indicate your gender.',\n",
       "       u'Please select the category that includes your age.',\n",
       "       u'What is your marital status?',\n",
       "       u'What best describes your employment status?',\n",
       "       u'Are you or have you ever been in military service?',\n",
       "       u'Do you currently have children under the age of 18 living in your household?',\n",
       "       u'What best describes your level of education?',\n",
       "       u'Which one of the following ranges includes your total yearly household income before taxes?',\n",
       "       u'treated subreddit data', u'Are you a dog or a cat person?',\n",
       "       u'If you were a cheese, what cheese would you be?', u'Unnamed: 14',\n",
       "       u'Unnamed: 15', u'Unnamed: 16', u'Unnamed: 17', u'Unnamed: 18',\n",
       "       u'Unnamed: 19', u'continent'],\n",
       "      dtype='object')"
      ]
     },
     "execution_count": 8,
     "metadata": {},
     "output_type": "execute_result"
    }
   ],
   "source": [
    "df.columns"
   ]
  },
  {
   "cell_type": "markdown",
   "metadata": {},
   "source": [
    "### iii. Missing Data Handling\n",
    "\n",
    "I will be checking every column for missing data"
   ]
  },
  {
   "cell_type": "code",
   "execution_count": 9,
   "metadata": {
    "collapsed": false
   },
   "outputs": [
    {
     "data": {
      "text/html": [
       "<div>\n",
       "<table border=\"1\" class=\"dataframe\">\n",
       "  <thead>\n",
       "    <tr style=\"text-align: right;\">\n",
       "      <th></th>\n",
       "      <th>Entry Id</th>\n",
       "      <th>Please indicate your gender.</th>\n",
       "      <th>Please select the category that includes your age.</th>\n",
       "      <th>What is your marital status?</th>\n",
       "      <th>What best describes your employment status?</th>\n",
       "      <th>Are you or have you ever been in military service?</th>\n",
       "      <th>Do you currently have children under the age of 18 living in your household?</th>\n",
       "      <th>What best describes your level of education?</th>\n",
       "      <th>Which one of the following ranges includes your total yearly household income before taxes?</th>\n",
       "      <th>treated subreddit data</th>\n",
       "      <th>Are you a dog or a cat person?</th>\n",
       "      <th>If you were a cheese, what cheese would you be?</th>\n",
       "      <th>Unnamed: 14</th>\n",
       "      <th>Unnamed: 15</th>\n",
       "      <th>Unnamed: 16</th>\n",
       "      <th>Unnamed: 17</th>\n",
       "      <th>Unnamed: 18</th>\n",
       "      <th>Unnamed: 19</th>\n",
       "      <th>continent</th>\n",
       "    </tr>\n",
       "  </thead>\n",
       "  <tbody>\n",
       "  </tbody>\n",
       "</table>\n",
       "</div>"
      ],
      "text/plain": [
       "Empty DataFrame\n",
       "Columns: [Entry Id, Please indicate your gender., Please select the category that includes your age., What is your marital status?, What best describes your employment status?, Are you or have you ever been in military service?, Do you currently have children under the age of 18 living in your household?, What best describes your level of education?, Which one of the following ranges includes your total yearly household income before taxes?, treated subreddit data, Are you a dog or a cat person?, If you were a cheese, what cheese would you be?, Unnamed: 14, Unnamed: 15, Unnamed: 16, Unnamed: 17, Unnamed: 18, Unnamed: 19, continent]\n",
       "Index: []"
      ]
     },
     "execution_count": 9,
     "metadata": {},
     "output_type": "execute_result"
    }
   ],
   "source": [
    "df[df['Entry Id'].isnull()]\n",
    "# mo missind data in ID column"
   ]
  },
  {
   "cell_type": "code",
   "execution_count": 10,
   "metadata": {
    "collapsed": false
   },
   "outputs": [
    {
     "data": {
      "text/html": [
       "<div>\n",
       "<table border=\"1\" class=\"dataframe\">\n",
       "  <thead>\n",
       "    <tr style=\"text-align: right;\">\n",
       "      <th></th>\n",
       "      <th>Entry Id</th>\n",
       "      <th>Please indicate your gender.</th>\n",
       "      <th>Please select the category that includes your age.</th>\n",
       "      <th>What is your marital status?</th>\n",
       "      <th>What best describes your employment status?</th>\n",
       "      <th>Are you or have you ever been in military service?</th>\n",
       "      <th>Do you currently have children under the age of 18 living in your household?</th>\n",
       "      <th>What best describes your level of education?</th>\n",
       "      <th>Which one of the following ranges includes your total yearly household income before taxes?</th>\n",
       "      <th>treated subreddit data</th>\n",
       "      <th>Are you a dog or a cat person?</th>\n",
       "      <th>If you were a cheese, what cheese would you be?</th>\n",
       "      <th>Unnamed: 14</th>\n",
       "      <th>Unnamed: 15</th>\n",
       "      <th>Unnamed: 16</th>\n",
       "      <th>Unnamed: 17</th>\n",
       "      <th>Unnamed: 18</th>\n",
       "      <th>Unnamed: 19</th>\n",
       "      <th>continent</th>\n",
       "    </tr>\n",
       "  </thead>\n",
       "  <tbody>\n",
       "  </tbody>\n",
       "</table>\n",
       "</div>"
      ],
      "text/plain": [
       "Empty DataFrame\n",
       "Columns: [Entry Id, Please indicate your gender., Please select the category that includes your age., What is your marital status?, What best describes your employment status?, Are you or have you ever been in military service?, Do you currently have children under the age of 18 living in your household?, What best describes your level of education?, Which one of the following ranges includes your total yearly household income before taxes?, treated subreddit data, Are you a dog or a cat person?, If you were a cheese, what cheese would you be?, Unnamed: 14, Unnamed: 15, Unnamed: 16, Unnamed: 17, Unnamed: 18, Unnamed: 19, continent]\n",
       "Index: []"
      ]
     },
     "execution_count": 10,
     "metadata": {},
     "output_type": "execute_result"
    }
   ],
   "source": [
    "df[df['Please select the category that includes your age.'].isnull()]"
   ]
  },
  {
   "cell_type": "code",
   "execution_count": 11,
   "metadata": {
    "collapsed": false
   },
   "outputs": [
    {
     "data": {
      "text/html": [
       "<div>\n",
       "<table border=\"1\" class=\"dataframe\">\n",
       "  <thead>\n",
       "    <tr style=\"text-align: right;\">\n",
       "      <th></th>\n",
       "      <th>Entry Id</th>\n",
       "      <th>Please indicate your gender.</th>\n",
       "      <th>Please select the category that includes your age.</th>\n",
       "      <th>What is your marital status?</th>\n",
       "      <th>What best describes your employment status?</th>\n",
       "      <th>Are you or have you ever been in military service?</th>\n",
       "      <th>Do you currently have children under the age of 18 living in your household?</th>\n",
       "      <th>What best describes your level of education?</th>\n",
       "      <th>Which one of the following ranges includes your total yearly household income before taxes?</th>\n",
       "      <th>treated subreddit data</th>\n",
       "      <th>Are you a dog or a cat person?</th>\n",
       "      <th>If you were a cheese, what cheese would you be?</th>\n",
       "      <th>Unnamed: 14</th>\n",
       "      <th>Unnamed: 15</th>\n",
       "      <th>Unnamed: 16</th>\n",
       "      <th>Unnamed: 17</th>\n",
       "      <th>Unnamed: 18</th>\n",
       "      <th>Unnamed: 19</th>\n",
       "      <th>continent</th>\n",
       "    </tr>\n",
       "  </thead>\n",
       "  <tbody>\n",
       "  </tbody>\n",
       "</table>\n",
       "</div>"
      ],
      "text/plain": [
       "Empty DataFrame\n",
       "Columns: [Entry Id, Please indicate your gender., Please select the category that includes your age., What is your marital status?, What best describes your employment status?, Are you or have you ever been in military service?, Do you currently have children under the age of 18 living in your household?, What best describes your level of education?, Which one of the following ranges includes your total yearly household income before taxes?, treated subreddit data, Are you a dog or a cat person?, If you were a cheese, what cheese would you be?, Unnamed: 14, Unnamed: 15, Unnamed: 16, Unnamed: 17, Unnamed: 18, Unnamed: 19, continent]\n",
       "Index: []"
      ]
     },
     "execution_count": 11,
     "metadata": {},
     "output_type": "execute_result"
    }
   ],
   "source": [
    "df[df['What is your marital status?'].isnull()]"
   ]
  },
  {
   "cell_type": "code",
   "execution_count": 12,
   "metadata": {
    "collapsed": false
   },
   "outputs": [
    {
     "data": {
      "text/html": [
       "<div>\n",
       "<table border=\"1\" class=\"dataframe\">\n",
       "  <thead>\n",
       "    <tr style=\"text-align: right;\">\n",
       "      <th></th>\n",
       "      <th>Entry Id</th>\n",
       "      <th>Please indicate your gender.</th>\n",
       "      <th>Please select the category that includes your age.</th>\n",
       "      <th>What is your marital status?</th>\n",
       "      <th>What best describes your employment status?</th>\n",
       "      <th>Are you or have you ever been in military service?</th>\n",
       "      <th>Do you currently have children under the age of 18 living in your household?</th>\n",
       "      <th>What best describes your level of education?</th>\n",
       "      <th>Which one of the following ranges includes your total yearly household income before taxes?</th>\n",
       "      <th>treated subreddit data</th>\n",
       "      <th>Are you a dog or a cat person?</th>\n",
       "      <th>If you were a cheese, what cheese would you be?</th>\n",
       "      <th>Unnamed: 14</th>\n",
       "      <th>Unnamed: 15</th>\n",
       "      <th>Unnamed: 16</th>\n",
       "      <th>Unnamed: 17</th>\n",
       "      <th>Unnamed: 18</th>\n",
       "      <th>Unnamed: 19</th>\n",
       "      <th>continent</th>\n",
       "    </tr>\n",
       "  </thead>\n",
       "  <tbody>\n",
       "  </tbody>\n",
       "</table>\n",
       "</div>"
      ],
      "text/plain": [
       "Empty DataFrame\n",
       "Columns: [Entry Id, Please indicate your gender., Please select the category that includes your age., What is your marital status?, What best describes your employment status?, Are you or have you ever been in military service?, Do you currently have children under the age of 18 living in your household?, What best describes your level of education?, Which one of the following ranges includes your total yearly household income before taxes?, treated subreddit data, Are you a dog or a cat person?, If you were a cheese, what cheese would you be?, Unnamed: 14, Unnamed: 15, Unnamed: 16, Unnamed: 17, Unnamed: 18, Unnamed: 19, continent]\n",
       "Index: []"
      ]
     },
     "execution_count": 12,
     "metadata": {},
     "output_type": "execute_result"
    }
   ],
   "source": [
    "df[df['What best describes your employment status?'].isnull()]"
   ]
  },
  {
   "cell_type": "code",
   "execution_count": 13,
   "metadata": {
    "collapsed": false
   },
   "outputs": [
    {
     "data": {
      "text/html": [
       "<div>\n",
       "<table border=\"1\" class=\"dataframe\">\n",
       "  <thead>\n",
       "    <tr style=\"text-align: right;\">\n",
       "      <th></th>\n",
       "      <th>Entry Id</th>\n",
       "      <th>Please indicate your gender.</th>\n",
       "      <th>Please select the category that includes your age.</th>\n",
       "      <th>What is your marital status?</th>\n",
       "      <th>What best describes your employment status?</th>\n",
       "      <th>Are you or have you ever been in military service?</th>\n",
       "      <th>Do you currently have children under the age of 18 living in your household?</th>\n",
       "      <th>What best describes your level of education?</th>\n",
       "      <th>Which one of the following ranges includes your total yearly household income before taxes?</th>\n",
       "      <th>treated subreddit data</th>\n",
       "      <th>Are you a dog or a cat person?</th>\n",
       "      <th>If you were a cheese, what cheese would you be?</th>\n",
       "      <th>Unnamed: 14</th>\n",
       "      <th>Unnamed: 15</th>\n",
       "      <th>Unnamed: 16</th>\n",
       "      <th>Unnamed: 17</th>\n",
       "      <th>Unnamed: 18</th>\n",
       "      <th>Unnamed: 19</th>\n",
       "      <th>continent</th>\n",
       "    </tr>\n",
       "  </thead>\n",
       "  <tbody>\n",
       "  </tbody>\n",
       "</table>\n",
       "</div>"
      ],
      "text/plain": [
       "Empty DataFrame\n",
       "Columns: [Entry Id, Please indicate your gender., Please select the category that includes your age., What is your marital status?, What best describes your employment status?, Are you or have you ever been in military service?, Do you currently have children under the age of 18 living in your household?, What best describes your level of education?, Which one of the following ranges includes your total yearly household income before taxes?, treated subreddit data, Are you a dog or a cat person?, If you were a cheese, what cheese would you be?, Unnamed: 14, Unnamed: 15, Unnamed: 16, Unnamed: 17, Unnamed: 18, Unnamed: 19, continent]\n",
       "Index: []"
      ]
     },
     "execution_count": 13,
     "metadata": {},
     "output_type": "execute_result"
    }
   ],
   "source": [
    "df[df['Are you or have you ever been in military service?'].isnull()]"
   ]
  },
  {
   "cell_type": "code",
   "execution_count": 14,
   "metadata": {
    "collapsed": false
   },
   "outputs": [
    {
     "data": {
      "text/html": [
       "<div>\n",
       "<table border=\"1\" class=\"dataframe\">\n",
       "  <thead>\n",
       "    <tr style=\"text-align: right;\">\n",
       "      <th></th>\n",
       "      <th>Entry Id</th>\n",
       "      <th>Please indicate your gender.</th>\n",
       "      <th>Please select the category that includes your age.</th>\n",
       "      <th>What is your marital status?</th>\n",
       "      <th>What best describes your employment status?</th>\n",
       "      <th>Are you or have you ever been in military service?</th>\n",
       "      <th>Do you currently have children under the age of 18 living in your household?</th>\n",
       "      <th>What best describes your level of education?</th>\n",
       "      <th>Which one of the following ranges includes your total yearly household income before taxes?</th>\n",
       "      <th>treated subreddit data</th>\n",
       "      <th>Are you a dog or a cat person?</th>\n",
       "      <th>If you were a cheese, what cheese would you be?</th>\n",
       "      <th>Unnamed: 14</th>\n",
       "      <th>Unnamed: 15</th>\n",
       "      <th>Unnamed: 16</th>\n",
       "      <th>Unnamed: 17</th>\n",
       "      <th>Unnamed: 18</th>\n",
       "      <th>Unnamed: 19</th>\n",
       "      <th>continent</th>\n",
       "    </tr>\n",
       "  </thead>\n",
       "  <tbody>\n",
       "  </tbody>\n",
       "</table>\n",
       "</div>"
      ],
      "text/plain": [
       "Empty DataFrame\n",
       "Columns: [Entry Id, Please indicate your gender., Please select the category that includes your age., What is your marital status?, What best describes your employment status?, Are you or have you ever been in military service?, Do you currently have children under the age of 18 living in your household?, What best describes your level of education?, Which one of the following ranges includes your total yearly household income before taxes?, treated subreddit data, Are you a dog or a cat person?, If you were a cheese, what cheese would you be?, Unnamed: 14, Unnamed: 15, Unnamed: 16, Unnamed: 17, Unnamed: 18, Unnamed: 19, continent]\n",
       "Index: []"
      ]
     },
     "execution_count": 14,
     "metadata": {},
     "output_type": "execute_result"
    }
   ],
   "source": [
    "df[df['Do you currently have children under the age of 18 living in your household?'].isnull()]"
   ]
  },
  {
   "cell_type": "code",
   "execution_count": 15,
   "metadata": {
    "collapsed": false
   },
   "outputs": [
    {
     "data": {
      "text/html": [
       "<div>\n",
       "<table border=\"1\" class=\"dataframe\">\n",
       "  <thead>\n",
       "    <tr style=\"text-align: right;\">\n",
       "      <th></th>\n",
       "      <th>Entry Id</th>\n",
       "      <th>Please indicate your gender.</th>\n",
       "      <th>Please select the category that includes your age.</th>\n",
       "      <th>What is your marital status?</th>\n",
       "      <th>What best describes your employment status?</th>\n",
       "      <th>Are you or have you ever been in military service?</th>\n",
       "      <th>Do you currently have children under the age of 18 living in your household?</th>\n",
       "      <th>What best describes your level of education?</th>\n",
       "      <th>Which one of the following ranges includes your total yearly household income before taxes?</th>\n",
       "      <th>treated subreddit data</th>\n",
       "      <th>Are you a dog or a cat person?</th>\n",
       "      <th>If you were a cheese, what cheese would you be?</th>\n",
       "      <th>Unnamed: 14</th>\n",
       "      <th>Unnamed: 15</th>\n",
       "      <th>Unnamed: 16</th>\n",
       "      <th>Unnamed: 17</th>\n",
       "      <th>Unnamed: 18</th>\n",
       "      <th>Unnamed: 19</th>\n",
       "      <th>continent</th>\n",
       "    </tr>\n",
       "  </thead>\n",
       "  <tbody>\n",
       "  </tbody>\n",
       "</table>\n",
       "</div>"
      ],
      "text/plain": [
       "Empty DataFrame\n",
       "Columns: [Entry Id, Please indicate your gender., Please select the category that includes your age., What is your marital status?, What best describes your employment status?, Are you or have you ever been in military service?, Do you currently have children under the age of 18 living in your household?, What best describes your level of education?, Which one of the following ranges includes your total yearly household income before taxes?, treated subreddit data, Are you a dog or a cat person?, If you were a cheese, what cheese would you be?, Unnamed: 14, Unnamed: 15, Unnamed: 16, Unnamed: 17, Unnamed: 18, Unnamed: 19, continent]\n",
       "Index: []"
      ]
     },
     "execution_count": 15,
     "metadata": {},
     "output_type": "execute_result"
    }
   ],
   "source": [
    "df[df['What best describes your level of education?'].isnull()]"
   ]
  },
  {
   "cell_type": "code",
   "execution_count": 16,
   "metadata": {
    "collapsed": false
   },
   "outputs": [
    {
     "data": {
      "text/html": [
       "<div>\n",
       "<table border=\"1\" class=\"dataframe\">\n",
       "  <thead>\n",
       "    <tr style=\"text-align: right;\">\n",
       "      <th></th>\n",
       "      <th>Entry Id</th>\n",
       "      <th>Please indicate your gender.</th>\n",
       "      <th>Please select the category that includes your age.</th>\n",
       "      <th>What is your marital status?</th>\n",
       "      <th>What best describes your employment status?</th>\n",
       "      <th>Are you or have you ever been in military service?</th>\n",
       "      <th>Do you currently have children under the age of 18 living in your household?</th>\n",
       "      <th>What best describes your level of education?</th>\n",
       "      <th>Which one of the following ranges includes your total yearly household income before taxes?</th>\n",
       "      <th>treated subreddit data</th>\n",
       "      <th>Are you a dog or a cat person?</th>\n",
       "      <th>If you were a cheese, what cheese would you be?</th>\n",
       "      <th>Unnamed: 14</th>\n",
       "      <th>Unnamed: 15</th>\n",
       "      <th>Unnamed: 16</th>\n",
       "      <th>Unnamed: 17</th>\n",
       "      <th>Unnamed: 18</th>\n",
       "      <th>Unnamed: 19</th>\n",
       "      <th>continent</th>\n",
       "    </tr>\n",
       "  </thead>\n",
       "  <tbody>\n",
       "  </tbody>\n",
       "</table>\n",
       "</div>"
      ],
      "text/plain": [
       "Empty DataFrame\n",
       "Columns: [Entry Id, Please indicate your gender., Please select the category that includes your age., What is your marital status?, What best describes your employment status?, Are you or have you ever been in military service?, Do you currently have children under the age of 18 living in your household?, What best describes your level of education?, Which one of the following ranges includes your total yearly household income before taxes?, treated subreddit data, Are you a dog or a cat person?, If you were a cheese, what cheese would you be?, Unnamed: 14, Unnamed: 15, Unnamed: 16, Unnamed: 17, Unnamed: 18, Unnamed: 19, continent]\n",
       "Index: []"
      ]
     },
     "execution_count": 16,
     "metadata": {},
     "output_type": "execute_result"
    }
   ],
   "source": [
    "df[df['Which one of the following ranges includes your total yearly household income before taxes?'].isnull()]"
   ]
  },
  {
   "cell_type": "code",
   "execution_count": 17,
   "metadata": {
    "collapsed": false
   },
   "outputs": [
    {
     "data": {
      "text/html": [
       "<div>\n",
       "<table border=\"1\" class=\"dataframe\">\n",
       "  <thead>\n",
       "    <tr style=\"text-align: right;\">\n",
       "      <th></th>\n",
       "      <th>Entry Id</th>\n",
       "      <th>Please indicate your gender.</th>\n",
       "      <th>Please select the category that includes your age.</th>\n",
       "      <th>What is your marital status?</th>\n",
       "      <th>What best describes your employment status?</th>\n",
       "      <th>Are you or have you ever been in military service?</th>\n",
       "      <th>Do you currently have children under the age of 18 living in your household?</th>\n",
       "      <th>What best describes your level of education?</th>\n",
       "      <th>Which one of the following ranges includes your total yearly household income before taxes?</th>\n",
       "      <th>treated subreddit data</th>\n",
       "      <th>Are you a dog or a cat person?</th>\n",
       "      <th>If you were a cheese, what cheese would you be?</th>\n",
       "      <th>Unnamed: 14</th>\n",
       "      <th>Unnamed: 15</th>\n",
       "      <th>Unnamed: 16</th>\n",
       "      <th>Unnamed: 17</th>\n",
       "      <th>Unnamed: 18</th>\n",
       "      <th>Unnamed: 19</th>\n",
       "      <th>continent</th>\n",
       "    </tr>\n",
       "  </thead>\n",
       "  <tbody>\n",
       "    <tr>\n",
       "      <th>9</th>\n",
       "      <td>10</td>\n",
       "      <td>Male</td>\n",
       "      <td>25-34</td>\n",
       "      <td>In a relationship</td>\n",
       "      <td>Freelance</td>\n",
       "      <td>No</td>\n",
       "      <td>No</td>\n",
       "      <td>Some college</td>\n",
       "      <td>$70,000 - $99,999</td>\n",
       "      <td>NaN</td>\n",
       "      <td>I like cats.</td>\n",
       "      <td>Munster</td>\n",
       "      <td>NaN</td>\n",
       "      <td>NaN</td>\n",
       "      <td>NaN</td>\n",
       "      <td>NaN</td>\n",
       "      <td>NaN</td>\n",
       "      <td>NaN</td>\n",
       "      <td>Europe</td>\n",
       "    </tr>\n",
       "    <tr>\n",
       "      <th>13</th>\n",
       "      <td>14</td>\n",
       "      <td>Male</td>\n",
       "      <td>18-24</td>\n",
       "      <td>Forever Alone</td>\n",
       "      <td>Student</td>\n",
       "      <td>No</td>\n",
       "      <td>No</td>\n",
       "      <td>Some college</td>\n",
       "      <td>Under $20,000</td>\n",
       "      <td>NaN</td>\n",
       "      <td>I like cats.</td>\n",
       "      <td>Swiss</td>\n",
       "      <td>NaN</td>\n",
       "      <td>NaN</td>\n",
       "      <td>NaN</td>\n",
       "      <td>NaN</td>\n",
       "      <td>NaN</td>\n",
       "      <td>NaN</td>\n",
       "      <td>Europe</td>\n",
       "    </tr>\n",
       "    <tr>\n",
       "      <th>29</th>\n",
       "      <td>30</td>\n",
       "      <td>Female</td>\n",
       "      <td>18-24</td>\n",
       "      <td>Forever Alone</td>\n",
       "      <td>Student</td>\n",
       "      <td>No</td>\n",
       "      <td>No</td>\n",
       "      <td>Some college</td>\n",
       "      <td>none</td>\n",
       "      <td>NaN</td>\n",
       "      <td>I like dogs.</td>\n",
       "      <td>American</td>\n",
       "      <td>NaN</td>\n",
       "      <td>NaN</td>\n",
       "      <td>NaN</td>\n",
       "      <td>NaN</td>\n",
       "      <td>NaN</td>\n",
       "      <td>NaN</td>\n",
       "      <td>North America</td>\n",
       "    </tr>\n",
       "    <tr>\n",
       "      <th>52</th>\n",
       "      <td>53</td>\n",
       "      <td>Male</td>\n",
       "      <td>25-34</td>\n",
       "      <td>Single</td>\n",
       "      <td>Not employed, but looking for work</td>\n",
       "      <td>No</td>\n",
       "      <td>No</td>\n",
       "      <td>Bachelor's degree</td>\n",
       "      <td>$70,000 - $99,999</td>\n",
       "      <td>NaN</td>\n",
       "      <td>I like cats.</td>\n",
       "      <td>Provolone</td>\n",
       "      <td>NaN</td>\n",
       "      <td>NaN</td>\n",
       "      <td>NaN</td>\n",
       "      <td>NaN</td>\n",
       "      <td>NaN</td>\n",
       "      <td>NaN</td>\n",
       "      <td>North America</td>\n",
       "    </tr>\n",
       "    <tr>\n",
       "      <th>61</th>\n",
       "      <td>62</td>\n",
       "      <td>Male</td>\n",
       "      <td>25-34</td>\n",
       "      <td>Single</td>\n",
       "      <td>Employed full time</td>\n",
       "      <td>Yes</td>\n",
       "      <td>No</td>\n",
       "      <td>Some college</td>\n",
       "      <td>$20,000 - $29,999</td>\n",
       "      <td>NaN</td>\n",
       "      <td>I like cats.</td>\n",
       "      <td>Other</td>\n",
       "      <td>NaN</td>\n",
       "      <td>NaN</td>\n",
       "      <td>NaN</td>\n",
       "      <td>NaN</td>\n",
       "      <td>NaN</td>\n",
       "      <td>NaN</td>\n",
       "      <td>Europe</td>\n",
       "    </tr>\n",
       "    <tr>\n",
       "      <th>75</th>\n",
       "      <td>76</td>\n",
       "      <td>Male</td>\n",
       "      <td>35-44</td>\n",
       "      <td>Single</td>\n",
       "      <td>Freelance</td>\n",
       "      <td>No</td>\n",
       "      <td>No</td>\n",
       "      <td>Some college</td>\n",
       "      <td>$70,000 - $99,999</td>\n",
       "      <td>NaN</td>\n",
       "      <td>I like cats.</td>\n",
       "      <td>Other</td>\n",
       "      <td>NaN</td>\n",
       "      <td>NaN</td>\n",
       "      <td>NaN</td>\n",
       "      <td>NaN</td>\n",
       "      <td>NaN</td>\n",
       "      <td>NaN</td>\n",
       "      <td>Europe</td>\n",
       "    </tr>\n",
       "    <tr>\n",
       "      <th>79</th>\n",
       "      <td>80</td>\n",
       "      <td>Male</td>\n",
       "      <td>25-34</td>\n",
       "      <td>Single</td>\n",
       "      <td>Employed full time</td>\n",
       "      <td>No</td>\n",
       "      <td>No</td>\n",
       "      <td>Bachelor's degree</td>\n",
       "      <td>$40,000 - $49,999</td>\n",
       "      <td>NaN</td>\n",
       "      <td>I like cats.</td>\n",
       "      <td>Brie</td>\n",
       "      <td>NaN</td>\n",
       "      <td>NaN</td>\n",
       "      <td>NaN</td>\n",
       "      <td>NaN</td>\n",
       "      <td>NaN</td>\n",
       "      <td>NaN</td>\n",
       "      <td>North America</td>\n",
       "    </tr>\n",
       "    <tr>\n",
       "      <th>89</th>\n",
       "      <td>90</td>\n",
       "      <td>Male</td>\n",
       "      <td>18-24</td>\n",
       "      <td>Single</td>\n",
       "      <td>Student</td>\n",
       "      <td>No</td>\n",
       "      <td>No</td>\n",
       "      <td>Some college</td>\n",
       "      <td>$150,000 or more</td>\n",
       "      <td>NaN</td>\n",
       "      <td>I like cats.</td>\n",
       "      <td>Brie</td>\n",
       "      <td>NaN</td>\n",
       "      <td>NaN</td>\n",
       "      <td>NaN</td>\n",
       "      <td>NaN</td>\n",
       "      <td>NaN</td>\n",
       "      <td>NaN</td>\n",
       "      <td>North America</td>\n",
       "    </tr>\n",
       "    <tr>\n",
       "      <th>103</th>\n",
       "      <td>104</td>\n",
       "      <td>Male</td>\n",
       "      <td>25-34</td>\n",
       "      <td>In a relationship</td>\n",
       "      <td>Student</td>\n",
       "      <td>No</td>\n",
       "      <td>No</td>\n",
       "      <td>Bachelor's degree</td>\n",
       "      <td>$20,000 - $29,999</td>\n",
       "      <td>NaN</td>\n",
       "      <td>I like dogs.</td>\n",
       "      <td>Goat</td>\n",
       "      <td>NaN</td>\n",
       "      <td>NaN</td>\n",
       "      <td>NaN</td>\n",
       "      <td>NaN</td>\n",
       "      <td>NaN</td>\n",
       "      <td>NaN</td>\n",
       "      <td>North America</td>\n",
       "    </tr>\n",
       "    <tr>\n",
       "      <th>162</th>\n",
       "      <td>163</td>\n",
       "      <td>Female</td>\n",
       "      <td>25-34</td>\n",
       "      <td>Single</td>\n",
       "      <td>Student</td>\n",
       "      <td>No</td>\n",
       "      <td>No</td>\n",
       "      <td>Bachelor's degree</td>\n",
       "      <td>Under $20,000</td>\n",
       "      <td>NaN</td>\n",
       "      <td>I like turtles.</td>\n",
       "      <td>Goat</td>\n",
       "      <td>NaN</td>\n",
       "      <td>NaN</td>\n",
       "      <td>NaN</td>\n",
       "      <td>NaN</td>\n",
       "      <td>NaN</td>\n",
       "      <td>NaN</td>\n",
       "      <td>North America</td>\n",
       "    </tr>\n",
       "    <tr>\n",
       "      <th>168</th>\n",
       "      <td>169</td>\n",
       "      <td>Male</td>\n",
       "      <td>25-34</td>\n",
       "      <td>Married/civil union/domestic partnership</td>\n",
       "      <td>Employed full time</td>\n",
       "      <td>No</td>\n",
       "      <td>No</td>\n",
       "      <td>Graduate or professional degree</td>\n",
       "      <td>$100,000 - $149,999</td>\n",
       "      <td>NaN</td>\n",
       "      <td>I like dogs.</td>\n",
       "      <td>Goat</td>\n",
       "      <td>NaN</td>\n",
       "      <td>NaN</td>\n",
       "      <td>NaN</td>\n",
       "      <td>NaN</td>\n",
       "      <td>NaN</td>\n",
       "      <td>NaN</td>\n",
       "      <td>North America</td>\n",
       "    </tr>\n",
       "    <tr>\n",
       "      <th>169</th>\n",
       "      <td>170</td>\n",
       "      <td>Male</td>\n",
       "      <td>25-34</td>\n",
       "      <td>Married/civil union/domestic partnership</td>\n",
       "      <td>Employed full time</td>\n",
       "      <td>No</td>\n",
       "      <td>No</td>\n",
       "      <td>Bachelor's degree</td>\n",
       "      <td>$50,000 - $69,999</td>\n",
       "      <td>NaN</td>\n",
       "      <td>I like dogs.</td>\n",
       "      <td>Other</td>\n",
       "      <td>NaN</td>\n",
       "      <td>NaN</td>\n",
       "      <td>NaN</td>\n",
       "      <td>NaN</td>\n",
       "      <td>NaN</td>\n",
       "      <td>NaN</td>\n",
       "      <td>North America</td>\n",
       "    </tr>\n",
       "    <tr>\n",
       "      <th>176</th>\n",
       "      <td>177</td>\n",
       "      <td>Male</td>\n",
       "      <td>18-24</td>\n",
       "      <td>In a relationship</td>\n",
       "      <td>Student</td>\n",
       "      <td>Yes</td>\n",
       "      <td>No</td>\n",
       "      <td>Some college</td>\n",
       "      <td>Under $20,000</td>\n",
       "      <td>NaN</td>\n",
       "      <td>I like dogs.</td>\n",
       "      <td>Swiss</td>\n",
       "      <td>NaN</td>\n",
       "      <td>NaN</td>\n",
       "      <td>NaN</td>\n",
       "      <td>NaN</td>\n",
       "      <td>NaN</td>\n",
       "      <td>NaN</td>\n",
       "      <td>North America</td>\n",
       "    </tr>\n",
       "    <tr>\n",
       "      <th>177</th>\n",
       "      <td>178</td>\n",
       "      <td>Male</td>\n",
       "      <td>25-34</td>\n",
       "      <td>In a relationship</td>\n",
       "      <td>Employed full time</td>\n",
       "      <td>No</td>\n",
       "      <td>No</td>\n",
       "      <td>Bachelor's degree</td>\n",
       "      <td>$150,000 or more</td>\n",
       "      <td>NaN</td>\n",
       "      <td>I like dogs.</td>\n",
       "      <td>Brie</td>\n",
       "      <td>NaN</td>\n",
       "      <td>NaN</td>\n",
       "      <td>NaN</td>\n",
       "      <td>NaN</td>\n",
       "      <td>NaN</td>\n",
       "      <td>NaN</td>\n",
       "      <td>North America</td>\n",
       "    </tr>\n",
       "    <tr>\n",
       "      <th>179</th>\n",
       "      <td>180</td>\n",
       "      <td>Male</td>\n",
       "      <td>25-34</td>\n",
       "      <td>Married/civil union/domestic partnership</td>\n",
       "      <td>Employed full time</td>\n",
       "      <td>No</td>\n",
       "      <td>Yes</td>\n",
       "      <td>Bachelor's degree</td>\n",
       "      <td>$50,000 - $69,999</td>\n",
       "      <td>NaN</td>\n",
       "      <td>I like cats.</td>\n",
       "      <td>Other</td>\n",
       "      <td>NaN</td>\n",
       "      <td>NaN</td>\n",
       "      <td>NaN</td>\n",
       "      <td>NaN</td>\n",
       "      <td>NaN</td>\n",
       "      <td>NaN</td>\n",
       "      <td>North America</td>\n",
       "    </tr>\n",
       "    <tr>\n",
       "      <th>189</th>\n",
       "      <td>190</td>\n",
       "      <td>Male</td>\n",
       "      <td>Under 18</td>\n",
       "      <td>Forever Alone</td>\n",
       "      <td>Student</td>\n",
       "      <td>Yes</td>\n",
       "      <td>No</td>\n",
       "      <td>Some high school</td>\n",
       "      <td>none</td>\n",
       "      <td>NaN</td>\n",
       "      <td>I like dogs.</td>\n",
       "      <td>Munster</td>\n",
       "      <td>NaN</td>\n",
       "      <td>NaN</td>\n",
       "      <td>NaN</td>\n",
       "      <td>NaN</td>\n",
       "      <td>NaN</td>\n",
       "      <td>NaN</td>\n",
       "      <td>None</td>\n",
       "    </tr>\n",
       "    <tr>\n",
       "      <th>205</th>\n",
       "      <td>206</td>\n",
       "      <td>Male</td>\n",
       "      <td>18-24</td>\n",
       "      <td>Single</td>\n",
       "      <td>Not employed, but looking for work</td>\n",
       "      <td>No</td>\n",
       "      <td>No</td>\n",
       "      <td>Bachelor's degree</td>\n",
       "      <td>$40,000 - $49,999</td>\n",
       "      <td>NaN</td>\n",
       "      <td>I like dogs.</td>\n",
       "      <td>Cheddar</td>\n",
       "      <td>NaN</td>\n",
       "      <td>NaN</td>\n",
       "      <td>NaN</td>\n",
       "      <td>NaN</td>\n",
       "      <td>NaN</td>\n",
       "      <td>NaN</td>\n",
       "      <td>North America</td>\n",
       "    </tr>\n",
       "    <tr>\n",
       "      <th>215</th>\n",
       "      <td>216</td>\n",
       "      <td>Male</td>\n",
       "      <td>45-54</td>\n",
       "      <td>Single</td>\n",
       "      <td>Retired</td>\n",
       "      <td>No</td>\n",
       "      <td>No</td>\n",
       "      <td>Associate degree</td>\n",
       "      <td>$40,000 - $49,999</td>\n",
       "      <td>NaN</td>\n",
       "      <td>I like cats.</td>\n",
       "      <td>Provolone</td>\n",
       "      <td>NaN</td>\n",
       "      <td>NaN</td>\n",
       "      <td>NaN</td>\n",
       "      <td>NaN</td>\n",
       "      <td>NaN</td>\n",
       "      <td>NaN</td>\n",
       "      <td>North America</td>\n",
       "    </tr>\n",
       "    <tr>\n",
       "      <th>217</th>\n",
       "      <td>218</td>\n",
       "      <td>Male</td>\n",
       "      <td>25-34</td>\n",
       "      <td>In a relationship</td>\n",
       "      <td>Employed full time</td>\n",
       "      <td>No</td>\n",
       "      <td>No</td>\n",
       "      <td>Graduate or professional degree</td>\n",
       "      <td>$20,000 - $29,999</td>\n",
       "      <td>NaN</td>\n",
       "      <td>I like dogs.</td>\n",
       "      <td>Provolone</td>\n",
       "      <td>NaN</td>\n",
       "      <td>NaN</td>\n",
       "      <td>NaN</td>\n",
       "      <td>NaN</td>\n",
       "      <td>NaN</td>\n",
       "      <td>NaN</td>\n",
       "      <td>North America</td>\n",
       "    </tr>\n",
       "    <tr>\n",
       "      <th>224</th>\n",
       "      <td>225</td>\n",
       "      <td>Male</td>\n",
       "      <td>25-34</td>\n",
       "      <td>Single</td>\n",
       "      <td>Employed full time</td>\n",
       "      <td>No</td>\n",
       "      <td>No</td>\n",
       "      <td>Some college</td>\n",
       "      <td>$40,000 - $49,999</td>\n",
       "      <td>NaN</td>\n",
       "      <td>I like dogs.</td>\n",
       "      <td>Swiss</td>\n",
       "      <td>NaN</td>\n",
       "      <td>NaN</td>\n",
       "      <td>NaN</td>\n",
       "      <td>NaN</td>\n",
       "      <td>NaN</td>\n",
       "      <td>NaN</td>\n",
       "      <td>North America</td>\n",
       "    </tr>\n",
       "    <tr>\n",
       "      <th>228</th>\n",
       "      <td>229</td>\n",
       "      <td>Male</td>\n",
       "      <td>18-24</td>\n",
       "      <td>In a relationship</td>\n",
       "      <td>Student</td>\n",
       "      <td>No</td>\n",
       "      <td>Yes</td>\n",
       "      <td>Some college</td>\n",
       "      <td>none</td>\n",
       "      <td>NaN</td>\n",
       "      <td>I like dogs.</td>\n",
       "      <td>Munster</td>\n",
       "      <td>NaN</td>\n",
       "      <td>NaN</td>\n",
       "      <td>NaN</td>\n",
       "      <td>NaN</td>\n",
       "      <td>NaN</td>\n",
       "      <td>NaN</td>\n",
       "      <td>North America</td>\n",
       "    </tr>\n",
       "    <tr>\n",
       "      <th>237</th>\n",
       "      <td>238</td>\n",
       "      <td>Male</td>\n",
       "      <td>25-34</td>\n",
       "      <td>Married/civil union/domestic partnership</td>\n",
       "      <td>Employed full time</td>\n",
       "      <td>No</td>\n",
       "      <td>No</td>\n",
       "      <td>Graduate or professional degree</td>\n",
       "      <td>$100,000 - $149,999</td>\n",
       "      <td>NaN</td>\n",
       "      <td>I like dogs.</td>\n",
       "      <td>Cheddar</td>\n",
       "      <td>NaN</td>\n",
       "      <td>NaN</td>\n",
       "      <td>NaN</td>\n",
       "      <td>NaN</td>\n",
       "      <td>NaN</td>\n",
       "      <td>NaN</td>\n",
       "      <td>North America</td>\n",
       "    </tr>\n",
       "    <tr>\n",
       "      <th>245</th>\n",
       "      <td>246</td>\n",
       "      <td>Male</td>\n",
       "      <td>18-24</td>\n",
       "      <td>Single</td>\n",
       "      <td>Employed full time</td>\n",
       "      <td>No</td>\n",
       "      <td>No</td>\n",
       "      <td>Bachelor's degree</td>\n",
       "      <td>$50,000 - $69,999</td>\n",
       "      <td>NaN</td>\n",
       "      <td>I like dogs.</td>\n",
       "      <td>Brie</td>\n",
       "      <td>NaN</td>\n",
       "      <td>NaN</td>\n",
       "      <td>NaN</td>\n",
       "      <td>NaN</td>\n",
       "      <td>NaN</td>\n",
       "      <td>NaN</td>\n",
       "      <td>North America</td>\n",
       "    </tr>\n",
       "    <tr>\n",
       "      <th>247</th>\n",
       "      <td>248</td>\n",
       "      <td>Female</td>\n",
       "      <td>18-24</td>\n",
       "      <td>Forever Alone</td>\n",
       "      <td>Student</td>\n",
       "      <td>No</td>\n",
       "      <td>Yes</td>\n",
       "      <td>Bachelor's degree</td>\n",
       "      <td>$30,000 - $39,999</td>\n",
       "      <td>NaN</td>\n",
       "      <td>I like dogs.</td>\n",
       "      <td>Cheddar</td>\n",
       "      <td>NaN</td>\n",
       "      <td>NaN</td>\n",
       "      <td>NaN</td>\n",
       "      <td>NaN</td>\n",
       "      <td>NaN</td>\n",
       "      <td>NaN</td>\n",
       "      <td>North America</td>\n",
       "    </tr>\n",
       "    <tr>\n",
       "      <th>263</th>\n",
       "      <td>264</td>\n",
       "      <td>Male</td>\n",
       "      <td>18-24</td>\n",
       "      <td>In a relationship</td>\n",
       "      <td>Student</td>\n",
       "      <td>No</td>\n",
       "      <td>No</td>\n",
       "      <td>Graduate or professional degree</td>\n",
       "      <td>Under $20,000</td>\n",
       "      <td>NaN</td>\n",
       "      <td>I like dogs.</td>\n",
       "      <td>Goat</td>\n",
       "      <td>NaN</td>\n",
       "      <td>NaN</td>\n",
       "      <td>NaN</td>\n",
       "      <td>NaN</td>\n",
       "      <td>NaN</td>\n",
       "      <td>NaN</td>\n",
       "      <td>North America</td>\n",
       "    </tr>\n",
       "    <tr>\n",
       "      <th>265</th>\n",
       "      <td>266</td>\n",
       "      <td>Male</td>\n",
       "      <td>18-24</td>\n",
       "      <td>Single</td>\n",
       "      <td>Student</td>\n",
       "      <td>No</td>\n",
       "      <td>No</td>\n",
       "      <td>Bachelor's degree</td>\n",
       "      <td>none</td>\n",
       "      <td>NaN</td>\n",
       "      <td>I like dogs.</td>\n",
       "      <td>Other</td>\n",
       "      <td>NaN</td>\n",
       "      <td>NaN</td>\n",
       "      <td>NaN</td>\n",
       "      <td>NaN</td>\n",
       "      <td>NaN</td>\n",
       "      <td>NaN</td>\n",
       "      <td>Europe</td>\n",
       "    </tr>\n",
       "    <tr>\n",
       "      <th>284</th>\n",
       "      <td>285</td>\n",
       "      <td>Female</td>\n",
       "      <td>18-24</td>\n",
       "      <td>Single</td>\n",
       "      <td>Student</td>\n",
       "      <td>No</td>\n",
       "      <td>No</td>\n",
       "      <td>High school graduate or equivalent</td>\n",
       "      <td>$20,000 - $29,999</td>\n",
       "      <td>NaN</td>\n",
       "      <td>I like dogs.</td>\n",
       "      <td>Goat</td>\n",
       "      <td>NaN</td>\n",
       "      <td>NaN</td>\n",
       "      <td>NaN</td>\n",
       "      <td>NaN</td>\n",
       "      <td>NaN</td>\n",
       "      <td>NaN</td>\n",
       "      <td>None</td>\n",
       "    </tr>\n",
       "    <tr>\n",
       "      <th>292</th>\n",
       "      <td>293</td>\n",
       "      <td>Male</td>\n",
       "      <td>25-34</td>\n",
       "      <td>In a relationship</td>\n",
       "      <td>Student</td>\n",
       "      <td>No</td>\n",
       "      <td>No</td>\n",
       "      <td>Graduate or professional degree</td>\n",
       "      <td>$20,000 - $29,999</td>\n",
       "      <td>NaN</td>\n",
       "      <td>I like dogs.</td>\n",
       "      <td>Other</td>\n",
       "      <td>NaN</td>\n",
       "      <td>NaN</td>\n",
       "      <td>NaN</td>\n",
       "      <td>NaN</td>\n",
       "      <td>NaN</td>\n",
       "      <td>NaN</td>\n",
       "      <td>North America</td>\n",
       "    </tr>\n",
       "    <tr>\n",
       "      <th>298</th>\n",
       "      <td>299</td>\n",
       "      <td>Male</td>\n",
       "      <td>25-34</td>\n",
       "      <td>In a relationship</td>\n",
       "      <td>Employed full time</td>\n",
       "      <td>No</td>\n",
       "      <td>No</td>\n",
       "      <td>Bachelor's degree</td>\n",
       "      <td>none</td>\n",
       "      <td>NaN</td>\n",
       "      <td>I like dogs.</td>\n",
       "      <td>Munster</td>\n",
       "      <td>NaN</td>\n",
       "      <td>NaN</td>\n",
       "      <td>NaN</td>\n",
       "      <td>NaN</td>\n",
       "      <td>NaN</td>\n",
       "      <td>NaN</td>\n",
       "      <td>North America</td>\n",
       "    </tr>\n",
       "    <tr>\n",
       "      <th>301</th>\n",
       "      <td>302</td>\n",
       "      <td>Male</td>\n",
       "      <td>25-34</td>\n",
       "      <td>Forever Alone</td>\n",
       "      <td>Employed full time</td>\n",
       "      <td>No</td>\n",
       "      <td>No</td>\n",
       "      <td>Graduate or professional degree</td>\n",
       "      <td>$20,000 - $29,999</td>\n",
       "      <td>NaN</td>\n",
       "      <td>I like turtles.</td>\n",
       "      <td>Paneer</td>\n",
       "      <td>NaN</td>\n",
       "      <td>NaN</td>\n",
       "      <td>NaN</td>\n",
       "      <td>NaN</td>\n",
       "      <td>NaN</td>\n",
       "      <td>NaN</td>\n",
       "      <td>Asia</td>\n",
       "    </tr>\n",
       "    <tr>\n",
       "      <th>...</th>\n",
       "      <td>...</td>\n",
       "      <td>...</td>\n",
       "      <td>...</td>\n",
       "      <td>...</td>\n",
       "      <td>...</td>\n",
       "      <td>...</td>\n",
       "      <td>...</td>\n",
       "      <td>...</td>\n",
       "      <td>...</td>\n",
       "      <td>...</td>\n",
       "      <td>...</td>\n",
       "      <td>...</td>\n",
       "      <td>...</td>\n",
       "      <td>...</td>\n",
       "      <td>...</td>\n",
       "      <td>...</td>\n",
       "      <td>...</td>\n",
       "      <td>...</td>\n",
       "      <td>...</td>\n",
       "    </tr>\n",
       "    <tr>\n",
       "      <th>32639</th>\n",
       "      <td>32642</td>\n",
       "      <td>Male</td>\n",
       "      <td>18-24</td>\n",
       "      <td>In a relationship</td>\n",
       "      <td>Student</td>\n",
       "      <td>No</td>\n",
       "      <td>No</td>\n",
       "      <td>High school graduate or equivalent</td>\n",
       "      <td>$20,000 - $29,999</td>\n",
       "      <td>NaN</td>\n",
       "      <td>I like cats.</td>\n",
       "      <td>Brie</td>\n",
       "      <td>NaN</td>\n",
       "      <td>NaN</td>\n",
       "      <td>NaN</td>\n",
       "      <td>NaN</td>\n",
       "      <td>NaN</td>\n",
       "      <td>NaN</td>\n",
       "      <td>Europe</td>\n",
       "    </tr>\n",
       "    <tr>\n",
       "      <th>32644</th>\n",
       "      <td>32647</td>\n",
       "      <td>Female</td>\n",
       "      <td>25-34</td>\n",
       "      <td>Married/civil union/domestic partnership</td>\n",
       "      <td>Student</td>\n",
       "      <td>Yes</td>\n",
       "      <td>No</td>\n",
       "      <td>Graduate or professional degree</td>\n",
       "      <td>$70,000 - $99,999</td>\n",
       "      <td>NaN</td>\n",
       "      <td>I like dogs.</td>\n",
       "      <td>Feta</td>\n",
       "      <td>NaN</td>\n",
       "      <td>NaN</td>\n",
       "      <td>NaN</td>\n",
       "      <td>NaN</td>\n",
       "      <td>NaN</td>\n",
       "      <td>NaN</td>\n",
       "      <td>Oceania</td>\n",
       "    </tr>\n",
       "    <tr>\n",
       "      <th>32648</th>\n",
       "      <td>32651</td>\n",
       "      <td>Female</td>\n",
       "      <td>18-24</td>\n",
       "      <td>Engaged</td>\n",
       "      <td>Employed full time</td>\n",
       "      <td>No</td>\n",
       "      <td>No</td>\n",
       "      <td>Bachelor's degree</td>\n",
       "      <td>Under $20,000</td>\n",
       "      <td>NaN</td>\n",
       "      <td>I like dogs.</td>\n",
       "      <td>Cheddar</td>\n",
       "      <td>NaN</td>\n",
       "      <td>NaN</td>\n",
       "      <td>NaN</td>\n",
       "      <td>NaN</td>\n",
       "      <td>NaN</td>\n",
       "      <td>NaN</td>\n",
       "      <td>North America</td>\n",
       "    </tr>\n",
       "    <tr>\n",
       "      <th>32652</th>\n",
       "      <td>32655</td>\n",
       "      <td>Female</td>\n",
       "      <td>35-44</td>\n",
       "      <td>Forever Alone</td>\n",
       "      <td>Employed full time</td>\n",
       "      <td>No</td>\n",
       "      <td>No</td>\n",
       "      <td>Bachelor's degree</td>\n",
       "      <td>$50,000 - $69,999</td>\n",
       "      <td>NaN</td>\n",
       "      <td>I like turtles.</td>\n",
       "      <td>Brie</td>\n",
       "      <td>NaN</td>\n",
       "      <td>NaN</td>\n",
       "      <td>NaN</td>\n",
       "      <td>NaN</td>\n",
       "      <td>NaN</td>\n",
       "      <td>NaN</td>\n",
       "      <td>North America</td>\n",
       "    </tr>\n",
       "    <tr>\n",
       "      <th>32660</th>\n",
       "      <td>32663</td>\n",
       "      <td>Male</td>\n",
       "      <td>18-24</td>\n",
       "      <td>Single</td>\n",
       "      <td>Student</td>\n",
       "      <td>No</td>\n",
       "      <td>No</td>\n",
       "      <td>Some college</td>\n",
       "      <td>$100,000 - $149,999</td>\n",
       "      <td>NaN</td>\n",
       "      <td>I like cats.</td>\n",
       "      <td>Other</td>\n",
       "      <td>NaN</td>\n",
       "      <td>NaN</td>\n",
       "      <td>NaN</td>\n",
       "      <td>NaN</td>\n",
       "      <td>NaN</td>\n",
       "      <td>NaN</td>\n",
       "      <td>North America</td>\n",
       "    </tr>\n",
       "    <tr>\n",
       "      <th>32661</th>\n",
       "      <td>32664</td>\n",
       "      <td>Female</td>\n",
       "      <td>25-34</td>\n",
       "      <td>Married/civil union/domestic partnership</td>\n",
       "      <td>Student</td>\n",
       "      <td>No</td>\n",
       "      <td>No</td>\n",
       "      <td>Bachelor's degree</td>\n",
       "      <td>$50,000 - $69,999</td>\n",
       "      <td>NaN</td>\n",
       "      <td>I like dogs.</td>\n",
       "      <td>Brie</td>\n",
       "      <td>NaN</td>\n",
       "      <td>NaN</td>\n",
       "      <td>NaN</td>\n",
       "      <td>NaN</td>\n",
       "      <td>NaN</td>\n",
       "      <td>NaN</td>\n",
       "      <td>North America</td>\n",
       "    </tr>\n",
       "    <tr>\n",
       "      <th>32662</th>\n",
       "      <td>32665</td>\n",
       "      <td>Female</td>\n",
       "      <td>18-24</td>\n",
       "      <td>Forever Alone</td>\n",
       "      <td>Student</td>\n",
       "      <td>No</td>\n",
       "      <td>No</td>\n",
       "      <td>Some college</td>\n",
       "      <td>$100,000 - $149,999</td>\n",
       "      <td>NaN</td>\n",
       "      <td>I like turtles.</td>\n",
       "      <td>Goat</td>\n",
       "      <td>NaN</td>\n",
       "      <td>NaN</td>\n",
       "      <td>NaN</td>\n",
       "      <td>NaN</td>\n",
       "      <td>NaN</td>\n",
       "      <td>NaN</td>\n",
       "      <td>North America</td>\n",
       "    </tr>\n",
       "    <tr>\n",
       "      <th>32670</th>\n",
       "      <td>32673</td>\n",
       "      <td>Female</td>\n",
       "      <td>Under 18</td>\n",
       "      <td>Forever Alone</td>\n",
       "      <td>Student</td>\n",
       "      <td>No</td>\n",
       "      <td>Yes</td>\n",
       "      <td>Some high school</td>\n",
       "      <td>Under $20,000</td>\n",
       "      <td>NaN</td>\n",
       "      <td>I like dogs.</td>\n",
       "      <td>Brie</td>\n",
       "      <td>NaN</td>\n",
       "      <td>NaN</td>\n",
       "      <td>NaN</td>\n",
       "      <td>NaN</td>\n",
       "      <td>NaN</td>\n",
       "      <td>NaN</td>\n",
       "      <td>Oceania</td>\n",
       "    </tr>\n",
       "    <tr>\n",
       "      <th>32672</th>\n",
       "      <td>32675</td>\n",
       "      <td>Male</td>\n",
       "      <td>25-34</td>\n",
       "      <td>Single</td>\n",
       "      <td>Employed full time</td>\n",
       "      <td>No</td>\n",
       "      <td>Yes</td>\n",
       "      <td>High school graduate or equivalent</td>\n",
       "      <td>$40,000 - $49,999</td>\n",
       "      <td>NaN</td>\n",
       "      <td>I like turtles.</td>\n",
       "      <td>Other</td>\n",
       "      <td>NaN</td>\n",
       "      <td>NaN</td>\n",
       "      <td>NaN</td>\n",
       "      <td>NaN</td>\n",
       "      <td>NaN</td>\n",
       "      <td>NaN</td>\n",
       "      <td>None</td>\n",
       "    </tr>\n",
       "    <tr>\n",
       "      <th>32675</th>\n",
       "      <td>32678</td>\n",
       "      <td>Male</td>\n",
       "      <td>25-34</td>\n",
       "      <td>In a relationship</td>\n",
       "      <td>Employed full time</td>\n",
       "      <td>No</td>\n",
       "      <td>No</td>\n",
       "      <td>High school graduate or equivalent</td>\n",
       "      <td>none</td>\n",
       "      <td>NaN</td>\n",
       "      <td>I like turtles.</td>\n",
       "      <td>Provolone</td>\n",
       "      <td>NaN</td>\n",
       "      <td>NaN</td>\n",
       "      <td>NaN</td>\n",
       "      <td>NaN</td>\n",
       "      <td>NaN</td>\n",
       "      <td>NaN</td>\n",
       "      <td>None</td>\n",
       "    </tr>\n",
       "    <tr>\n",
       "      <th>32698</th>\n",
       "      <td>32701</td>\n",
       "      <td>None</td>\n",
       "      <td>None</td>\n",
       "      <td>Forever Alone</td>\n",
       "      <td>None</td>\n",
       "      <td>Yes</td>\n",
       "      <td>None</td>\n",
       "      <td>None</td>\n",
       "      <td>none</td>\n",
       "      <td>NaN</td>\n",
       "      <td>I like dogs.</td>\n",
       "      <td>Munster</td>\n",
       "      <td>NaN</td>\n",
       "      <td>NaN</td>\n",
       "      <td>NaN</td>\n",
       "      <td>NaN</td>\n",
       "      <td>NaN</td>\n",
       "      <td>NaN</td>\n",
       "      <td>None</td>\n",
       "    </tr>\n",
       "    <tr>\n",
       "      <th>32699</th>\n",
       "      <td>32702</td>\n",
       "      <td>Female</td>\n",
       "      <td>55-64</td>\n",
       "      <td>Married/civil union/domestic partnership</td>\n",
       "      <td>Freelance</td>\n",
       "      <td>No</td>\n",
       "      <td>No</td>\n",
       "      <td>Bachelor's degree</td>\n",
       "      <td>$100,000 - $149,999</td>\n",
       "      <td>NaN</td>\n",
       "      <td>I like cats.</td>\n",
       "      <td>Cheddar</td>\n",
       "      <td>NaN</td>\n",
       "      <td>NaN</td>\n",
       "      <td>NaN</td>\n",
       "      <td>NaN</td>\n",
       "      <td>NaN</td>\n",
       "      <td>NaN</td>\n",
       "      <td>North America</td>\n",
       "    </tr>\n",
       "    <tr>\n",
       "      <th>32701</th>\n",
       "      <td>32704</td>\n",
       "      <td>Female</td>\n",
       "      <td>25-34</td>\n",
       "      <td>Married/civil union/domestic partnership</td>\n",
       "      <td>Employed full time</td>\n",
       "      <td>No</td>\n",
       "      <td>No</td>\n",
       "      <td>Graduate or professional degree</td>\n",
       "      <td>Under $20,000</td>\n",
       "      <td>NaN</td>\n",
       "      <td>I like turtles.</td>\n",
       "      <td>Feta</td>\n",
       "      <td>NaN</td>\n",
       "      <td>NaN</td>\n",
       "      <td>NaN</td>\n",
       "      <td>NaN</td>\n",
       "      <td>NaN</td>\n",
       "      <td>NaN</td>\n",
       "      <td>Asia</td>\n",
       "    </tr>\n",
       "    <tr>\n",
       "      <th>32703</th>\n",
       "      <td>32706</td>\n",
       "      <td>Male</td>\n",
       "      <td>25-34</td>\n",
       "      <td>Single</td>\n",
       "      <td>Employed full time</td>\n",
       "      <td>No</td>\n",
       "      <td>Yes</td>\n",
       "      <td>High school graduate or equivalent</td>\n",
       "      <td>$40,000 - $49,999</td>\n",
       "      <td>NaN</td>\n",
       "      <td>I like dogs.</td>\n",
       "      <td>Other</td>\n",
       "      <td>NaN</td>\n",
       "      <td>NaN</td>\n",
       "      <td>NaN</td>\n",
       "      <td>NaN</td>\n",
       "      <td>NaN</td>\n",
       "      <td>NaN</td>\n",
       "      <td>North America</td>\n",
       "    </tr>\n",
       "    <tr>\n",
       "      <th>32711</th>\n",
       "      <td>32714</td>\n",
       "      <td>Male</td>\n",
       "      <td>18-24</td>\n",
       "      <td>Single</td>\n",
       "      <td>Employed full time</td>\n",
       "      <td>No</td>\n",
       "      <td>No</td>\n",
       "      <td>Some college</td>\n",
       "      <td>$20,000 - $29,999</td>\n",
       "      <td>NaN</td>\n",
       "      <td>I like turtles.</td>\n",
       "      <td>Brie</td>\n",
       "      <td>NaN</td>\n",
       "      <td>NaN</td>\n",
       "      <td>NaN</td>\n",
       "      <td>NaN</td>\n",
       "      <td>NaN</td>\n",
       "      <td>NaN</td>\n",
       "      <td>North America</td>\n",
       "    </tr>\n",
       "    <tr>\n",
       "      <th>32714</th>\n",
       "      <td>32717</td>\n",
       "      <td>Male</td>\n",
       "      <td>25-34</td>\n",
       "      <td>Married/civil union/domestic partnership</td>\n",
       "      <td>Employed full time</td>\n",
       "      <td>No</td>\n",
       "      <td>Yes</td>\n",
       "      <td>Bachelor's degree</td>\n",
       "      <td>$100,000 - $149,999</td>\n",
       "      <td>NaN</td>\n",
       "      <td>I like dogs.</td>\n",
       "      <td>Other</td>\n",
       "      <td>NaN</td>\n",
       "      <td>NaN</td>\n",
       "      <td>NaN</td>\n",
       "      <td>NaN</td>\n",
       "      <td>NaN</td>\n",
       "      <td>NaN</td>\n",
       "      <td>North America</td>\n",
       "    </tr>\n",
       "    <tr>\n",
       "      <th>32716</th>\n",
       "      <td>32719</td>\n",
       "      <td>None</td>\n",
       "      <td>None</td>\n",
       "      <td>Forever Alone</td>\n",
       "      <td>None</td>\n",
       "      <td>Yes</td>\n",
       "      <td>None</td>\n",
       "      <td>None</td>\n",
       "      <td>none</td>\n",
       "      <td>NaN</td>\n",
       "      <td>I like dogs.</td>\n",
       "      <td>Munster</td>\n",
       "      <td>NaN</td>\n",
       "      <td>NaN</td>\n",
       "      <td>NaN</td>\n",
       "      <td>NaN</td>\n",
       "      <td>NaN</td>\n",
       "      <td>NaN</td>\n",
       "      <td>None</td>\n",
       "    </tr>\n",
       "    <tr>\n",
       "      <th>32717</th>\n",
       "      <td>32720</td>\n",
       "      <td>Male</td>\n",
       "      <td>65 or Above</td>\n",
       "      <td>Married/civil union/domestic partnership</td>\n",
       "      <td>Employed full time</td>\n",
       "      <td>Yes</td>\n",
       "      <td>No</td>\n",
       "      <td>Graduate or professional degree</td>\n",
       "      <td>$150,000 or more</td>\n",
       "      <td>NaN</td>\n",
       "      <td>I like dogs.</td>\n",
       "      <td>Brie</td>\n",
       "      <td>NaN</td>\n",
       "      <td>NaN</td>\n",
       "      <td>NaN</td>\n",
       "      <td>NaN</td>\n",
       "      <td>NaN</td>\n",
       "      <td>NaN</td>\n",
       "      <td>North America</td>\n",
       "    </tr>\n",
       "    <tr>\n",
       "      <th>32719</th>\n",
       "      <td>32722</td>\n",
       "      <td>Female</td>\n",
       "      <td>25-34</td>\n",
       "      <td>Married/civil union/domestic partnership</td>\n",
       "      <td>Not employed and not looking for work</td>\n",
       "      <td>No</td>\n",
       "      <td>No</td>\n",
       "      <td>Graduate or professional degree</td>\n",
       "      <td>none</td>\n",
       "      <td>NaN</td>\n",
       "      <td>I like cats.</td>\n",
       "      <td>Cheddar</td>\n",
       "      <td>NaN</td>\n",
       "      <td>NaN</td>\n",
       "      <td>NaN</td>\n",
       "      <td>NaN</td>\n",
       "      <td>NaN</td>\n",
       "      <td>NaN</td>\n",
       "      <td>Europe</td>\n",
       "    </tr>\n",
       "    <tr>\n",
       "      <th>32725</th>\n",
       "      <td>32728</td>\n",
       "      <td>Male</td>\n",
       "      <td>25-34</td>\n",
       "      <td>Married/civil union/domestic partnership</td>\n",
       "      <td>Employed full time</td>\n",
       "      <td>No</td>\n",
       "      <td>Yes</td>\n",
       "      <td>Some college</td>\n",
       "      <td>$100,000 - $149,999</td>\n",
       "      <td>NaN</td>\n",
       "      <td>I like dogs.</td>\n",
       "      <td>Other</td>\n",
       "      <td>NaN</td>\n",
       "      <td>NaN</td>\n",
       "      <td>NaN</td>\n",
       "      <td>NaN</td>\n",
       "      <td>NaN</td>\n",
       "      <td>NaN</td>\n",
       "      <td>North America</td>\n",
       "    </tr>\n",
       "    <tr>\n",
       "      <th>32726</th>\n",
       "      <td>32729</td>\n",
       "      <td>Male</td>\n",
       "      <td>18-24</td>\n",
       "      <td>Single</td>\n",
       "      <td>Student</td>\n",
       "      <td>No</td>\n",
       "      <td>No</td>\n",
       "      <td>Some college</td>\n",
       "      <td>$30,000 - $39,999</td>\n",
       "      <td>NaN</td>\n",
       "      <td>I like dogs.</td>\n",
       "      <td>American</td>\n",
       "      <td>NaN</td>\n",
       "      <td>NaN</td>\n",
       "      <td>NaN</td>\n",
       "      <td>NaN</td>\n",
       "      <td>NaN</td>\n",
       "      <td>NaN</td>\n",
       "      <td>North America</td>\n",
       "    </tr>\n",
       "    <tr>\n",
       "      <th>32731</th>\n",
       "      <td>32734</td>\n",
       "      <td>Female</td>\n",
       "      <td>25-34</td>\n",
       "      <td>Engaged</td>\n",
       "      <td>None</td>\n",
       "      <td>No</td>\n",
       "      <td>No</td>\n",
       "      <td>Associate degree</td>\n",
       "      <td>$40,000 - $49,999</td>\n",
       "      <td>NaN</td>\n",
       "      <td>I like dogs.</td>\n",
       "      <td>Cheddar</td>\n",
       "      <td>NaN</td>\n",
       "      <td>NaN</td>\n",
       "      <td>NaN</td>\n",
       "      <td>NaN</td>\n",
       "      <td>NaN</td>\n",
       "      <td>NaN</td>\n",
       "      <td>None</td>\n",
       "    </tr>\n",
       "    <tr>\n",
       "      <th>32732</th>\n",
       "      <td>32735</td>\n",
       "      <td>Male</td>\n",
       "      <td>18-24</td>\n",
       "      <td>Single</td>\n",
       "      <td>Student</td>\n",
       "      <td>No</td>\n",
       "      <td>No</td>\n",
       "      <td>High school graduate or equivalent</td>\n",
       "      <td>$150,000 or more</td>\n",
       "      <td>NaN</td>\n",
       "      <td>I like dogs.</td>\n",
       "      <td>Goat</td>\n",
       "      <td>NaN</td>\n",
       "      <td>NaN</td>\n",
       "      <td>NaN</td>\n",
       "      <td>NaN</td>\n",
       "      <td>NaN</td>\n",
       "      <td>NaN</td>\n",
       "      <td>North America</td>\n",
       "    </tr>\n",
       "    <tr>\n",
       "      <th>32733</th>\n",
       "      <td>32736</td>\n",
       "      <td>Female</td>\n",
       "      <td>25-34</td>\n",
       "      <td>In a relationship</td>\n",
       "      <td>Employed full time</td>\n",
       "      <td>No</td>\n",
       "      <td>No</td>\n",
       "      <td>Bachelor's degree</td>\n",
       "      <td>$40,000 - $49,999</td>\n",
       "      <td>NaN</td>\n",
       "      <td>I like turtles.</td>\n",
       "      <td>Brie</td>\n",
       "      <td>NaN</td>\n",
       "      <td>NaN</td>\n",
       "      <td>NaN</td>\n",
       "      <td>NaN</td>\n",
       "      <td>NaN</td>\n",
       "      <td>NaN</td>\n",
       "      <td>North America</td>\n",
       "    </tr>\n",
       "    <tr>\n",
       "      <th>32738</th>\n",
       "      <td>32741</td>\n",
       "      <td>Male</td>\n",
       "      <td>25-34</td>\n",
       "      <td>Single</td>\n",
       "      <td>Employed full time</td>\n",
       "      <td>No</td>\n",
       "      <td>No</td>\n",
       "      <td>Some college</td>\n",
       "      <td>$50,000 - $69,999</td>\n",
       "      <td>NaN</td>\n",
       "      <td>I like turtles.</td>\n",
       "      <td>Brie</td>\n",
       "      <td>NaN</td>\n",
       "      <td>NaN</td>\n",
       "      <td>NaN</td>\n",
       "      <td>NaN</td>\n",
       "      <td>NaN</td>\n",
       "      <td>NaN</td>\n",
       "      <td>Oceania</td>\n",
       "    </tr>\n",
       "    <tr>\n",
       "      <th>32745</th>\n",
       "      <td>32748</td>\n",
       "      <td>Male</td>\n",
       "      <td>45-54</td>\n",
       "      <td>Single</td>\n",
       "      <td>Employed full time</td>\n",
       "      <td>No</td>\n",
       "      <td>No</td>\n",
       "      <td>Associate degree</td>\n",
       "      <td>$20,000 - $29,999</td>\n",
       "      <td>NaN</td>\n",
       "      <td>I like cats.</td>\n",
       "      <td>Brie</td>\n",
       "      <td>NaN</td>\n",
       "      <td>NaN</td>\n",
       "      <td>NaN</td>\n",
       "      <td>NaN</td>\n",
       "      <td>NaN</td>\n",
       "      <td>NaN</td>\n",
       "      <td>North America</td>\n",
       "    </tr>\n",
       "    <tr>\n",
       "      <th>32747</th>\n",
       "      <td>32750</td>\n",
       "      <td>Male</td>\n",
       "      <td>25-34</td>\n",
       "      <td>In a relationship</td>\n",
       "      <td>Freelance</td>\n",
       "      <td>No</td>\n",
       "      <td>No</td>\n",
       "      <td>Bachelor's degree</td>\n",
       "      <td>Under $20,000</td>\n",
       "      <td>NaN</td>\n",
       "      <td>I like cats.</td>\n",
       "      <td>Cheddar</td>\n",
       "      <td>NaN</td>\n",
       "      <td>NaN</td>\n",
       "      <td>NaN</td>\n",
       "      <td>NaN</td>\n",
       "      <td>NaN</td>\n",
       "      <td>NaN</td>\n",
       "      <td>North America</td>\n",
       "    </tr>\n",
       "    <tr>\n",
       "      <th>32748</th>\n",
       "      <td>32751</td>\n",
       "      <td>Male</td>\n",
       "      <td>25-34</td>\n",
       "      <td>In a relationship</td>\n",
       "      <td>Employed full time</td>\n",
       "      <td>Yes</td>\n",
       "      <td>No</td>\n",
       "      <td>Bachelor's degree</td>\n",
       "      <td>$150,000 or more</td>\n",
       "      <td>NaN</td>\n",
       "      <td>I like dogs.</td>\n",
       "      <td>Provolone</td>\n",
       "      <td>NaN</td>\n",
       "      <td>NaN</td>\n",
       "      <td>NaN</td>\n",
       "      <td>NaN</td>\n",
       "      <td>NaN</td>\n",
       "      <td>NaN</td>\n",
       "      <td>Asia</td>\n",
       "    </tr>\n",
       "    <tr>\n",
       "      <th>32749</th>\n",
       "      <td>32752</td>\n",
       "      <td>Female</td>\n",
       "      <td>18-24</td>\n",
       "      <td>Single</td>\n",
       "      <td>Student</td>\n",
       "      <td>No</td>\n",
       "      <td>No</td>\n",
       "      <td>High school graduate or equivalent</td>\n",
       "      <td>Under $20,000</td>\n",
       "      <td>NaN</td>\n",
       "      <td>I like cats.</td>\n",
       "      <td>Feta</td>\n",
       "      <td>NaN</td>\n",
       "      <td>NaN</td>\n",
       "      <td>NaN</td>\n",
       "      <td>NaN</td>\n",
       "      <td>NaN</td>\n",
       "      <td>NaN</td>\n",
       "      <td>Europe</td>\n",
       "    </tr>\n",
       "    <tr>\n",
       "      <th>32752</th>\n",
       "      <td>32755</td>\n",
       "      <td>Male</td>\n",
       "      <td>35-44</td>\n",
       "      <td>In a relationship</td>\n",
       "      <td>Employed full time</td>\n",
       "      <td>No</td>\n",
       "      <td>Yes</td>\n",
       "      <td>Bachelor's degree</td>\n",
       "      <td>$100,000 - $149,999</td>\n",
       "      <td>NaN</td>\n",
       "      <td>I like cats.</td>\n",
       "      <td>Swiss</td>\n",
       "      <td>NaN</td>\n",
       "      <td>NaN</td>\n",
       "      <td>NaN</td>\n",
       "      <td>NaN</td>\n",
       "      <td>NaN</td>\n",
       "      <td>NaN</td>\n",
       "      <td>North America</td>\n",
       "    </tr>\n",
       "  </tbody>\n",
       "</table>\n",
       "<p>4335 rows × 19 columns</p>\n",
       "</div>"
      ],
      "text/plain": [
       "       Entry Id Please indicate your gender.  \\\n",
       "9            10                         Male   \n",
       "13           14                         Male   \n",
       "29           30                       Female   \n",
       "52           53                         Male   \n",
       "61           62                         Male   \n",
       "75           76                         Male   \n",
       "79           80                         Male   \n",
       "89           90                         Male   \n",
       "103         104                         Male   \n",
       "162         163                       Female   \n",
       "168         169                         Male   \n",
       "169         170                         Male   \n",
       "176         177                         Male   \n",
       "177         178                         Male   \n",
       "179         180                         Male   \n",
       "189         190                         Male   \n",
       "205         206                         Male   \n",
       "215         216                         Male   \n",
       "217         218                         Male   \n",
       "224         225                         Male   \n",
       "228         229                         Male   \n",
       "237         238                         Male   \n",
       "245         246                         Male   \n",
       "247         248                       Female   \n",
       "263         264                         Male   \n",
       "265         266                         Male   \n",
       "284         285                       Female   \n",
       "292         293                         Male   \n",
       "298         299                         Male   \n",
       "301         302                         Male   \n",
       "...         ...                          ...   \n",
       "32639     32642                         Male   \n",
       "32644     32647                       Female   \n",
       "32648     32651                       Female   \n",
       "32652     32655                       Female   \n",
       "32660     32663                         Male   \n",
       "32661     32664                       Female   \n",
       "32662     32665                       Female   \n",
       "32670     32673                       Female   \n",
       "32672     32675                         Male   \n",
       "32675     32678                         Male   \n",
       "32698     32701                         None   \n",
       "32699     32702                       Female   \n",
       "32701     32704                       Female   \n",
       "32703     32706                         Male   \n",
       "32711     32714                         Male   \n",
       "32714     32717                         Male   \n",
       "32716     32719                         None   \n",
       "32717     32720                         Male   \n",
       "32719     32722                       Female   \n",
       "32725     32728                         Male   \n",
       "32726     32729                         Male   \n",
       "32731     32734                       Female   \n",
       "32732     32735                         Male   \n",
       "32733     32736                       Female   \n",
       "32738     32741                         Male   \n",
       "32745     32748                         Male   \n",
       "32747     32750                         Male   \n",
       "32748     32751                         Male   \n",
       "32749     32752                       Female   \n",
       "32752     32755                         Male   \n",
       "\n",
       "      Please select the category that includes your age.  \\\n",
       "9                                                  25-34   \n",
       "13                                                 18-24   \n",
       "29                                                 18-24   \n",
       "52                                                 25-34   \n",
       "61                                                 25-34   \n",
       "75                                                 35-44   \n",
       "79                                                 25-34   \n",
       "89                                                 18-24   \n",
       "103                                                25-34   \n",
       "162                                                25-34   \n",
       "168                                                25-34   \n",
       "169                                                25-34   \n",
       "176                                                18-24   \n",
       "177                                                25-34   \n",
       "179                                                25-34   \n",
       "189                                             Under 18   \n",
       "205                                                18-24   \n",
       "215                                                45-54   \n",
       "217                                                25-34   \n",
       "224                                                25-34   \n",
       "228                                                18-24   \n",
       "237                                                25-34   \n",
       "245                                                18-24   \n",
       "247                                                18-24   \n",
       "263                                                18-24   \n",
       "265                                                18-24   \n",
       "284                                                18-24   \n",
       "292                                                25-34   \n",
       "298                                                25-34   \n",
       "301                                                25-34   \n",
       "...                                                  ...   \n",
       "32639                                              18-24   \n",
       "32644                                              25-34   \n",
       "32648                                              18-24   \n",
       "32652                                              35-44   \n",
       "32660                                              18-24   \n",
       "32661                                              25-34   \n",
       "32662                                              18-24   \n",
       "32670                                           Under 18   \n",
       "32672                                              25-34   \n",
       "32675                                              25-34   \n",
       "32698                                               None   \n",
       "32699                                              55-64   \n",
       "32701                                              25-34   \n",
       "32703                                              25-34   \n",
       "32711                                              18-24   \n",
       "32714                                              25-34   \n",
       "32716                                               None   \n",
       "32717                                        65 or Above   \n",
       "32719                                              25-34   \n",
       "32725                                              25-34   \n",
       "32726                                              18-24   \n",
       "32731                                              25-34   \n",
       "32732                                              18-24   \n",
       "32733                                              25-34   \n",
       "32738                                              25-34   \n",
       "32745                                              45-54   \n",
       "32747                                              25-34   \n",
       "32748                                              25-34   \n",
       "32749                                              18-24   \n",
       "32752                                              35-44   \n",
       "\n",
       "                   What is your marital status?  \\\n",
       "9                             In a relationship   \n",
       "13                                Forever Alone   \n",
       "29                                Forever Alone   \n",
       "52                                       Single   \n",
       "61                                       Single   \n",
       "75                                       Single   \n",
       "79                                       Single   \n",
       "89                                       Single   \n",
       "103                           In a relationship   \n",
       "162                                      Single   \n",
       "168    Married/civil union/domestic partnership   \n",
       "169    Married/civil union/domestic partnership   \n",
       "176                           In a relationship   \n",
       "177                           In a relationship   \n",
       "179    Married/civil union/domestic partnership   \n",
       "189                               Forever Alone   \n",
       "205                                      Single   \n",
       "215                                      Single   \n",
       "217                           In a relationship   \n",
       "224                                      Single   \n",
       "228                           In a relationship   \n",
       "237    Married/civil union/domestic partnership   \n",
       "245                                      Single   \n",
       "247                               Forever Alone   \n",
       "263                           In a relationship   \n",
       "265                                      Single   \n",
       "284                                      Single   \n",
       "292                           In a relationship   \n",
       "298                           In a relationship   \n",
       "301                               Forever Alone   \n",
       "...                                         ...   \n",
       "32639                         In a relationship   \n",
       "32644  Married/civil union/domestic partnership   \n",
       "32648                                   Engaged   \n",
       "32652                             Forever Alone   \n",
       "32660                                    Single   \n",
       "32661  Married/civil union/domestic partnership   \n",
       "32662                             Forever Alone   \n",
       "32670                             Forever Alone   \n",
       "32672                                    Single   \n",
       "32675                         In a relationship   \n",
       "32698                             Forever Alone   \n",
       "32699  Married/civil union/domestic partnership   \n",
       "32701  Married/civil union/domestic partnership   \n",
       "32703                                    Single   \n",
       "32711                                    Single   \n",
       "32714  Married/civil union/domestic partnership   \n",
       "32716                             Forever Alone   \n",
       "32717  Married/civil union/domestic partnership   \n",
       "32719  Married/civil union/domestic partnership   \n",
       "32725  Married/civil union/domestic partnership   \n",
       "32726                                    Single   \n",
       "32731                                   Engaged   \n",
       "32732                                    Single   \n",
       "32733                         In a relationship   \n",
       "32738                                    Single   \n",
       "32745                                    Single   \n",
       "32747                         In a relationship   \n",
       "32748                         In a relationship   \n",
       "32749                                    Single   \n",
       "32752                         In a relationship   \n",
       "\n",
       "      What best describes your employment status?  \\\n",
       "9                                       Freelance   \n",
       "13                                        Student   \n",
       "29                                        Student   \n",
       "52             Not employed, but looking for work   \n",
       "61                             Employed full time   \n",
       "75                                      Freelance   \n",
       "79                             Employed full time   \n",
       "89                                        Student   \n",
       "103                                       Student   \n",
       "162                                       Student   \n",
       "168                            Employed full time   \n",
       "169                            Employed full time   \n",
       "176                                       Student   \n",
       "177                            Employed full time   \n",
       "179                            Employed full time   \n",
       "189                                       Student   \n",
       "205            Not employed, but looking for work   \n",
       "215                                       Retired   \n",
       "217                            Employed full time   \n",
       "224                            Employed full time   \n",
       "228                                       Student   \n",
       "237                            Employed full time   \n",
       "245                            Employed full time   \n",
       "247                                       Student   \n",
       "263                                       Student   \n",
       "265                                       Student   \n",
       "284                                       Student   \n",
       "292                                       Student   \n",
       "298                            Employed full time   \n",
       "301                            Employed full time   \n",
       "...                                           ...   \n",
       "32639                                     Student   \n",
       "32644                                     Student   \n",
       "32648                          Employed full time   \n",
       "32652                          Employed full time   \n",
       "32660                                     Student   \n",
       "32661                                     Student   \n",
       "32662                                     Student   \n",
       "32670                                     Student   \n",
       "32672                          Employed full time   \n",
       "32675                          Employed full time   \n",
       "32698                                        None   \n",
       "32699                                   Freelance   \n",
       "32701                          Employed full time   \n",
       "32703                          Employed full time   \n",
       "32711                          Employed full time   \n",
       "32714                          Employed full time   \n",
       "32716                                        None   \n",
       "32717                          Employed full time   \n",
       "32719       Not employed and not looking for work   \n",
       "32725                          Employed full time   \n",
       "32726                                     Student   \n",
       "32731                                        None   \n",
       "32732                                     Student   \n",
       "32733                          Employed full time   \n",
       "32738                          Employed full time   \n",
       "32745                          Employed full time   \n",
       "32747                                   Freelance   \n",
       "32748                          Employed full time   \n",
       "32749                                     Student   \n",
       "32752                          Employed full time   \n",
       "\n",
       "      Are you or have you ever been in military service?  \\\n",
       "9                                                     No   \n",
       "13                                                    No   \n",
       "29                                                    No   \n",
       "52                                                    No   \n",
       "61                                                   Yes   \n",
       "75                                                    No   \n",
       "79                                                    No   \n",
       "89                                                    No   \n",
       "103                                                   No   \n",
       "162                                                   No   \n",
       "168                                                   No   \n",
       "169                                                   No   \n",
       "176                                                  Yes   \n",
       "177                                                   No   \n",
       "179                                                   No   \n",
       "189                                                  Yes   \n",
       "205                                                   No   \n",
       "215                                                   No   \n",
       "217                                                   No   \n",
       "224                                                   No   \n",
       "228                                                   No   \n",
       "237                                                   No   \n",
       "245                                                   No   \n",
       "247                                                   No   \n",
       "263                                                   No   \n",
       "265                                                   No   \n",
       "284                                                   No   \n",
       "292                                                   No   \n",
       "298                                                   No   \n",
       "301                                                   No   \n",
       "...                                                  ...   \n",
       "32639                                                 No   \n",
       "32644                                                Yes   \n",
       "32648                                                 No   \n",
       "32652                                                 No   \n",
       "32660                                                 No   \n",
       "32661                                                 No   \n",
       "32662                                                 No   \n",
       "32670                                                 No   \n",
       "32672                                                 No   \n",
       "32675                                                 No   \n",
       "32698                                                Yes   \n",
       "32699                                                 No   \n",
       "32701                                                 No   \n",
       "32703                                                 No   \n",
       "32711                                                 No   \n",
       "32714                                                 No   \n",
       "32716                                                Yes   \n",
       "32717                                                Yes   \n",
       "32719                                                 No   \n",
       "32725                                                 No   \n",
       "32726                                                 No   \n",
       "32731                                                 No   \n",
       "32732                                                 No   \n",
       "32733                                                 No   \n",
       "32738                                                 No   \n",
       "32745                                                 No   \n",
       "32747                                                 No   \n",
       "32748                                                Yes   \n",
       "32749                                                 No   \n",
       "32752                                                 No   \n",
       "\n",
       "      Do you currently have children under the age of 18 living in your household?  \\\n",
       "9                                                     No                             \n",
       "13                                                    No                             \n",
       "29                                                    No                             \n",
       "52                                                    No                             \n",
       "61                                                    No                             \n",
       "75                                                    No                             \n",
       "79                                                    No                             \n",
       "89                                                    No                             \n",
       "103                                                   No                             \n",
       "162                                                   No                             \n",
       "168                                                   No                             \n",
       "169                                                   No                             \n",
       "176                                                   No                             \n",
       "177                                                   No                             \n",
       "179                                                  Yes                             \n",
       "189                                                   No                             \n",
       "205                                                   No                             \n",
       "215                                                   No                             \n",
       "217                                                   No                             \n",
       "224                                                   No                             \n",
       "228                                                  Yes                             \n",
       "237                                                   No                             \n",
       "245                                                   No                             \n",
       "247                                                  Yes                             \n",
       "263                                                   No                             \n",
       "265                                                   No                             \n",
       "284                                                   No                             \n",
       "292                                                   No                             \n",
       "298                                                   No                             \n",
       "301                                                   No                             \n",
       "...                                                  ...                             \n",
       "32639                                                 No                             \n",
       "32644                                                 No                             \n",
       "32648                                                 No                             \n",
       "32652                                                 No                             \n",
       "32660                                                 No                             \n",
       "32661                                                 No                             \n",
       "32662                                                 No                             \n",
       "32670                                                Yes                             \n",
       "32672                                                Yes                             \n",
       "32675                                                 No                             \n",
       "32698                                               None                             \n",
       "32699                                                 No                             \n",
       "32701                                                 No                             \n",
       "32703                                                Yes                             \n",
       "32711                                                 No                             \n",
       "32714                                                Yes                             \n",
       "32716                                               None                             \n",
       "32717                                                 No                             \n",
       "32719                                                 No                             \n",
       "32725                                                Yes                             \n",
       "32726                                                 No                             \n",
       "32731                                                 No                             \n",
       "32732                                                 No                             \n",
       "32733                                                 No                             \n",
       "32738                                                 No                             \n",
       "32745                                                 No                             \n",
       "32747                                                 No                             \n",
       "32748                                                 No                             \n",
       "32749                                                 No                             \n",
       "32752                                                Yes                             \n",
       "\n",
       "      What best describes your level of education?  \\\n",
       "9                                     Some college   \n",
       "13                                    Some college   \n",
       "29                                    Some college   \n",
       "52                               Bachelor's degree   \n",
       "61                                    Some college   \n",
       "75                                    Some college   \n",
       "79                               Bachelor's degree   \n",
       "89                                    Some college   \n",
       "103                              Bachelor's degree   \n",
       "162                              Bachelor's degree   \n",
       "168                Graduate or professional degree   \n",
       "169                              Bachelor's degree   \n",
       "176                                   Some college   \n",
       "177                              Bachelor's degree   \n",
       "179                              Bachelor's degree   \n",
       "189                               Some high school   \n",
       "205                              Bachelor's degree   \n",
       "215                               Associate degree   \n",
       "217                Graduate or professional degree   \n",
       "224                                   Some college   \n",
       "228                                   Some college   \n",
       "237                Graduate or professional degree   \n",
       "245                              Bachelor's degree   \n",
       "247                              Bachelor's degree   \n",
       "263                Graduate or professional degree   \n",
       "265                              Bachelor's degree   \n",
       "284             High school graduate or equivalent   \n",
       "292                Graduate or professional degree   \n",
       "298                              Bachelor's degree   \n",
       "301                Graduate or professional degree   \n",
       "...                                            ...   \n",
       "32639           High school graduate or equivalent   \n",
       "32644              Graduate or professional degree   \n",
       "32648                            Bachelor's degree   \n",
       "32652                            Bachelor's degree   \n",
       "32660                                 Some college   \n",
       "32661                            Bachelor's degree   \n",
       "32662                                 Some college   \n",
       "32670                             Some high school   \n",
       "32672           High school graduate or equivalent   \n",
       "32675           High school graduate or equivalent   \n",
       "32698                                         None   \n",
       "32699                            Bachelor's degree   \n",
       "32701              Graduate or professional degree   \n",
       "32703           High school graduate or equivalent   \n",
       "32711                                 Some college   \n",
       "32714                            Bachelor's degree   \n",
       "32716                                         None   \n",
       "32717              Graduate or professional degree   \n",
       "32719              Graduate or professional degree   \n",
       "32725                                 Some college   \n",
       "32726                                 Some college   \n",
       "32731                             Associate degree   \n",
       "32732           High school graduate or equivalent   \n",
       "32733                            Bachelor's degree   \n",
       "32738                                 Some college   \n",
       "32745                             Associate degree   \n",
       "32747                            Bachelor's degree   \n",
       "32748                            Bachelor's degree   \n",
       "32749           High school graduate or equivalent   \n",
       "32752                            Bachelor's degree   \n",
       "\n",
       "      Which one of the following ranges includes your total yearly household income before taxes?  \\\n",
       "9                                      $70,000 - $99,999                                            \n",
       "13                                         Under $20,000                                            \n",
       "29                                                  none                                            \n",
       "52                                     $70,000 - $99,999                                            \n",
       "61                                     $20,000 - $29,999                                            \n",
       "75                                     $70,000 - $99,999                                            \n",
       "79                                     $40,000 - $49,999                                            \n",
       "89                                      $150,000 or more                                            \n",
       "103                                    $20,000 - $29,999                                            \n",
       "162                                        Under $20,000                                            \n",
       "168                                  $100,000 - $149,999                                            \n",
       "169                                    $50,000 - $69,999                                            \n",
       "176                                        Under $20,000                                            \n",
       "177                                     $150,000 or more                                            \n",
       "179                                    $50,000 - $69,999                                            \n",
       "189                                                 none                                            \n",
       "205                                    $40,000 - $49,999                                            \n",
       "215                                    $40,000 - $49,999                                            \n",
       "217                                    $20,000 - $29,999                                            \n",
       "224                                    $40,000 - $49,999                                            \n",
       "228                                                 none                                            \n",
       "237                                  $100,000 - $149,999                                            \n",
       "245                                    $50,000 - $69,999                                            \n",
       "247                                    $30,000 - $39,999                                            \n",
       "263                                        Under $20,000                                            \n",
       "265                                                 none                                            \n",
       "284                                    $20,000 - $29,999                                            \n",
       "292                                    $20,000 - $29,999                                            \n",
       "298                                                 none                                            \n",
       "301                                    $20,000 - $29,999                                            \n",
       "...                                                  ...                                            \n",
       "32639                                  $20,000 - $29,999                                            \n",
       "32644                                  $70,000 - $99,999                                            \n",
       "32648                                      Under $20,000                                            \n",
       "32652                                  $50,000 - $69,999                                            \n",
       "32660                                $100,000 - $149,999                                            \n",
       "32661                                  $50,000 - $69,999                                            \n",
       "32662                                $100,000 - $149,999                                            \n",
       "32670                                      Under $20,000                                            \n",
       "32672                                  $40,000 - $49,999                                            \n",
       "32675                                               none                                            \n",
       "32698                                               none                                            \n",
       "32699                                $100,000 - $149,999                                            \n",
       "32701                                      Under $20,000                                            \n",
       "32703                                  $40,000 - $49,999                                            \n",
       "32711                                  $20,000 - $29,999                                            \n",
       "32714                                $100,000 - $149,999                                            \n",
       "32716                                               none                                            \n",
       "32717                                   $150,000 or more                                            \n",
       "32719                                               none                                            \n",
       "32725                                $100,000 - $149,999                                            \n",
       "32726                                  $30,000 - $39,999                                            \n",
       "32731                                  $40,000 - $49,999                                            \n",
       "32732                                   $150,000 or more                                            \n",
       "32733                                  $40,000 - $49,999                                            \n",
       "32738                                  $50,000 - $69,999                                            \n",
       "32745                                  $20,000 - $29,999                                            \n",
       "32747                                      Under $20,000                                            \n",
       "32748                                   $150,000 or more                                            \n",
       "32749                                      Under $20,000                                            \n",
       "32752                                $100,000 - $149,999                                            \n",
       "\n",
       "      treated subreddit data Are you a dog or a cat person?  \\\n",
       "9                        NaN                   I like cats.   \n",
       "13                       NaN                   I like cats.   \n",
       "29                       NaN                   I like dogs.   \n",
       "52                       NaN                   I like cats.   \n",
       "61                       NaN                   I like cats.   \n",
       "75                       NaN                   I like cats.   \n",
       "79                       NaN                   I like cats.   \n",
       "89                       NaN                   I like cats.   \n",
       "103                      NaN                   I like dogs.   \n",
       "162                      NaN                I like turtles.   \n",
       "168                      NaN                   I like dogs.   \n",
       "169                      NaN                   I like dogs.   \n",
       "176                      NaN                   I like dogs.   \n",
       "177                      NaN                   I like dogs.   \n",
       "179                      NaN                   I like cats.   \n",
       "189                      NaN                   I like dogs.   \n",
       "205                      NaN                   I like dogs.   \n",
       "215                      NaN                   I like cats.   \n",
       "217                      NaN                   I like dogs.   \n",
       "224                      NaN                   I like dogs.   \n",
       "228                      NaN                   I like dogs.   \n",
       "237                      NaN                   I like dogs.   \n",
       "245                      NaN                   I like dogs.   \n",
       "247                      NaN                   I like dogs.   \n",
       "263                      NaN                   I like dogs.   \n",
       "265                      NaN                   I like dogs.   \n",
       "284                      NaN                   I like dogs.   \n",
       "292                      NaN                   I like dogs.   \n",
       "298                      NaN                   I like dogs.   \n",
       "301                      NaN                I like turtles.   \n",
       "...                      ...                            ...   \n",
       "32639                    NaN                   I like cats.   \n",
       "32644                    NaN                   I like dogs.   \n",
       "32648                    NaN                   I like dogs.   \n",
       "32652                    NaN                I like turtles.   \n",
       "32660                    NaN                   I like cats.   \n",
       "32661                    NaN                   I like dogs.   \n",
       "32662                    NaN                I like turtles.   \n",
       "32670                    NaN                   I like dogs.   \n",
       "32672                    NaN                I like turtles.   \n",
       "32675                    NaN                I like turtles.   \n",
       "32698                    NaN                   I like dogs.   \n",
       "32699                    NaN                   I like cats.   \n",
       "32701                    NaN                I like turtles.   \n",
       "32703                    NaN                   I like dogs.   \n",
       "32711                    NaN                I like turtles.   \n",
       "32714                    NaN                   I like dogs.   \n",
       "32716                    NaN                   I like dogs.   \n",
       "32717                    NaN                   I like dogs.   \n",
       "32719                    NaN                   I like cats.   \n",
       "32725                    NaN                   I like dogs.   \n",
       "32726                    NaN                   I like dogs.   \n",
       "32731                    NaN                   I like dogs.   \n",
       "32732                    NaN                   I like dogs.   \n",
       "32733                    NaN                I like turtles.   \n",
       "32738                    NaN                I like turtles.   \n",
       "32745                    NaN                   I like cats.   \n",
       "32747                    NaN                   I like cats.   \n",
       "32748                    NaN                   I like dogs.   \n",
       "32749                    NaN                   I like cats.   \n",
       "32752                    NaN                   I like cats.   \n",
       "\n",
       "      If you were a cheese, what cheese would you be? Unnamed: 14 Unnamed: 15  \\\n",
       "9                                             Munster         NaN         NaN   \n",
       "13                                              Swiss         NaN         NaN   \n",
       "29                                           American         NaN         NaN   \n",
       "52                                          Provolone         NaN         NaN   \n",
       "61                                              Other         NaN         NaN   \n",
       "75                                              Other         NaN         NaN   \n",
       "79                                               Brie         NaN         NaN   \n",
       "89                                               Brie         NaN         NaN   \n",
       "103                                              Goat         NaN         NaN   \n",
       "162                                              Goat         NaN         NaN   \n",
       "168                                              Goat         NaN         NaN   \n",
       "169                                             Other         NaN         NaN   \n",
       "176                                             Swiss         NaN         NaN   \n",
       "177                                              Brie         NaN         NaN   \n",
       "179                                             Other         NaN         NaN   \n",
       "189                                           Munster         NaN         NaN   \n",
       "205                                           Cheddar         NaN         NaN   \n",
       "215                                         Provolone         NaN         NaN   \n",
       "217                                         Provolone         NaN         NaN   \n",
       "224                                             Swiss         NaN         NaN   \n",
       "228                                           Munster         NaN         NaN   \n",
       "237                                           Cheddar         NaN         NaN   \n",
       "245                                              Brie         NaN         NaN   \n",
       "247                                           Cheddar         NaN         NaN   \n",
       "263                                              Goat         NaN         NaN   \n",
       "265                                             Other         NaN         NaN   \n",
       "284                                              Goat         NaN         NaN   \n",
       "292                                             Other         NaN         NaN   \n",
       "298                                           Munster         NaN         NaN   \n",
       "301                                            Paneer         NaN         NaN   \n",
       "...                                               ...         ...         ...   \n",
       "32639                                            Brie         NaN         NaN   \n",
       "32644                                            Feta         NaN         NaN   \n",
       "32648                                         Cheddar         NaN         NaN   \n",
       "32652                                            Brie         NaN         NaN   \n",
       "32660                                           Other         NaN         NaN   \n",
       "32661                                            Brie         NaN         NaN   \n",
       "32662                                            Goat         NaN         NaN   \n",
       "32670                                            Brie         NaN         NaN   \n",
       "32672                                           Other         NaN         NaN   \n",
       "32675                                       Provolone         NaN         NaN   \n",
       "32698                                         Munster         NaN         NaN   \n",
       "32699                                         Cheddar         NaN         NaN   \n",
       "32701                                            Feta         NaN         NaN   \n",
       "32703                                           Other         NaN         NaN   \n",
       "32711                                            Brie         NaN         NaN   \n",
       "32714                                           Other         NaN         NaN   \n",
       "32716                                         Munster         NaN         NaN   \n",
       "32717                                            Brie         NaN         NaN   \n",
       "32719                                         Cheddar         NaN         NaN   \n",
       "32725                                           Other         NaN         NaN   \n",
       "32726                                        American         NaN         NaN   \n",
       "32731                                         Cheddar         NaN         NaN   \n",
       "32732                                            Goat         NaN         NaN   \n",
       "32733                                            Brie         NaN         NaN   \n",
       "32738                                            Brie         NaN         NaN   \n",
       "32745                                            Brie         NaN         NaN   \n",
       "32747                                         Cheddar         NaN         NaN   \n",
       "32748                                       Provolone         NaN         NaN   \n",
       "32749                                            Feta         NaN         NaN   \n",
       "32752                                           Swiss         NaN         NaN   \n",
       "\n",
       "      Unnamed: 16 Unnamed: 17 Unnamed: 18 Unnamed: 19      continent  \n",
       "9             NaN         NaN         NaN         NaN         Europe  \n",
       "13            NaN         NaN         NaN         NaN         Europe  \n",
       "29            NaN         NaN         NaN         NaN  North America  \n",
       "52            NaN         NaN         NaN         NaN  North America  \n",
       "61            NaN         NaN         NaN         NaN         Europe  \n",
       "75            NaN         NaN         NaN         NaN         Europe  \n",
       "79            NaN         NaN         NaN         NaN  North America  \n",
       "89            NaN         NaN         NaN         NaN  North America  \n",
       "103           NaN         NaN         NaN         NaN  North America  \n",
       "162           NaN         NaN         NaN         NaN  North America  \n",
       "168           NaN         NaN         NaN         NaN  North America  \n",
       "169           NaN         NaN         NaN         NaN  North America  \n",
       "176           NaN         NaN         NaN         NaN  North America  \n",
       "177           NaN         NaN         NaN         NaN  North America  \n",
       "179           NaN         NaN         NaN         NaN  North America  \n",
       "189           NaN         NaN         NaN         NaN           None  \n",
       "205           NaN         NaN         NaN         NaN  North America  \n",
       "215           NaN         NaN         NaN         NaN  North America  \n",
       "217           NaN         NaN         NaN         NaN  North America  \n",
       "224           NaN         NaN         NaN         NaN  North America  \n",
       "228           NaN         NaN         NaN         NaN  North America  \n",
       "237           NaN         NaN         NaN         NaN  North America  \n",
       "245           NaN         NaN         NaN         NaN  North America  \n",
       "247           NaN         NaN         NaN         NaN  North America  \n",
       "263           NaN         NaN         NaN         NaN  North America  \n",
       "265           NaN         NaN         NaN         NaN         Europe  \n",
       "284           NaN         NaN         NaN         NaN           None  \n",
       "292           NaN         NaN         NaN         NaN  North America  \n",
       "298           NaN         NaN         NaN         NaN  North America  \n",
       "301           NaN         NaN         NaN         NaN           Asia  \n",
       "...           ...         ...         ...         ...            ...  \n",
       "32639         NaN         NaN         NaN         NaN         Europe  \n",
       "32644         NaN         NaN         NaN         NaN        Oceania  \n",
       "32648         NaN         NaN         NaN         NaN  North America  \n",
       "32652         NaN         NaN         NaN         NaN  North America  \n",
       "32660         NaN         NaN         NaN         NaN  North America  \n",
       "32661         NaN         NaN         NaN         NaN  North America  \n",
       "32662         NaN         NaN         NaN         NaN  North America  \n",
       "32670         NaN         NaN         NaN         NaN        Oceania  \n",
       "32672         NaN         NaN         NaN         NaN           None  \n",
       "32675         NaN         NaN         NaN         NaN           None  \n",
       "32698         NaN         NaN         NaN         NaN           None  \n",
       "32699         NaN         NaN         NaN         NaN  North America  \n",
       "32701         NaN         NaN         NaN         NaN           Asia  \n",
       "32703         NaN         NaN         NaN         NaN  North America  \n",
       "32711         NaN         NaN         NaN         NaN  North America  \n",
       "32714         NaN         NaN         NaN         NaN  North America  \n",
       "32716         NaN         NaN         NaN         NaN           None  \n",
       "32717         NaN         NaN         NaN         NaN  North America  \n",
       "32719         NaN         NaN         NaN         NaN         Europe  \n",
       "32725         NaN         NaN         NaN         NaN  North America  \n",
       "32726         NaN         NaN         NaN         NaN  North America  \n",
       "32731         NaN         NaN         NaN         NaN           None  \n",
       "32732         NaN         NaN         NaN         NaN  North America  \n",
       "32733         NaN         NaN         NaN         NaN  North America  \n",
       "32738         NaN         NaN         NaN         NaN        Oceania  \n",
       "32745         NaN         NaN         NaN         NaN  North America  \n",
       "32747         NaN         NaN         NaN         NaN  North America  \n",
       "32748         NaN         NaN         NaN         NaN           Asia  \n",
       "32749         NaN         NaN         NaN         NaN         Europe  \n",
       "32752         NaN         NaN         NaN         NaN  North America  \n",
       "\n",
       "[4335 rows x 19 columns]"
      ]
     },
     "execution_count": 17,
     "metadata": {},
     "output_type": "execute_result"
    }
   ],
   "source": [
    "df[df['treated subreddit data'].isnull()]"
   ]
  },
  {
   "cell_type": "code",
   "execution_count": 18,
   "metadata": {
    "collapsed": false
   },
   "outputs": [],
   "source": [
    "# I assumed that the treated subreddit data is the list of subreddits which users like.\n",
    "#Also every redditers will definitely like the \"all\" subreddit. Beacause that subreddit is the most visited one.\n",
    "#So i've filled the missing data with \"all\"\n",
    "df['treated subreddit data'] = df['treated subreddit data'].fillna(value='all')"
   ]
  },
  {
   "cell_type": "code",
   "execution_count": 19,
   "metadata": {
    "collapsed": false
   },
   "outputs": [
    {
     "data": {
      "text/html": [
       "<div>\n",
       "<table border=\"1\" class=\"dataframe\">\n",
       "  <thead>\n",
       "    <tr style=\"text-align: right;\">\n",
       "      <th></th>\n",
       "      <th>Entry Id</th>\n",
       "      <th>Please indicate your gender.</th>\n",
       "      <th>Please select the category that includes your age.</th>\n",
       "      <th>What is your marital status?</th>\n",
       "      <th>What best describes your employment status?</th>\n",
       "      <th>Are you or have you ever been in military service?</th>\n",
       "      <th>Do you currently have children under the age of 18 living in your household?</th>\n",
       "      <th>What best describes your level of education?</th>\n",
       "      <th>Which one of the following ranges includes your total yearly household income before taxes?</th>\n",
       "      <th>treated subreddit data</th>\n",
       "      <th>Are you a dog or a cat person?</th>\n",
       "      <th>If you were a cheese, what cheese would you be?</th>\n",
       "      <th>Unnamed: 14</th>\n",
       "      <th>Unnamed: 15</th>\n",
       "      <th>Unnamed: 16</th>\n",
       "      <th>Unnamed: 17</th>\n",
       "      <th>Unnamed: 18</th>\n",
       "      <th>Unnamed: 19</th>\n",
       "      <th>continent</th>\n",
       "    </tr>\n",
       "  </thead>\n",
       "  <tbody>\n",
       "  </tbody>\n",
       "</table>\n",
       "</div>"
      ],
      "text/plain": [
       "Empty DataFrame\n",
       "Columns: [Entry Id, Please indicate your gender., Please select the category that includes your age., What is your marital status?, What best describes your employment status?, Are you or have you ever been in military service?, Do you currently have children under the age of 18 living in your household?, What best describes your level of education?, Which one of the following ranges includes your total yearly household income before taxes?, treated subreddit data, Are you a dog or a cat person?, If you were a cheese, what cheese would you be?, Unnamed: 14, Unnamed: 15, Unnamed: 16, Unnamed: 17, Unnamed: 18, Unnamed: 19, continent]\n",
       "Index: []"
      ]
     },
     "execution_count": 19,
     "metadata": {},
     "output_type": "execute_result"
    }
   ],
   "source": [
    "#checking 'treated subreddit data' again for any null value\n",
    "df[df['treated subreddit data'].isnull()]"
   ]
  },
  {
   "cell_type": "code",
   "execution_count": 20,
   "metadata": {
    "collapsed": false
   },
   "outputs": [
    {
     "data": {
      "text/html": [
       "<div>\n",
       "<table border=\"1\" class=\"dataframe\">\n",
       "  <thead>\n",
       "    <tr style=\"text-align: right;\">\n",
       "      <th></th>\n",
       "      <th>Entry Id</th>\n",
       "      <th>Please indicate your gender.</th>\n",
       "      <th>Please select the category that includes your age.</th>\n",
       "      <th>What is your marital status?</th>\n",
       "      <th>What best describes your employment status?</th>\n",
       "      <th>Are you or have you ever been in military service?</th>\n",
       "      <th>Do you currently have children under the age of 18 living in your household?</th>\n",
       "      <th>What best describes your level of education?</th>\n",
       "      <th>Which one of the following ranges includes your total yearly household income before taxes?</th>\n",
       "      <th>treated subreddit data</th>\n",
       "      <th>Are you a dog or a cat person?</th>\n",
       "      <th>If you were a cheese, what cheese would you be?</th>\n",
       "      <th>Unnamed: 14</th>\n",
       "      <th>Unnamed: 15</th>\n",
       "      <th>Unnamed: 16</th>\n",
       "      <th>Unnamed: 17</th>\n",
       "      <th>Unnamed: 18</th>\n",
       "      <th>Unnamed: 19</th>\n",
       "      <th>continent</th>\n",
       "    </tr>\n",
       "  </thead>\n",
       "  <tbody>\n",
       "    <tr>\n",
       "      <th>2705</th>\n",
       "      <td>2706</td>\n",
       "      <td>Male</td>\n",
       "      <td>18-24</td>\n",
       "      <td>Single</td>\n",
       "      <td>Not employed, but looking for work</td>\n",
       "      <td>No</td>\n",
       "      <td>No</td>\n",
       "      <td>Bachelor's degree</td>\n",
       "      <td>none</td>\n",
       "      <td>DROP TABLE `users`</td>\n",
       "      <td>NaN</td>\n",
       "      <td>1</td>\n",
       "      <td>7/13/11 15:47</td>\n",
       "      <td>public</td>\n",
       "      <td>NaN</td>\n",
       "      <td>NaN</td>\n",
       "      <td>NaN</td>\n",
       "      <td>NaN</td>\n",
       "      <td>None</td>\n",
       "    </tr>\n",
       "    <tr>\n",
       "      <th>30331</th>\n",
       "      <td>30334</td>\n",
       "      <td>Male</td>\n",
       "      <td>25-34</td>\n",
       "      <td>In a relationship</td>\n",
       "      <td>Employed full time</td>\n",
       "      <td>No</td>\n",
       "      <td>No</td>\n",
       "      <td>Bachelor's degree</td>\n",
       "      <td>$70,000 - $99,999</td>\n",
       "      <td>DROP TABLE USERS</td>\n",
       "      <td>NaN</td>\n",
       "      <td>programming')</td>\n",
       "      <td>7/14/11 12:12</td>\n",
       "      <td>public</td>\n",
       "      <td>NaN</td>\n",
       "      <td>NaN</td>\n",
       "      <td>NaN</td>\n",
       "      <td>NaN</td>\n",
       "      <td>North America</td>\n",
       "    </tr>\n",
       "  </tbody>\n",
       "</table>\n",
       "</div>"
      ],
      "text/plain": [
       "       Entry Id Please indicate your gender.  \\\n",
       "2705       2706                         Male   \n",
       "30331     30334                         Male   \n",
       "\n",
       "      Please select the category that includes your age.  \\\n",
       "2705                                               18-24   \n",
       "30331                                              25-34   \n",
       "\n",
       "      What is your marital status?  \\\n",
       "2705                        Single   \n",
       "30331            In a relationship   \n",
       "\n",
       "      What best describes your employment status?  \\\n",
       "2705           Not employed, but looking for work   \n",
       "30331                          Employed full time   \n",
       "\n",
       "      Are you or have you ever been in military service?  \\\n",
       "2705                                                  No   \n",
       "30331                                                 No   \n",
       "\n",
       "      Do you currently have children under the age of 18 living in your household?  \\\n",
       "2705                                                  No                             \n",
       "30331                                                 No                             \n",
       "\n",
       "      What best describes your level of education?  \\\n",
       "2705                             Bachelor's degree   \n",
       "30331                            Bachelor's degree   \n",
       "\n",
       "      Which one of the following ranges includes your total yearly household income before taxes?  \\\n",
       "2705                                                none                                            \n",
       "30331                                  $70,000 - $99,999                                            \n",
       "\n",
       "      treated subreddit data Are you a dog or a cat person?  \\\n",
       "2705      DROP TABLE `users`                            NaN   \n",
       "30331       DROP TABLE USERS                            NaN   \n",
       "\n",
       "      If you were a cheese, what cheese would you be?    Unnamed: 14  \\\n",
       "2705                                                1  7/13/11 15:47   \n",
       "30331                                   programming')  7/14/11 12:12   \n",
       "\n",
       "      Unnamed: 15 Unnamed: 16 Unnamed: 17 Unnamed: 18 Unnamed: 19  \\\n",
       "2705       public         NaN         NaN         NaN         NaN   \n",
       "30331      public         NaN         NaN         NaN         NaN   \n",
       "\n",
       "           continent  \n",
       "2705            None  \n",
       "30331  North America  "
      ]
     },
     "execution_count": 20,
     "metadata": {},
     "output_type": "execute_result"
    }
   ],
   "source": [
    "df[df['Are you a dog or a cat person?'].isnull()]"
   ]
  },
  {
   "cell_type": "code",
   "execution_count": 21,
   "metadata": {
    "collapsed": false
   },
   "outputs": [],
   "source": [
    "# there are only two entries. So assigning none to them\n",
    "df['Are you a dog or a cat person?'] = df['Are you a dog or a cat person?'].fillna(value='none')"
   ]
  },
  {
   "cell_type": "code",
   "execution_count": 22,
   "metadata": {
    "collapsed": false
   },
   "outputs": [
    {
     "data": {
      "text/html": [
       "<div>\n",
       "<table border=\"1\" class=\"dataframe\">\n",
       "  <thead>\n",
       "    <tr style=\"text-align: right;\">\n",
       "      <th></th>\n",
       "      <th>Entry Id</th>\n",
       "      <th>Please indicate your gender.</th>\n",
       "      <th>Please select the category that includes your age.</th>\n",
       "      <th>What is your marital status?</th>\n",
       "      <th>What best describes your employment status?</th>\n",
       "      <th>Are you or have you ever been in military service?</th>\n",
       "      <th>Do you currently have children under the age of 18 living in your household?</th>\n",
       "      <th>What best describes your level of education?</th>\n",
       "      <th>Which one of the following ranges includes your total yearly household income before taxes?</th>\n",
       "      <th>treated subreddit data</th>\n",
       "      <th>Are you a dog or a cat person?</th>\n",
       "      <th>If you were a cheese, what cheese would you be?</th>\n",
       "      <th>Unnamed: 14</th>\n",
       "      <th>Unnamed: 15</th>\n",
       "      <th>Unnamed: 16</th>\n",
       "      <th>Unnamed: 17</th>\n",
       "      <th>Unnamed: 18</th>\n",
       "      <th>Unnamed: 19</th>\n",
       "      <th>continent</th>\n",
       "    </tr>\n",
       "  </thead>\n",
       "  <tbody>\n",
       "  </tbody>\n",
       "</table>\n",
       "</div>"
      ],
      "text/plain": [
       "Empty DataFrame\n",
       "Columns: [Entry Id, Please indicate your gender., Please select the category that includes your age., What is your marital status?, What best describes your employment status?, Are you or have you ever been in military service?, Do you currently have children under the age of 18 living in your household?, What best describes your level of education?, Which one of the following ranges includes your total yearly household income before taxes?, treated subreddit data, Are you a dog or a cat person?, If you were a cheese, what cheese would you be?, Unnamed: 14, Unnamed: 15, Unnamed: 16, Unnamed: 17, Unnamed: 18, Unnamed: 19, continent]\n",
       "Index: []"
      ]
     },
     "execution_count": 22,
     "metadata": {},
     "output_type": "execute_result"
    }
   ],
   "source": [
    "#checking 'Are you a dog or a cat person?' again for any null value\n",
    "df[df['Are you a dog or a cat person?'].isnull()]"
   ]
  },
  {
   "cell_type": "code",
   "execution_count": 23,
   "metadata": {
    "collapsed": false
   },
   "outputs": [
    {
     "data": {
      "text/html": [
       "<div>\n",
       "<table border=\"1\" class=\"dataframe\">\n",
       "  <thead>\n",
       "    <tr style=\"text-align: right;\">\n",
       "      <th></th>\n",
       "      <th>Entry Id</th>\n",
       "      <th>Please indicate your gender.</th>\n",
       "      <th>Please select the category that includes your age.</th>\n",
       "      <th>What is your marital status?</th>\n",
       "      <th>What best describes your employment status?</th>\n",
       "      <th>Are you or have you ever been in military service?</th>\n",
       "      <th>Do you currently have children under the age of 18 living in your household?</th>\n",
       "      <th>What best describes your level of education?</th>\n",
       "      <th>Which one of the following ranges includes your total yearly household income before taxes?</th>\n",
       "      <th>treated subreddit data</th>\n",
       "      <th>Are you a dog or a cat person?</th>\n",
       "      <th>If you were a cheese, what cheese would you be?</th>\n",
       "      <th>Unnamed: 14</th>\n",
       "      <th>Unnamed: 15</th>\n",
       "      <th>Unnamed: 16</th>\n",
       "      <th>Unnamed: 17</th>\n",
       "      <th>Unnamed: 18</th>\n",
       "      <th>Unnamed: 19</th>\n",
       "      <th>continent</th>\n",
       "    </tr>\n",
       "  </thead>\n",
       "  <tbody>\n",
       "  </tbody>\n",
       "</table>\n",
       "</div>"
      ],
      "text/plain": [
       "Empty DataFrame\n",
       "Columns: [Entry Id, Please indicate your gender., Please select the category that includes your age., What is your marital status?, What best describes your employment status?, Are you or have you ever been in military service?, Do you currently have children under the age of 18 living in your household?, What best describes your level of education?, Which one of the following ranges includes your total yearly household income before taxes?, treated subreddit data, Are you a dog or a cat person?, If you were a cheese, what cheese would you be?, Unnamed: 14, Unnamed: 15, Unnamed: 16, Unnamed: 17, Unnamed: 18, Unnamed: 19, continent]\n",
       "Index: []"
      ]
     },
     "execution_count": 23,
     "metadata": {},
     "output_type": "execute_result"
    }
   ],
   "source": [
    "df[df['If you were a cheese, what cheese would you be?'].isnull()]"
   ]
  },
  {
   "cell_type": "code",
   "execution_count": 24,
   "metadata": {
    "collapsed": false
   },
   "outputs": [
    {
     "data": {
      "text/html": [
       "<div>\n",
       "<table border=\"1\" class=\"dataframe\">\n",
       "  <thead>\n",
       "    <tr style=\"text-align: right;\">\n",
       "      <th></th>\n",
       "      <th>Entry Id</th>\n",
       "      <th>Please indicate your gender.</th>\n",
       "      <th>Please select the category that includes your age.</th>\n",
       "      <th>What is your marital status?</th>\n",
       "      <th>What best describes your employment status?</th>\n",
       "      <th>Are you or have you ever been in military service?</th>\n",
       "      <th>Do you currently have children under the age of 18 living in your household?</th>\n",
       "      <th>What best describes your level of education?</th>\n",
       "      <th>Which one of the following ranges includes your total yearly household income before taxes?</th>\n",
       "      <th>treated subreddit data</th>\n",
       "      <th>Are you a dog or a cat person?</th>\n",
       "      <th>If you were a cheese, what cheese would you be?</th>\n",
       "      <th>Unnamed: 14</th>\n",
       "      <th>Unnamed: 15</th>\n",
       "      <th>Unnamed: 16</th>\n",
       "      <th>Unnamed: 17</th>\n",
       "      <th>Unnamed: 18</th>\n",
       "      <th>Unnamed: 19</th>\n",
       "      <th>continent</th>\n",
       "    </tr>\n",
       "  </thead>\n",
       "  <tbody>\n",
       "  </tbody>\n",
       "</table>\n",
       "</div>"
      ],
      "text/plain": [
       "Empty DataFrame\n",
       "Columns: [Entry Id, Please indicate your gender., Please select the category that includes your age., What is your marital status?, What best describes your employment status?, Are you or have you ever been in military service?, Do you currently have children under the age of 18 living in your household?, What best describes your level of education?, Which one of the following ranges includes your total yearly household income before taxes?, treated subreddit data, Are you a dog or a cat person?, If you were a cheese, what cheese would you be?, Unnamed: 14, Unnamed: 15, Unnamed: 16, Unnamed: 17, Unnamed: 18, Unnamed: 19, continent]\n",
       "Index: []"
      ]
     },
     "execution_count": 24,
     "metadata": {},
     "output_type": "execute_result"
    }
   ],
   "source": [
    "df[df['continent'].isnull()]"
   ]
  },
  {
   "cell_type": "markdown",
   "metadata": {},
   "source": [
    "### iv. Dropping blank columns\n",
    "There were some blank colums present. Dropping them"
   ]
  },
  {
   "cell_type": "code",
   "execution_count": 25,
   "metadata": {
    "collapsed": true
   },
   "outputs": [],
   "source": [
    "df.drop('Unnamed: 14', axis=1, inplace=True)\n",
    "df.drop('Unnamed: 15', axis=1, inplace=True)\n",
    "df.drop('Unnamed: 16', axis=1, inplace=True)\n",
    "df.drop('Unnamed: 17', axis=1, inplace=True)\n",
    "df.drop('Unnamed: 18', axis=1, inplace=True)\n",
    "df.drop('Unnamed: 19', axis=1, inplace=True)"
   ]
  },
  {
   "cell_type": "code",
   "execution_count": 26,
   "metadata": {
    "collapsed": false
   },
   "outputs": [
    {
     "data": {
      "text/plain": [
       "Index([u'Entry Id', u'Please indicate your gender.',\n",
       "       u'Please select the category that includes your age.',\n",
       "       u'What is your marital status?',\n",
       "       u'What best describes your employment status?',\n",
       "       u'Are you or have you ever been in military service?',\n",
       "       u'Do you currently have children under the age of 18 living in your household?',\n",
       "       u'What best describes your level of education?',\n",
       "       u'Which one of the following ranges includes your total yearly household income before taxes?',\n",
       "       u'treated subreddit data', u'Are you a dog or a cat person?',\n",
       "       u'If you were a cheese, what cheese would you be?', u'continent'],\n",
       "      dtype='object')"
      ]
     },
     "execution_count": 26,
     "metadata": {},
     "output_type": "execute_result"
    }
   ],
   "source": [
    "df.columns"
   ]
  },
  {
   "cell_type": "markdown",
   "metadata": {},
   "source": [
    "### v. Cleaning Bad data\n",
    "I will be checking every column for bad data and cleaning appropriately if anything is found"
   ]
  },
  {
   "cell_type": "code",
   "execution_count": 27,
   "metadata": {
    "collapsed": false
   },
   "outputs": [
    {
     "data": {
      "text/plain": [
       "array(['Male', 'Female', 'None'], dtype=object)"
      ]
     },
     "execution_count": 27,
     "metadata": {},
     "output_type": "execute_result"
    }
   ],
   "source": [
    "df['Please indicate your gender.'].unique()"
   ]
  },
  {
   "cell_type": "code",
   "execution_count": 28,
   "metadata": {
    "collapsed": false
   },
   "outputs": [
    {
     "data": {
      "text/plain": [
       "array(['25-34', '18-24', '35-44', '45-54', 'Under 18', '55-64',\n",
       "       '65 or Above', 'None'], dtype=object)"
      ]
     },
     "execution_count": 28,
     "metadata": {},
     "output_type": "execute_result"
    }
   ],
   "source": [
    "df['Please select the category that includes your age.'].unique()"
   ]
  },
  {
   "cell_type": "code",
   "execution_count": 29,
   "metadata": {
    "collapsed": false
   },
   "outputs": [
    {
     "data": {
      "text/plain": [
       "array(['Blank', 'Married/civil union/domestic partnership',\n",
       "       'In a relationship', 'Forever Alone', 'Single', 'Engaged', 'Widowed'], dtype=object)"
      ]
     },
     "execution_count": 29,
     "metadata": {},
     "output_type": "execute_result"
    }
   ],
   "source": [
    "df['What is your marital status?'].unique()"
   ]
  },
  {
   "cell_type": "code",
   "execution_count": 30,
   "metadata": {
    "collapsed": false
   },
   "outputs": [
    {
     "data": {
      "text/plain": [
       "array(['Employed full time', 'Freelance',\n",
       "       'Not employed, but looking for work',\n",
       "       'Not employed and not looking for work', 'Student', 'None',\n",
       "       'Retired'], dtype=object)"
      ]
     },
     "execution_count": 30,
     "metadata": {},
     "output_type": "execute_result"
    }
   ],
   "source": [
    "df['What best describes your employment status?'].unique()"
   ]
  },
  {
   "cell_type": "code",
   "execution_count": 31,
   "metadata": {
    "collapsed": false
   },
   "outputs": [
    {
     "data": {
      "text/plain": [
       "array(['none', 'No', 'Yes'], dtype=object)"
      ]
     },
     "execution_count": 31,
     "metadata": {},
     "output_type": "execute_result"
    }
   ],
   "source": [
    "df['Are you or have you ever been in military service?'].unique()"
   ]
  },
  {
   "cell_type": "code",
   "execution_count": 32,
   "metadata": {
    "collapsed": false
   },
   "outputs": [
    {
     "data": {
      "text/plain": [
       "array(['No', 'Yes', 'None'], dtype=object)"
      ]
     },
     "execution_count": 32,
     "metadata": {},
     "output_type": "execute_result"
    }
   ],
   "source": [
    "df['Do you currently have children under the age of 18 living in your household?'].unique()"
   ]
  },
  {
   "cell_type": "code",
   "execution_count": 33,
   "metadata": {
    "collapsed": false
   },
   "outputs": [
    {
     "data": {
      "text/plain": [
       "array([\"Bachelor's degree\", 'Some college',\n",
       "       'High school graduate or equivalent',\n",
       "       'Graduate or professional degree', 'Trade or Vocational degree',\n",
       "       'Associate degree', 'Some high school', 'None'], dtype=object)"
      ]
     },
     "execution_count": 33,
     "metadata": {},
     "output_type": "execute_result"
    }
   ],
   "source": [
    "df['What best describes your level of education?'].unique()"
   ]
  },
  {
   "cell_type": "code",
   "execution_count": 34,
   "metadata": {
    "collapsed": false
   },
   "outputs": [
    {
     "data": {
      "text/plain": [
       "array(['$150,000 or more', 'Under $20,000', '$70,000 - $99,999', 'none',\n",
       "       '$40,000 - $49,999', '$50,000 - $69,999', '$100,000 - $149,999',\n",
       "       '$20,000 - $29,999', '$30,000 - $39,999'], dtype=object)"
      ]
     },
     "execution_count": 34,
     "metadata": {},
     "output_type": "execute_result"
    }
   ],
   "source": [
    "df['Which one of the following ranges includes your total yearly household income before taxes?'].unique()"
   ]
  },
  {
   "cell_type": "code",
   "execution_count": 35,
   "metadata": {
    "collapsed": false
   },
   "outputs": [
    {
     "data": {
      "text/plain": [
       "array(['getmotivated', 'gaming', 'snackexchange', ...,\n",
       "       'this is new to me. like the blog.', 'gurrenlagann', 'maps'], dtype=object)"
      ]
     },
     "execution_count": 35,
     "metadata": {},
     "output_type": "execute_result"
    }
   ],
   "source": [
    "df['treated subreddit data'].unique()\n",
    "# No uniquess in the data"
   ]
  },
  {
   "cell_type": "code",
   "execution_count": 36,
   "metadata": {
    "collapsed": false
   },
   "outputs": [
    {
     "data": {
      "text/plain": [
       "array(['none', 'I like dogs.', 'I like cats.', 'I like turtles.',\n",
       "       'askreddit', 'movies', ' Reddit.com'], dtype=object)"
      ]
     },
     "execution_count": 36,
     "metadata": {},
     "output_type": "execute_result"
    }
   ],
   "source": [
    "df['Are you a dog or a cat person?'].unique()"
   ]
  },
  {
   "cell_type": "code",
   "execution_count": 37,
   "metadata": {
    "collapsed": false
   },
   "outputs": [],
   "source": [
    "# Function for cleaning bad values in cat or dog person.\n",
    "df['Are you a dog or a cat person?'].replace('askreddit|movies| Reddit.com', 'none', regex=True, inplace=True)\n",
    "    "
   ]
  },
  {
   "cell_type": "code",
   "execution_count": 38,
   "metadata": {
    "collapsed": false
   },
   "outputs": [
    {
     "data": {
      "text/plain": [
       "array(['none', 'I like dogs.', 'I like cats.', 'I like turtles.'], dtype=object)"
      ]
     },
     "execution_count": 38,
     "metadata": {},
     "output_type": "execute_result"
    }
   ],
   "source": [
    "df['Are you a dog or a cat person?'].unique()"
   ]
  },
  {
   "cell_type": "code",
   "execution_count": 39,
   "metadata": {
    "collapsed": false
   },
   "outputs": [
    {
     "data": {
      "text/plain": [
       "array(['none', 'Cheddar', 'American', 'Provolone', 'Munster', 'Swiss',\n",
       "       'Goat', 'Feta', 'Other', 'Brie', 'Paneer', 'Limburger', '1',\n",
       "       ' awww', ' f7u12', \"programming')\", ' Pics'], dtype=object)"
      ]
     },
     "execution_count": 39,
     "metadata": {},
     "output_type": "execute_result"
    }
   ],
   "source": [
    "df['If you were a cheese, what cheese would you be?'].unique()"
   ]
  },
  {
   "cell_type": "code",
   "execution_count": 40,
   "metadata": {
    "collapsed": false
   },
   "outputs": [],
   "source": [
    "# Cleaning bad values in cheese\n",
    "df['If you were a cheese, what cheese would you be?'].replace('1|awww| f7u12| Pics', 'none', regex=True, inplace=True)\n",
    "df['If you were a cheese, what cheese would you be?'].replace(' none', 'none', regex=True, inplace=True)"
   ]
  },
  {
   "cell_type": "code",
   "execution_count": 41,
   "metadata": {
    "collapsed": false
   },
   "outputs": [
    {
     "data": {
      "text/plain": [
       "array(['none', 'Cheddar', 'American', 'Provolone', 'Munster', 'Swiss',\n",
       "       'Goat', 'Feta', 'Other', 'Brie', 'Paneer', 'Limburger',\n",
       "       \"programming')\"], dtype=object)"
      ]
     },
     "execution_count": 41,
     "metadata": {},
     "output_type": "execute_result"
    }
   ],
   "source": [
    "df['If you were a cheese, what cheese would you be?'].unique()"
   ]
  },
  {
   "cell_type": "code",
   "execution_count": 42,
   "metadata": {
    "collapsed": false
   },
   "outputs": [
    {
     "data": {
      "text/plain": [
       "array(['North America', 'Europe', 'None', 'Oceania', 'Asia',\n",
       "       'South America', 'Africa'], dtype=object)"
      ]
     },
     "execution_count": 42,
     "metadata": {},
     "output_type": "execute_result"
    }
   ],
   "source": [
    "df.continent.unique()"
   ]
  },
  {
   "cell_type": "markdown",
   "metadata": {
    "collapsed": true
   },
   "source": [
    "### vi. Visualizing the data"
   ]
  },
  {
   "cell_type": "code",
   "execution_count": 43,
   "metadata": {
    "collapsed": false
   },
   "outputs": [
    {
     "data": {
      "text/plain": [
       "Index([u'Entry Id', u'Please indicate your gender.',\n",
       "       u'Please select the category that includes your age.',\n",
       "       u'What is your marital status?',\n",
       "       u'What best describes your employment status?',\n",
       "       u'Are you or have you ever been in military service?',\n",
       "       u'Do you currently have children under the age of 18 living in your household?',\n",
       "       u'What best describes your level of education?',\n",
       "       u'Which one of the following ranges includes your total yearly household income before taxes?',\n",
       "       u'treated subreddit data', u'Are you a dog or a cat person?',\n",
       "       u'If you were a cheese, what cheese would you be?', u'continent'],\n",
       "      dtype='object')"
      ]
     },
     "execution_count": 43,
     "metadata": {},
     "output_type": "execute_result"
    }
   ],
   "source": [
    "df.columns"
   ]
  },
  {
   "cell_type": "code",
   "execution_count": 44,
   "metadata": {
    "collapsed": false
   },
   "outputs": [
    {
     "data": {
      "text/plain": [
       "Male      26418\n",
       "Female     6135\n",
       "None        201\n",
       "Name: Please indicate your gender., dtype: int64"
      ]
     },
     "execution_count": 44,
     "metadata": {},
     "output_type": "execute_result"
    }
   ],
   "source": [
    "df['Please indicate your gender.'].value_counts()"
   ]
  },
  {
   "cell_type": "code",
   "execution_count": 45,
   "metadata": {
    "collapsed": false
   },
   "outputs": [
    {
     "data": {
      "text/plain": [
       "<matplotlib.axes._subplots.AxesSubplot at 0x7fb4a7caeb90>"
      ]
     },
     "execution_count": 45,
     "metadata": {},
     "output_type": "execute_result"
    },
    {
     "data": {
      "image/png": "[encoded data removed]",
      "text/plain": [
       "<matplotlib.figure.Figure at 0x7fb4a7cae210>"
      ]
     },
     "metadata": {},
     "output_type": "display_data"
    }
   ],
   "source": [
    "df['Please indicate your gender.'].value_counts().plot(kind='bar',title=\"Genders\")"
   ]
  },
  {
   "cell_type": "code",
   "execution_count": 46,
   "metadata": {
    "collapsed": false
   },
   "outputs": [
    {
     "data": {
      "text/plain": [
       "18-24          15802\n",
       "25-34          11575\n",
       "Under 18        2330\n",
       "35-44           2257\n",
       "45-54            502\n",
       "55-64            140\n",
       "None              88\n",
       "65 or Above       60\n",
       "Name: Please select the category that includes your age., dtype: int64"
      ]
     },
     "execution_count": 46,
     "metadata": {},
     "output_type": "execute_result"
    }
   ],
   "source": [
    "df['Please select the category that includes your age.'].value_counts()"
   ]
  },
  {
   "cell_type": "code",
   "execution_count": 47,
   "metadata": {
    "collapsed": false
   },
   "outputs": [
    {
     "data": {
      "text/plain": [
       "<matplotlib.axes._subplots.AxesSubplot at 0x7fb4a7c60a90>"
      ]
     },
     "execution_count": 47,
     "metadata": {},
     "output_type": "execute_result"
    },
    {
     "data": {
      "image/png": "[encoded data removed]",
      "text/plain": [
       "<matplotlib.figure.Figure at 0x7fb4a7c7c3d0>"
      ]
     },
     "metadata": {},
     "output_type": "display_data"
    }
   ],
   "source": [
    "df['Please select the category that includes your age.'].value_counts().plot(kind='bar',title=\"Age\")"
   ]
  },
  {
   "cell_type": "code",
   "execution_count": 48,
   "metadata": {
    "collapsed": false
   },
   "outputs": [
    {
     "data": {
      "text/plain": [
       "Single                                      10428\n",
       "In a relationship                            9828\n",
       "Forever Alone                                5850\n",
       "Married/civil union/domestic partnership     5490\n",
       "Engaged                                      1109\n",
       "Widowed                                        44\n",
       "Blank                                           5\n",
       "Name: What is your marital status?, dtype: int64"
      ]
     },
     "execution_count": 48,
     "metadata": {},
     "output_type": "execute_result"
    }
   ],
   "source": [
    "df['What is your marital status?'].value_counts()"
   ]
  },
  {
   "cell_type": "code",
   "execution_count": 49,
   "metadata": {
    "collapsed": false
   },
   "outputs": [
    {
     "data": {
      "text/plain": [
       "<matplotlib.axes._subplots.AxesSubplot at 0x7fb4a78106d0>"
      ]
     },
     "execution_count": 49,
     "metadata": {},
     "output_type": "execute_result"
    },
    {
     "data": {
      "image/png": "[encoded data removed]",
      "text/plain": [
       "<matplotlib.figure.Figure at 0x7fb4a78fbdd0>"
      ]
     },
     "metadata": {},
     "output_type": "display_data"
    }
   ],
   "source": [
    "df['What is your marital status?'].value_counts().plot(kind='bar',title=\"Maritial Status\")"
   ]
  },
  {
   "cell_type": "code",
   "execution_count": 50,
   "metadata": {
    "collapsed": false
   },
   "outputs": [
    {
     "data": {
      "text/plain": [
       "Employed full time                       14814\n",
       "Student                                  12987\n",
       "Not employed, but looking for work        2087\n",
       "Freelance                                 1948\n",
       "Not employed and not looking for work      682\n",
       "None                                       151\n",
       "Retired                                     85\n",
       "Name: What best describes your employment status?, dtype: int64"
      ]
     },
     "execution_count": 50,
     "metadata": {},
     "output_type": "execute_result"
    }
   ],
   "source": [
    "df['What best describes your employment status?'].value_counts()"
   ]
  },
  {
   "cell_type": "code",
   "execution_count": 51,
   "metadata": {
    "collapsed": false
   },
   "outputs": [
    {
     "data": {
      "text/plain": [
       "<matplotlib.axes._subplots.AxesSubplot at 0x7fb4a7871250>"
      ]
     },
     "execution_count": 51,
     "metadata": {},
     "output_type": "execute_result"
    },
    {
     "data": {
      "image/png": "[encoded data removed]",
      "text/plain": [
       "<matplotlib.figure.Figure at 0x7fb4a5fa9cd0>"
      ]
     },
     "metadata": {},
     "output_type": "display_data"
    }
   ],
   "source": [
    "df['What best describes your employment status?'].value_counts().plot(kind='bar',title=\"Employment Status\")"
   ]
  },
  {
   "cell_type": "code",
   "execution_count": 52,
   "metadata": {
    "collapsed": false
   },
   "outputs": [
    {
     "data": {
      "text/plain": [
       "No      30526\n",
       "Yes      2223\n",
       "none        5\n",
       "Name: Are you or have you ever been in military service?, dtype: int64"
      ]
     },
     "execution_count": 52,
     "metadata": {},
     "output_type": "execute_result"
    }
   ],
   "source": [
    "df['Are you or have you ever been in military service?'].value_counts()"
   ]
  },
  {
   "cell_type": "code",
   "execution_count": 53,
   "metadata": {
    "collapsed": false
   },
   "outputs": [
    {
     "data": {
      "text/plain": [
       "<matplotlib.axes._subplots.AxesSubplot at 0x7fb4a5f87890>"
      ]
     },
     "execution_count": 53,
     "metadata": {},
     "output_type": "execute_result"
    },
    {
     "data": {
      "image/png": "[encoded data removed]",
      "text/plain": [
       "<matplotlib.figure.Figure at 0x7fb4a5f03e50>"
      ]
     },
     "metadata": {},
     "output_type": "display_data"
    }
   ],
   "source": [
    "df['Are you or have you ever been in military service?'].value_counts().plot(kind='bar',title=\"Military Service\")"
   ]
  },
  {
   "cell_type": "code",
   "execution_count": 54,
   "metadata": {
    "collapsed": false
   },
   "outputs": [
    {
     "data": {
      "text/plain": [
       "No      27488\n",
       "Yes      5047\n",
       "None      219\n",
       "Name: Do you currently have children under the age of 18 living in your household?, dtype: int64"
      ]
     },
     "execution_count": 54,
     "metadata": {},
     "output_type": "execute_result"
    }
   ],
   "source": [
    "df['Do you currently have children under the age of 18 living in your household?'].value_counts()"
   ]
  },
  {
   "cell_type": "code",
   "execution_count": 55,
   "metadata": {
    "collapsed": false
   },
   "outputs": [
    {
     "data": {
      "text/plain": [
       "<matplotlib.axes._subplots.AxesSubplot at 0x7fb4a5e65250>"
      ]
     },
     "execution_count": 55,
     "metadata": {},
     "output_type": "execute_result"
    },
    {
     "data": {
      "image/png": "[encoded data removed]",
      "text/plain": [
       "<matplotlib.figure.Figure at 0x7fb4a5e712d0>"
      ]
     },
     "metadata": {},
     "output_type": "display_data"
    }
   ],
   "source": [
    "df['Do you currently have children under the age of 18 living in your household?'].value_counts().plot(kind='bar',title=\"Children\")"
   ]
  },
  {
   "cell_type": "code",
   "execution_count": 56,
   "metadata": {
    "collapsed": false
   },
   "outputs": [
    {
     "data": {
      "text/plain": [
       "Bachelor's degree                     11046\n",
       "Some college                           9600\n",
       "Graduate or professional degree        4722\n",
       "High school graduate or equivalent     3272\n",
       "Some high school                       1924\n",
       "Associate degree                       1411\n",
       "Trade or Vocational degree              635\n",
       "None                                    144\n",
       "Name: What best describes your level of education?, dtype: int64"
      ]
     },
     "execution_count": 56,
     "metadata": {},
     "output_type": "execute_result"
    }
   ],
   "source": [
    "df['What best describes your level of education?'].value_counts()"
   ]
  },
  {
   "cell_type": "code",
   "execution_count": 57,
   "metadata": {
    "collapsed": false
   },
   "outputs": [
    {
     "data": {
      "text/plain": [
       "<matplotlib.axes._subplots.AxesSubplot at 0x7fb4a5ee9450>"
      ]
     },
     "execution_count": 57,
     "metadata": {},
     "output_type": "execute_result"
    },
    {
     "data": {
      "image/png": "[encoded data removed]",
      "text/plain": [
       "<matplotlib.figure.Figure at 0x7fb4a5da5e50>"
      ]
     },
     "metadata": {},
     "output_type": "display_data"
    }
   ],
   "source": [
    "df['What best describes your level of education?'].value_counts().plot(kind='bar',title=\"Education\")"
   ]
  },
  {
   "cell_type": "code",
   "execution_count": 58,
   "metadata": {
    "collapsed": false
   },
   "outputs": [
    {
     "data": {
      "text/plain": [
       "I like dogs.       17149\n",
       "I like cats.       11152\n",
       "I like turtles.     4442\n",
       "none                  11\n",
       "Name: Are you a dog or a cat person?, dtype: int64"
      ]
     },
     "execution_count": 58,
     "metadata": {},
     "output_type": "execute_result"
    }
   ],
   "source": [
    "df['Are you a dog or a cat person?'].value_counts()"
   ]
  },
  {
   "cell_type": "code",
   "execution_count": 59,
   "metadata": {
    "collapsed": false
   },
   "outputs": [
    {
     "data": {
      "text/plain": [
       "<matplotlib.axes._subplots.AxesSubplot at 0x7fb4a5ce74d0>"
      ]
     },
     "execution_count": 59,
     "metadata": {},
     "output_type": "execute_result"
    },
    {
     "data": {
      "image/png": "[encoded data removed]",
      "text/plain": [
       "<matplotlib.figure.Figure at 0x7fb4a5c6fb50>"
      ]
     },
     "metadata": {},
     "output_type": "display_data"
    }
   ],
   "source": [
    "df['Are you a dog or a cat person?'].value_counts().plot(kind='bar',title=\"Animal Likeness\")"
   ]
  },
  {
   "cell_type": "code",
   "execution_count": 60,
   "metadata": {
    "collapsed": false
   },
   "outputs": [
    {
     "data": {
      "text/plain": [
       "Other            6562\n",
       "Cheddar          6101\n",
       "Brie             3742\n",
       "Provolone        3454\n",
       "Swiss            3214\n",
       "Feta             2991\n",
       "Goat             2516\n",
       "Munster          1770\n",
       "American         1438\n",
       "Paneer            618\n",
       "Limburger         337\n",
       "none               10\n",
       "programming')       1\n",
       "Name: If you were a cheese, what cheese would you be?, dtype: int64"
      ]
     },
     "execution_count": 60,
     "metadata": {},
     "output_type": "execute_result"
    }
   ],
   "source": [
    "df['If you were a cheese, what cheese would you be?'].value_counts()"
   ]
  },
  {
   "cell_type": "code",
   "execution_count": 61,
   "metadata": {
    "collapsed": false
   },
   "outputs": [
    {
     "data": {
      "text/plain": [
       "<matplotlib.axes._subplots.AxesSubplot at 0x7fb4a5cbd690>"
      ]
     },
     "execution_count": 61,
     "metadata": {},
     "output_type": "execute_result"
    },
    {
     "data": {
      "image/png": "[encoded data removed]",
      "text/plain": [
       "<matplotlib.figure.Figure at 0x7fb4a5cda4d0>"
      ]
     },
     "metadata": {},
     "output_type": "display_data"
    }
   ],
   "source": [
    "df['If you were a cheese, what cheese would you be?'].value_counts().plot(kind='bar',title=\"Cheese Likeness\")"
   ]
  },
  {
   "cell_type": "code",
   "execution_count": 62,
   "metadata": {
    "collapsed": false
   },
   "outputs": [
    {
     "data": {
      "text/plain": [
       "North America    24193\n",
       "Europe            4929\n",
       "Oceania           1407\n",
       "None              1039\n",
       "Asia               791\n",
       "South America      276\n",
       "Africa             119\n",
       "Name: continent, dtype: int64"
      ]
     },
     "execution_count": 62,
     "metadata": {},
     "output_type": "execute_result"
    }
   ],
   "source": [
    "df.continent.value_counts()"
   ]
  },
  {
   "cell_type": "code",
   "execution_count": 63,
   "metadata": {
    "collapsed": false
   },
   "outputs": [
    {
     "data": {
      "text/plain": [
       "<matplotlib.axes._subplots.AxesSubplot at 0x7fb4a5b89c50>"
      ]
     },
     "execution_count": 63,
     "metadata": {},
     "output_type": "execute_result"
    },
    {
     "data": {
      "image/png": "[encoded data removed]",
      "text/plain": [
       "<matplotlib.figure.Figure at 0x7fb4a5ab52d0>"
      ]
     },
     "metadata": {},
     "output_type": "display_data"
    }
   ],
   "source": [
    "df.continent.value_counts().plot(kind='bar',title=\"Animals\")"
   ]
  },
  {
   "cell_type": "markdown",
   "metadata": {},
   "source": [
    "### vii. Popping Military column\n",
    "\n",
    "I will be predicting the military status. So popping that column before creation indicator variables.\n"
   ]
  },
  {
   "cell_type": "code",
   "execution_count": 64,
   "metadata": {
    "collapsed": false
   },
   "outputs": [],
   "source": [
    "y=df.pop(\"Are you or have you ever been in military service?\")"
   ]
  },
  {
   "cell_type": "code",
   "execution_count": 65,
   "metadata": {
    "collapsed": false
   },
   "outputs": [],
   "source": [
    "#military service has only 3 variables, and no and none seem to be same.I will be converting it to numeric variable. I will be using 1 = yes, 0 = no/none\n",
    "\n",
    "def contonum (x):\n",
    "    if x == \"Yes\":\n",
    "        return 1\n",
    "    return 0"
   ]
  },
  {
   "cell_type": "code",
   "execution_count": 66,
   "metadata": {
    "collapsed": false
   },
   "outputs": [],
   "source": [
    "y=y.apply(contonum)"
   ]
  },
  {
   "cell_type": "code",
   "execution_count": 67,
   "metadata": {
    "collapsed": false
   },
   "outputs": [
    {
     "data": {
      "text/plain": [
       "array([0, 1])"
      ]
     },
     "execution_count": 67,
     "metadata": {},
     "output_type": "execute_result"
    }
   ],
   "source": [
    "y.unique()"
   ]
  },
  {
   "cell_type": "markdown",
   "metadata": {},
   "source": [
    "### v. Creating Indicator Variables"
   ]
  },
  {
   "cell_type": "code",
   "execution_count": 68,
   "metadata": {
    "collapsed": false
   },
   "outputs": [],
   "source": [
    "categorical_variables = ['Please indicate your gender.', 'Please select the category that includes your age.', 'What is your marital status?', 'What best describes your employment status?', 'Do you currently have children under the age of 18 living in your household?','What best describes your level of education?','Which one of the following ranges includes your total yearly household income before taxes?','Are you a dog or a cat person?','If you were a cheese, what cheese would you be?','continent']\n",
    "\n",
    "nice_names =['gender','age','marital_status','employment_status','childrenu18','education','taxes','catdog','cheese','continent']\n",
    "for variable,nname in zip(categorical_variables,nice_names):\n",
    "    # Create array of dummies\n",
    "    dummies = pd.get_dummies(df[variable], prefix=nname)\n",
    "    # Update X to include dummies and drop the main variable\n",
    "    df = pd.concat([df, dummies], axis=1)\n",
    "    df.drop([variable], axis=1, inplace=True)"
   ]
  },
  {
   "cell_type": "code",
   "execution_count": 69,
   "metadata": {
    "collapsed": false
   },
   "outputs": [
    {
     "data": {
      "text/html": [
       "<table border=\"1\" class=\"dataframe\">\n",
       "  <thead>\n",
       "    <tr style=\"text-align: right;\">\n",
       "      <th></th>\n",
       "      <th>Entry Id</th>\n",
       "      <th>treated subreddit data</th>\n",
       "      <th>gender_Female</th>\n",
       "      <th>gender_Male</th>\n",
       "      <th>gender_None</th>\n",
       "      <th>age_18-24</th>\n",
       "      <th>age_25-34</th>\n",
       "      <th>age_35-44</th>\n",
       "      <th>age_45-54</th>\n",
       "      <th>age_55-64</th>\n",
       "      <th>age_65 or Above</th>\n",
       "      <th>age_None</th>\n",
       "      <th>age_Under 18</th>\n",
       "      <th>marital_status_Blank</th>\n",
       "      <th>marital_status_Engaged</th>\n",
       "      <th>marital_status_Forever Alone</th>\n",
       "      <th>marital_status_In a relationship</th>\n",
       "      <th>marital_status_Married/civil union/domestic partnership</th>\n",
       "      <th>marital_status_Single</th>\n",
       "      <th>marital_status_Widowed</th>\n",
       "      <th>employment_status_Employed full time</th>\n",
       "      <th>employment_status_Freelance</th>\n",
       "      <th>employment_status_None</th>\n",
       "      <th>employment_status_Not employed and not looking for work</th>\n",
       "      <th>employment_status_Not employed, but looking for work</th>\n",
       "      <th>employment_status_Retired</th>\n",
       "      <th>employment_status_Student</th>\n",
       "      <th>childrenu18_No</th>\n",
       "      <th>childrenu18_None</th>\n",
       "      <th>childrenu18_Yes</th>\n",
       "      <th>education_Associate degree</th>\n",
       "      <th>education_Bachelor's degree</th>\n",
       "      <th>education_Graduate or professional degree</th>\n",
       "      <th>education_High school graduate or equivalent</th>\n",
       "      <th>education_None</th>\n",
       "      <th>education_Some college</th>\n",
       "      <th>education_Some high school</th>\n",
       "      <th>education_Trade or Vocational degree</th>\n",
       "      <th>taxes_$100,000 - $149,999</th>\n",
       "      <th>taxes_$150,000 or more</th>\n",
       "      <th>taxes_$20,000 - $29,999</th>\n",
       "      <th>taxes_$30,000 - $39,999</th>\n",
       "      <th>taxes_$40,000 - $49,999</th>\n",
       "      <th>taxes_$50,000 - $69,999</th>\n",
       "      <th>taxes_$70,000 - $99,999</th>\n",
       "      <th>taxes_Under $20,000</th>\n",
       "      <th>taxes_none</th>\n",
       "      <th>catdog_I like cats.</th>\n",
       "      <th>catdog_I like dogs.</th>\n",
       "      <th>catdog_I like turtles.</th>\n",
       "      <th>catdog_none</th>\n",
       "      <th>cheese_American</th>\n",
       "      <th>cheese_Brie</th>\n",
       "      <th>cheese_Cheddar</th>\n",
       "      <th>cheese_Feta</th>\n",
       "      <th>cheese_Goat</th>\n",
       "      <th>cheese_Limburger</th>\n",
       "      <th>cheese_Munster</th>\n",
       "      <th>cheese_Other</th>\n",
       "      <th>cheese_Paneer</th>\n",
       "      <th>cheese_Provolone</th>\n",
       "      <th>cheese_Swiss</th>\n",
       "      <th>cheese_none</th>\n",
       "      <th>cheese_programming')</th>\n",
       "      <th>continent_Africa</th>\n",
       "      <th>continent_Asia</th>\n",
       "      <th>continent_Europe</th>\n",
       "      <th>continent_None</th>\n",
       "      <th>continent_North America</th>\n",
       "      <th>continent_Oceania</th>\n",
       "      <th>continent_South America</th>\n",
       "    </tr>\n",
       "  </thead>\n",
       "  <tbody>\n",
       "    <tr>\n",
       "      <th>0</th>\n",
       "      <td>1</td>\n",
       "      <td>getmotivated</td>\n",
       "      <td>0.0</td>\n",
       "      <td>1.0</td>\n",
       "      <td>0.0</td>\n",
       "      <td>0.0</td>\n",
       "      <td>1.0</td>\n",
       "      <td>0.0</td>\n",
       "      <td>0.0</td>\n",
       "      <td>0.0</td>\n",
       "      <td>0.0</td>\n",
       "      <td>0.0</td>\n",
       "      <td>0.0</td>\n",
       "      <td>1.0</td>\n",
       "      <td>0.0</td>\n",
       "      <td>0.0</td>\n",
       "      <td>0.0</td>\n",
       "      <td>0.0</td>\n",
       "      <td>0.0</td>\n",
       "      <td>0.0</td>\n",
       "      <td>1.0</td>\n",
       "      <td>0.0</td>\n",
       "      <td>0.0</td>\n",
       "      <td>0.0</td>\n",
       "      <td>0.0</td>\n",
       "      <td>0.0</td>\n",
       "      <td>0.0</td>\n",
       "      <td>1.0</td>\n",
       "      <td>0.0</td>\n",
       "      <td>0.0</td>\n",
       "      <td>0.0</td>\n",
       "      <td>1.0</td>\n",
       "      <td>0.0</td>\n",
       "      <td>0.0</td>\n",
       "      <td>0.0</td>\n",
       "      <td>0.0</td>\n",
       "      <td>0.0</td>\n",
       "      <td>0.0</td>\n",
       "      <td>0.0</td>\n",
       "      <td>1.0</td>\n",
       "      <td>0.0</td>\n",
       "      <td>0.0</td>\n",
       "      <td>0.0</td>\n",
       "      <td>0.0</td>\n",
       "      <td>0.0</td>\n",
       "      <td>0.0</td>\n",
       "      <td>0.0</td>\n",
       "      <td>0.0</td>\n",
       "      <td>0.0</td>\n",
       "      <td>0.0</td>\n",
       "      <td>1.0</td>\n",
       "      <td>0.0</td>\n",
       "      <td>0.0</td>\n",
       "      <td>0.0</td>\n",
       "      <td>0.0</td>\n",
       "      <td>0.0</td>\n",
       "      <td>0.0</td>\n",
       "      <td>0.0</td>\n",
       "      <td>0.0</td>\n",
       "      <td>0.0</td>\n",
       "      <td>0.0</td>\n",
       "      <td>0.0</td>\n",
       "      <td>1.0</td>\n",
       "      <td>0.0</td>\n",
       "      <td>0.0</td>\n",
       "      <td>0.0</td>\n",
       "      <td>0.0</td>\n",
       "      <td>0.0</td>\n",
       "      <td>1.0</td>\n",
       "      <td>0.0</td>\n",
       "      <td>0.0</td>\n",
       "    </tr>\n",
       "    <tr>\n",
       "      <th>1</th>\n",
       "      <td>2</td>\n",
       "      <td>gaming</td>\n",
       "      <td>0.0</td>\n",
       "      <td>1.0</td>\n",
       "      <td>0.0</td>\n",
       "      <td>0.0</td>\n",
       "      <td>1.0</td>\n",
       "      <td>0.0</td>\n",
       "      <td>0.0</td>\n",
       "      <td>0.0</td>\n",
       "      <td>0.0</td>\n",
       "      <td>0.0</td>\n",
       "      <td>0.0</td>\n",
       "      <td>1.0</td>\n",
       "      <td>0.0</td>\n",
       "      <td>0.0</td>\n",
       "      <td>0.0</td>\n",
       "      <td>0.0</td>\n",
       "      <td>0.0</td>\n",
       "      <td>0.0</td>\n",
       "      <td>1.0</td>\n",
       "      <td>0.0</td>\n",
       "      <td>0.0</td>\n",
       "      <td>0.0</td>\n",
       "      <td>0.0</td>\n",
       "      <td>0.0</td>\n",
       "      <td>0.0</td>\n",
       "      <td>1.0</td>\n",
       "      <td>0.0</td>\n",
       "      <td>0.0</td>\n",
       "      <td>0.0</td>\n",
       "      <td>1.0</td>\n",
       "      <td>0.0</td>\n",
       "      <td>0.0</td>\n",
       "      <td>0.0</td>\n",
       "      <td>0.0</td>\n",
       "      <td>0.0</td>\n",
       "      <td>0.0</td>\n",
       "      <td>0.0</td>\n",
       "      <td>1.0</td>\n",
       "      <td>0.0</td>\n",
       "      <td>0.0</td>\n",
       "      <td>0.0</td>\n",
       "      <td>0.0</td>\n",
       "      <td>0.0</td>\n",
       "      <td>0.0</td>\n",
       "      <td>0.0</td>\n",
       "      <td>0.0</td>\n",
       "      <td>0.0</td>\n",
       "      <td>0.0</td>\n",
       "      <td>1.0</td>\n",
       "      <td>0.0</td>\n",
       "      <td>0.0</td>\n",
       "      <td>0.0</td>\n",
       "      <td>0.0</td>\n",
       "      <td>0.0</td>\n",
       "      <td>0.0</td>\n",
       "      <td>0.0</td>\n",
       "      <td>0.0</td>\n",
       "      <td>0.0</td>\n",
       "      <td>0.0</td>\n",
       "      <td>0.0</td>\n",
       "      <td>1.0</td>\n",
       "      <td>0.0</td>\n",
       "      <td>0.0</td>\n",
       "      <td>0.0</td>\n",
       "      <td>0.0</td>\n",
       "      <td>0.0</td>\n",
       "      <td>1.0</td>\n",
       "      <td>0.0</td>\n",
       "      <td>0.0</td>\n",
       "    </tr>\n",
       "    <tr>\n",
       "      <th>2</th>\n",
       "      <td>3</td>\n",
       "      <td>snackexchange</td>\n",
       "      <td>1.0</td>\n",
       "      <td>0.0</td>\n",
       "      <td>0.0</td>\n",
       "      <td>1.0</td>\n",
       "      <td>0.0</td>\n",
       "      <td>0.0</td>\n",
       "      <td>0.0</td>\n",
       "      <td>0.0</td>\n",
       "      <td>0.0</td>\n",
       "      <td>0.0</td>\n",
       "      <td>0.0</td>\n",
       "      <td>1.0</td>\n",
       "      <td>0.0</td>\n",
       "      <td>0.0</td>\n",
       "      <td>0.0</td>\n",
       "      <td>0.0</td>\n",
       "      <td>0.0</td>\n",
       "      <td>0.0</td>\n",
       "      <td>0.0</td>\n",
       "      <td>1.0</td>\n",
       "      <td>0.0</td>\n",
       "      <td>0.0</td>\n",
       "      <td>0.0</td>\n",
       "      <td>0.0</td>\n",
       "      <td>0.0</td>\n",
       "      <td>1.0</td>\n",
       "      <td>0.0</td>\n",
       "      <td>0.0</td>\n",
       "      <td>0.0</td>\n",
       "      <td>0.0</td>\n",
       "      <td>0.0</td>\n",
       "      <td>0.0</td>\n",
       "      <td>0.0</td>\n",
       "      <td>1.0</td>\n",
       "      <td>0.0</td>\n",
       "      <td>0.0</td>\n",
       "      <td>0.0</td>\n",
       "      <td>0.0</td>\n",
       "      <td>0.0</td>\n",
       "      <td>0.0</td>\n",
       "      <td>0.0</td>\n",
       "      <td>0.0</td>\n",
       "      <td>0.0</td>\n",
       "      <td>1.0</td>\n",
       "      <td>0.0</td>\n",
       "      <td>0.0</td>\n",
       "      <td>0.0</td>\n",
       "      <td>0.0</td>\n",
       "      <td>1.0</td>\n",
       "      <td>0.0</td>\n",
       "      <td>0.0</td>\n",
       "      <td>0.0</td>\n",
       "      <td>0.0</td>\n",
       "      <td>0.0</td>\n",
       "      <td>0.0</td>\n",
       "      <td>0.0</td>\n",
       "      <td>0.0</td>\n",
       "      <td>0.0</td>\n",
       "      <td>0.0</td>\n",
       "      <td>0.0</td>\n",
       "      <td>1.0</td>\n",
       "      <td>0.0</td>\n",
       "      <td>0.0</td>\n",
       "      <td>0.0</td>\n",
       "      <td>0.0</td>\n",
       "      <td>0.0</td>\n",
       "      <td>1.0</td>\n",
       "      <td>0.0</td>\n",
       "      <td>0.0</td>\n",
       "    </tr>\n",
       "    <tr>\n",
       "      <th>3</th>\n",
       "      <td>4</td>\n",
       "      <td>spacedicks</td>\n",
       "      <td>0.0</td>\n",
       "      <td>1.0</td>\n",
       "      <td>0.0</td>\n",
       "      <td>0.0</td>\n",
       "      <td>1.0</td>\n",
       "      <td>0.0</td>\n",
       "      <td>0.0</td>\n",
       "      <td>0.0</td>\n",
       "      <td>0.0</td>\n",
       "      <td>0.0</td>\n",
       "      <td>0.0</td>\n",
       "      <td>1.0</td>\n",
       "      <td>0.0</td>\n",
       "      <td>0.0</td>\n",
       "      <td>0.0</td>\n",
       "      <td>0.0</td>\n",
       "      <td>0.0</td>\n",
       "      <td>0.0</td>\n",
       "      <td>0.0</td>\n",
       "      <td>1.0</td>\n",
       "      <td>0.0</td>\n",
       "      <td>0.0</td>\n",
       "      <td>0.0</td>\n",
       "      <td>0.0</td>\n",
       "      <td>0.0</td>\n",
       "      <td>1.0</td>\n",
       "      <td>0.0</td>\n",
       "      <td>0.0</td>\n",
       "      <td>0.0</td>\n",
       "      <td>1.0</td>\n",
       "      <td>0.0</td>\n",
       "      <td>0.0</td>\n",
       "      <td>0.0</td>\n",
       "      <td>0.0</td>\n",
       "      <td>0.0</td>\n",
       "      <td>0.0</td>\n",
       "      <td>0.0</td>\n",
       "      <td>1.0</td>\n",
       "      <td>0.0</td>\n",
       "      <td>0.0</td>\n",
       "      <td>0.0</td>\n",
       "      <td>0.0</td>\n",
       "      <td>0.0</td>\n",
       "      <td>0.0</td>\n",
       "      <td>0.0</td>\n",
       "      <td>0.0</td>\n",
       "      <td>0.0</td>\n",
       "      <td>0.0</td>\n",
       "      <td>1.0</td>\n",
       "      <td>0.0</td>\n",
       "      <td>0.0</td>\n",
       "      <td>0.0</td>\n",
       "      <td>0.0</td>\n",
       "      <td>0.0</td>\n",
       "      <td>0.0</td>\n",
       "      <td>0.0</td>\n",
       "      <td>0.0</td>\n",
       "      <td>0.0</td>\n",
       "      <td>0.0</td>\n",
       "      <td>0.0</td>\n",
       "      <td>1.0</td>\n",
       "      <td>0.0</td>\n",
       "      <td>0.0</td>\n",
       "      <td>0.0</td>\n",
       "      <td>0.0</td>\n",
       "      <td>0.0</td>\n",
       "      <td>1.0</td>\n",
       "      <td>0.0</td>\n",
       "      <td>0.0</td>\n",
       "    </tr>\n",
       "    <tr>\n",
       "      <th>4</th>\n",
       "      <td>5</td>\n",
       "      <td>aww</td>\n",
       "      <td>1.0</td>\n",
       "      <td>0.0</td>\n",
       "      <td>0.0</td>\n",
       "      <td>0.0</td>\n",
       "      <td>1.0</td>\n",
       "      <td>0.0</td>\n",
       "      <td>0.0</td>\n",
       "      <td>0.0</td>\n",
       "      <td>0.0</td>\n",
       "      <td>0.0</td>\n",
       "      <td>0.0</td>\n",
       "      <td>1.0</td>\n",
       "      <td>0.0</td>\n",
       "      <td>0.0</td>\n",
       "      <td>0.0</td>\n",
       "      <td>0.0</td>\n",
       "      <td>0.0</td>\n",
       "      <td>0.0</td>\n",
       "      <td>1.0</td>\n",
       "      <td>0.0</td>\n",
       "      <td>0.0</td>\n",
       "      <td>0.0</td>\n",
       "      <td>0.0</td>\n",
       "      <td>0.0</td>\n",
       "      <td>0.0</td>\n",
       "      <td>1.0</td>\n",
       "      <td>0.0</td>\n",
       "      <td>0.0</td>\n",
       "      <td>0.0</td>\n",
       "      <td>1.0</td>\n",
       "      <td>0.0</td>\n",
       "      <td>0.0</td>\n",
       "      <td>0.0</td>\n",
       "      <td>0.0</td>\n",
       "      <td>0.0</td>\n",
       "      <td>0.0</td>\n",
       "      <td>0.0</td>\n",
       "      <td>0.0</td>\n",
       "      <td>0.0</td>\n",
       "      <td>0.0</td>\n",
       "      <td>0.0</td>\n",
       "      <td>0.0</td>\n",
       "      <td>1.0</td>\n",
       "      <td>0.0</td>\n",
       "      <td>0.0</td>\n",
       "      <td>0.0</td>\n",
       "      <td>0.0</td>\n",
       "      <td>0.0</td>\n",
       "      <td>1.0</td>\n",
       "      <td>0.0</td>\n",
       "      <td>0.0</td>\n",
       "      <td>0.0</td>\n",
       "      <td>0.0</td>\n",
       "      <td>0.0</td>\n",
       "      <td>0.0</td>\n",
       "      <td>0.0</td>\n",
       "      <td>0.0</td>\n",
       "      <td>0.0</td>\n",
       "      <td>0.0</td>\n",
       "      <td>0.0</td>\n",
       "      <td>1.0</td>\n",
       "      <td>0.0</td>\n",
       "      <td>0.0</td>\n",
       "      <td>0.0</td>\n",
       "      <td>0.0</td>\n",
       "      <td>0.0</td>\n",
       "      <td>1.0</td>\n",
       "      <td>0.0</td>\n",
       "      <td>0.0</td>\n",
       "    </tr>\n",
       "    <tr>\n",
       "      <th>...</th>\n",
       "      <td>...</td>\n",
       "      <td>...</td>\n",
       "      <td>...</td>\n",
       "      <td>...</td>\n",
       "      <td>...</td>\n",
       "      <td>...</td>\n",
       "      <td>...</td>\n",
       "      <td>...</td>\n",
       "      <td>...</td>\n",
       "      <td>...</td>\n",
       "      <td>...</td>\n",
       "      <td>...</td>\n",
       "      <td>...</td>\n",
       "      <td>...</td>\n",
       "      <td>...</td>\n",
       "      <td>...</td>\n",
       "      <td>...</td>\n",
       "      <td>...</td>\n",
       "      <td>...</td>\n",
       "      <td>...</td>\n",
       "      <td>...</td>\n",
       "      <td>...</td>\n",
       "      <td>...</td>\n",
       "      <td>...</td>\n",
       "      <td>...</td>\n",
       "      <td>...</td>\n",
       "      <td>...</td>\n",
       "      <td>...</td>\n",
       "      <td>...</td>\n",
       "      <td>...</td>\n",
       "      <td>...</td>\n",
       "      <td>...</td>\n",
       "      <td>...</td>\n",
       "      <td>...</td>\n",
       "      <td>...</td>\n",
       "      <td>...</td>\n",
       "      <td>...</td>\n",
       "      <td>...</td>\n",
       "      <td>...</td>\n",
       "      <td>...</td>\n",
       "      <td>...</td>\n",
       "      <td>...</td>\n",
       "      <td>...</td>\n",
       "      <td>...</td>\n",
       "      <td>...</td>\n",
       "      <td>...</td>\n",
       "      <td>...</td>\n",
       "      <td>...</td>\n",
       "      <td>...</td>\n",
       "      <td>...</td>\n",
       "      <td>...</td>\n",
       "      <td>...</td>\n",
       "      <td>...</td>\n",
       "      <td>...</td>\n",
       "      <td>...</td>\n",
       "      <td>...</td>\n",
       "      <td>...</td>\n",
       "      <td>...</td>\n",
       "      <td>...</td>\n",
       "      <td>...</td>\n",
       "      <td>...</td>\n",
       "      <td>...</td>\n",
       "      <td>...</td>\n",
       "      <td>...</td>\n",
       "      <td>...</td>\n",
       "      <td>...</td>\n",
       "      <td>...</td>\n",
       "      <td>...</td>\n",
       "      <td>...</td>\n",
       "      <td>...</td>\n",
       "      <td>...</td>\n",
       "    </tr>\n",
       "    <tr>\n",
       "      <th>32749</th>\n",
       "      <td>32752</td>\n",
       "      <td>all</td>\n",
       "      <td>1.0</td>\n",
       "      <td>0.0</td>\n",
       "      <td>0.0</td>\n",
       "      <td>1.0</td>\n",
       "      <td>0.0</td>\n",
       "      <td>0.0</td>\n",
       "      <td>0.0</td>\n",
       "      <td>0.0</td>\n",
       "      <td>0.0</td>\n",
       "      <td>0.0</td>\n",
       "      <td>0.0</td>\n",
       "      <td>0.0</td>\n",
       "      <td>0.0</td>\n",
       "      <td>0.0</td>\n",
       "      <td>0.0</td>\n",
       "      <td>0.0</td>\n",
       "      <td>1.0</td>\n",
       "      <td>0.0</td>\n",
       "      <td>0.0</td>\n",
       "      <td>0.0</td>\n",
       "      <td>0.0</td>\n",
       "      <td>0.0</td>\n",
       "      <td>0.0</td>\n",
       "      <td>0.0</td>\n",
       "      <td>1.0</td>\n",
       "      <td>1.0</td>\n",
       "      <td>0.0</td>\n",
       "      <td>0.0</td>\n",
       "      <td>0.0</td>\n",
       "      <td>0.0</td>\n",
       "      <td>0.0</td>\n",
       "      <td>1.0</td>\n",
       "      <td>0.0</td>\n",
       "      <td>0.0</td>\n",
       "      <td>0.0</td>\n",
       "      <td>0.0</td>\n",
       "      <td>0.0</td>\n",
       "      <td>0.0</td>\n",
       "      <td>0.0</td>\n",
       "      <td>0.0</td>\n",
       "      <td>0.0</td>\n",
       "      <td>0.0</td>\n",
       "      <td>0.0</td>\n",
       "      <td>1.0</td>\n",
       "      <td>0.0</td>\n",
       "      <td>1.0</td>\n",
       "      <td>0.0</td>\n",
       "      <td>0.0</td>\n",
       "      <td>0.0</td>\n",
       "      <td>0.0</td>\n",
       "      <td>0.0</td>\n",
       "      <td>0.0</td>\n",
       "      <td>1.0</td>\n",
       "      <td>0.0</td>\n",
       "      <td>0.0</td>\n",
       "      <td>0.0</td>\n",
       "      <td>0.0</td>\n",
       "      <td>0.0</td>\n",
       "      <td>0.0</td>\n",
       "      <td>0.0</td>\n",
       "      <td>0.0</td>\n",
       "      <td>0.0</td>\n",
       "      <td>0.0</td>\n",
       "      <td>0.0</td>\n",
       "      <td>1.0</td>\n",
       "      <td>0.0</td>\n",
       "      <td>0.0</td>\n",
       "      <td>0.0</td>\n",
       "      <td>0.0</td>\n",
       "    </tr>\n",
       "    <tr>\n",
       "      <th>32750</th>\n",
       "      <td>32753</td>\n",
       "      <td>maps</td>\n",
       "      <td>0.0</td>\n",
       "      <td>1.0</td>\n",
       "      <td>0.0</td>\n",
       "      <td>0.0</td>\n",
       "      <td>0.0</td>\n",
       "      <td>1.0</td>\n",
       "      <td>0.0</td>\n",
       "      <td>0.0</td>\n",
       "      <td>0.0</td>\n",
       "      <td>0.0</td>\n",
       "      <td>0.0</td>\n",
       "      <td>0.0</td>\n",
       "      <td>0.0</td>\n",
       "      <td>0.0</td>\n",
       "      <td>0.0</td>\n",
       "      <td>1.0</td>\n",
       "      <td>0.0</td>\n",
       "      <td>0.0</td>\n",
       "      <td>1.0</td>\n",
       "      <td>0.0</td>\n",
       "      <td>0.0</td>\n",
       "      <td>0.0</td>\n",
       "      <td>0.0</td>\n",
       "      <td>0.0</td>\n",
       "      <td>0.0</td>\n",
       "      <td>1.0</td>\n",
       "      <td>0.0</td>\n",
       "      <td>0.0</td>\n",
       "      <td>0.0</td>\n",
       "      <td>1.0</td>\n",
       "      <td>0.0</td>\n",
       "      <td>0.0</td>\n",
       "      <td>0.0</td>\n",
       "      <td>0.0</td>\n",
       "      <td>0.0</td>\n",
       "      <td>0.0</td>\n",
       "      <td>0.0</td>\n",
       "      <td>0.0</td>\n",
       "      <td>0.0</td>\n",
       "      <td>0.0</td>\n",
       "      <td>0.0</td>\n",
       "      <td>0.0</td>\n",
       "      <td>0.0</td>\n",
       "      <td>0.0</td>\n",
       "      <td>1.0</td>\n",
       "      <td>0.0</td>\n",
       "      <td>0.0</td>\n",
       "      <td>1.0</td>\n",
       "      <td>0.0</td>\n",
       "      <td>0.0</td>\n",
       "      <td>0.0</td>\n",
       "      <td>0.0</td>\n",
       "      <td>0.0</td>\n",
       "      <td>0.0</td>\n",
       "      <td>0.0</td>\n",
       "      <td>0.0</td>\n",
       "      <td>1.0</td>\n",
       "      <td>0.0</td>\n",
       "      <td>0.0</td>\n",
       "      <td>0.0</td>\n",
       "      <td>0.0</td>\n",
       "      <td>0.0</td>\n",
       "      <td>0.0</td>\n",
       "      <td>0.0</td>\n",
       "      <td>1.0</td>\n",
       "      <td>0.0</td>\n",
       "      <td>0.0</td>\n",
       "      <td>0.0</td>\n",
       "      <td>0.0</td>\n",
       "    </tr>\n",
       "    <tr>\n",
       "      <th>32751</th>\n",
       "      <td>32754</td>\n",
       "      <td>funny</td>\n",
       "      <td>0.0</td>\n",
       "      <td>1.0</td>\n",
       "      <td>0.0</td>\n",
       "      <td>1.0</td>\n",
       "      <td>0.0</td>\n",
       "      <td>0.0</td>\n",
       "      <td>0.0</td>\n",
       "      <td>0.0</td>\n",
       "      <td>0.0</td>\n",
       "      <td>0.0</td>\n",
       "      <td>0.0</td>\n",
       "      <td>0.0</td>\n",
       "      <td>0.0</td>\n",
       "      <td>0.0</td>\n",
       "      <td>1.0</td>\n",
       "      <td>0.0</td>\n",
       "      <td>0.0</td>\n",
       "      <td>0.0</td>\n",
       "      <td>1.0</td>\n",
       "      <td>0.0</td>\n",
       "      <td>0.0</td>\n",
       "      <td>0.0</td>\n",
       "      <td>0.0</td>\n",
       "      <td>0.0</td>\n",
       "      <td>0.0</td>\n",
       "      <td>1.0</td>\n",
       "      <td>0.0</td>\n",
       "      <td>0.0</td>\n",
       "      <td>0.0</td>\n",
       "      <td>0.0</td>\n",
       "      <td>1.0</td>\n",
       "      <td>0.0</td>\n",
       "      <td>0.0</td>\n",
       "      <td>0.0</td>\n",
       "      <td>0.0</td>\n",
       "      <td>0.0</td>\n",
       "      <td>0.0</td>\n",
       "      <td>0.0</td>\n",
       "      <td>1.0</td>\n",
       "      <td>0.0</td>\n",
       "      <td>0.0</td>\n",
       "      <td>0.0</td>\n",
       "      <td>0.0</td>\n",
       "      <td>0.0</td>\n",
       "      <td>0.0</td>\n",
       "      <td>1.0</td>\n",
       "      <td>0.0</td>\n",
       "      <td>0.0</td>\n",
       "      <td>0.0</td>\n",
       "      <td>0.0</td>\n",
       "      <td>0.0</td>\n",
       "      <td>0.0</td>\n",
       "      <td>0.0</td>\n",
       "      <td>0.0</td>\n",
       "      <td>0.0</td>\n",
       "      <td>0.0</td>\n",
       "      <td>1.0</td>\n",
       "      <td>0.0</td>\n",
       "      <td>0.0</td>\n",
       "      <td>0.0</td>\n",
       "      <td>0.0</td>\n",
       "      <td>0.0</td>\n",
       "      <td>0.0</td>\n",
       "      <td>0.0</td>\n",
       "      <td>1.0</td>\n",
       "      <td>0.0</td>\n",
       "      <td>0.0</td>\n",
       "      <td>0.0</td>\n",
       "      <td>0.0</td>\n",
       "    </tr>\n",
       "    <tr>\n",
       "      <th>32752</th>\n",
       "      <td>32755</td>\n",
       "      <td>all</td>\n",
       "      <td>0.0</td>\n",
       "      <td>1.0</td>\n",
       "      <td>0.0</td>\n",
       "      <td>0.0</td>\n",
       "      <td>0.0</td>\n",
       "      <td>1.0</td>\n",
       "      <td>0.0</td>\n",
       "      <td>0.0</td>\n",
       "      <td>0.0</td>\n",
       "      <td>0.0</td>\n",
       "      <td>0.0</td>\n",
       "      <td>0.0</td>\n",
       "      <td>0.0</td>\n",
       "      <td>0.0</td>\n",
       "      <td>1.0</td>\n",
       "      <td>0.0</td>\n",
       "      <td>0.0</td>\n",
       "      <td>0.0</td>\n",
       "      <td>1.0</td>\n",
       "      <td>0.0</td>\n",
       "      <td>0.0</td>\n",
       "      <td>0.0</td>\n",
       "      <td>0.0</td>\n",
       "      <td>0.0</td>\n",
       "      <td>0.0</td>\n",
       "      <td>0.0</td>\n",
       "      <td>0.0</td>\n",
       "      <td>1.0</td>\n",
       "      <td>0.0</td>\n",
       "      <td>1.0</td>\n",
       "      <td>0.0</td>\n",
       "      <td>0.0</td>\n",
       "      <td>0.0</td>\n",
       "      <td>0.0</td>\n",
       "      <td>0.0</td>\n",
       "      <td>0.0</td>\n",
       "      <td>1.0</td>\n",
       "      <td>0.0</td>\n",
       "      <td>0.0</td>\n",
       "      <td>0.0</td>\n",
       "      <td>0.0</td>\n",
       "      <td>0.0</td>\n",
       "      <td>0.0</td>\n",
       "      <td>0.0</td>\n",
       "      <td>0.0</td>\n",
       "      <td>1.0</td>\n",
       "      <td>0.0</td>\n",
       "      <td>0.0</td>\n",
       "      <td>0.0</td>\n",
       "      <td>0.0</td>\n",
       "      <td>0.0</td>\n",
       "      <td>0.0</td>\n",
       "      <td>0.0</td>\n",
       "      <td>0.0</td>\n",
       "      <td>0.0</td>\n",
       "      <td>0.0</td>\n",
       "      <td>0.0</td>\n",
       "      <td>0.0</td>\n",
       "      <td>0.0</td>\n",
       "      <td>1.0</td>\n",
       "      <td>0.0</td>\n",
       "      <td>0.0</td>\n",
       "      <td>0.0</td>\n",
       "      <td>0.0</td>\n",
       "      <td>0.0</td>\n",
       "      <td>0.0</td>\n",
       "      <td>1.0</td>\n",
       "      <td>0.0</td>\n",
       "      <td>0.0</td>\n",
       "    </tr>\n",
       "    <tr>\n",
       "      <th>32753</th>\n",
       "      <td>32756</td>\n",
       "      <td>fffffffuuuuuuuuuuuu</td>\n",
       "      <td>0.0</td>\n",
       "      <td>1.0</td>\n",
       "      <td>0.0</td>\n",
       "      <td>1.0</td>\n",
       "      <td>0.0</td>\n",
       "      <td>0.0</td>\n",
       "      <td>0.0</td>\n",
       "      <td>0.0</td>\n",
       "      <td>0.0</td>\n",
       "      <td>0.0</td>\n",
       "      <td>0.0</td>\n",
       "      <td>0.0</td>\n",
       "      <td>0.0</td>\n",
       "      <td>0.0</td>\n",
       "      <td>0.0</td>\n",
       "      <td>1.0</td>\n",
       "      <td>0.0</td>\n",
       "      <td>0.0</td>\n",
       "      <td>1.0</td>\n",
       "      <td>0.0</td>\n",
       "      <td>0.0</td>\n",
       "      <td>0.0</td>\n",
       "      <td>0.0</td>\n",
       "      <td>0.0</td>\n",
       "      <td>0.0</td>\n",
       "      <td>1.0</td>\n",
       "      <td>0.0</td>\n",
       "      <td>0.0</td>\n",
       "      <td>0.0</td>\n",
       "      <td>0.0</td>\n",
       "      <td>0.0</td>\n",
       "      <td>0.0</td>\n",
       "      <td>0.0</td>\n",
       "      <td>1.0</td>\n",
       "      <td>0.0</td>\n",
       "      <td>0.0</td>\n",
       "      <td>0.0</td>\n",
       "      <td>0.0</td>\n",
       "      <td>1.0</td>\n",
       "      <td>0.0</td>\n",
       "      <td>0.0</td>\n",
       "      <td>0.0</td>\n",
       "      <td>0.0</td>\n",
       "      <td>0.0</td>\n",
       "      <td>0.0</td>\n",
       "      <td>1.0</td>\n",
       "      <td>0.0</td>\n",
       "      <td>0.0</td>\n",
       "      <td>0.0</td>\n",
       "      <td>0.0</td>\n",
       "      <td>0.0</td>\n",
       "      <td>1.0</td>\n",
       "      <td>0.0</td>\n",
       "      <td>0.0</td>\n",
       "      <td>0.0</td>\n",
       "      <td>0.0</td>\n",
       "      <td>0.0</td>\n",
       "      <td>0.0</td>\n",
       "      <td>0.0</td>\n",
       "      <td>0.0</td>\n",
       "      <td>0.0</td>\n",
       "      <td>0.0</td>\n",
       "      <td>0.0</td>\n",
       "      <td>0.0</td>\n",
       "      <td>0.0</td>\n",
       "      <td>0.0</td>\n",
       "      <td>1.0</td>\n",
       "      <td>0.0</td>\n",
       "      <td>0.0</td>\n",
       "    </tr>\n",
       "  </tbody>\n",
       "</table>"
      ],
      "text/plain": [
       "<IPython.core.display.HTML object>"
      ]
     },
     "metadata": {},
     "output_type": "display_data"
    }
   ],
   "source": [
    "# Look at all the columns in the dataset\n",
    "def printall(X, max_rows=10):\n",
    "    from IPython.display import display, HTML\n",
    "    display(HTML(X.to_html(max_rows=max_rows)))\n",
    "    \n",
    "printall(df)"
   ]
  },
  {
   "cell_type": "markdown",
   "metadata": {},
   "source": [
    "## 2. Plotting corelation matrix"
   ]
  },
  {
   "cell_type": "code",
   "execution_count": 70,
   "metadata": {
    "collapsed": false
   },
   "outputs": [
    {
     "data": {
      "text/plain": [
       "<matplotlib.axes._subplots.AxesSubplot at 0x7fb4939c1950>"
      ]
     },
     "execution_count": 70,
     "metadata": {},
     "output_type": "execute_result"
    },
    {
     "data": {
      "image/png": "[encoded data removed]",
      "text/plain": [
       "<matplotlib.figure.Figure at 0x7fb4939b3f90>"
      ]
     },
     "metadata": {},
     "output_type": "display_data"
    }
   ],
   "source": [
    "from string import letters\n",
    "import numpy as np\n",
    "\n",
    "import seaborn as sns\n",
    "import matplotlib.pyplot as plt\n",
    "\n",
    "sns.set(style=\"white\")\n",
    "\n",
    "# Generate a large random dataset\n",
    "#rs = np.random.RandomState(33)\n",
    "#d = pd.DataFrame(data=rs.normal(size=(100, 26)),\n",
    "#                 columns=list(letters[:26]))\n",
    "\n",
    "# Compute the correlation matrix\n",
    "corr = df.corr()\n",
    "\n",
    "# Generate a mask for the upper triangle\n",
    "mask = np.zeros_like(corr, dtype=np.bool)\n",
    "mask[np.triu_indices_from(mask)] = True\n",
    "\n",
    "# Set up the matplotlib figure\n",
    "f, ax = plt.subplots(figsize=(11, 9))\n",
    "\n",
    "# Generate a custom diverging colormap\n",
    "cmap = sns.diverging_palette(220, 10, as_cmap=True)\n",
    "\n",
    "# Draw the heatmap with the mask and correct aspect ratio\n",
    "sns.heatmap(corr, mask=mask, cmap=cmap, vmax=.3,\n",
    "            square=True, xticklabels=5, yticklabels=5,\n",
    "            linewidths=.5, cbar_kws={\"shrink\": .5}, ax=ax)"
   ]
  },
  {
   "cell_type": "markdown",
   "metadata": {},
   "source": [
    "## 3. Random Forest Regressor"
   ]
  },
  {
   "cell_type": "code",
   "execution_count": 71,
   "metadata": {
    "collapsed": true
   },
   "outputs": [],
   "source": [
    "# With the goal above, I will import just what I need. \n",
    "# The model to use (I already imported it above, but will do it again here so each example is self-contained)\n",
    "from sklearn.ensemble import RandomForestRegressor\n",
    "\n",
    "# The error metric. In this case, we will use c-stat (aka ROC/AUC)\n",
    "from sklearn.metrics import roc_auc_score\n",
    "\n"
   ]
  },
  {
   "cell_type": "code",
   "execution_count": 72,
   "metadata": {
    "collapsed": true
   },
   "outputs": [],
   "source": [
    "# I will be dropping treated subreddit data because it is not usefull in prediction\n",
    "df.drop(\"treated subreddit data\",  axis=1, inplace=True)"
   ]
  },
  {
   "cell_type": "code",
   "execution_count": 73,
   "metadata": {
    "collapsed": false
   },
   "outputs": [
    {
     "data": {
      "text/html": [
       "<div>\n",
       "<table border=\"1\" class=\"dataframe\">\n",
       "  <thead>\n",
       "    <tr style=\"text-align: right;\">\n",
       "      <th></th>\n",
       "      <th>Entry Id</th>\n",
       "      <th>gender_Female</th>\n",
       "      <th>gender_Male</th>\n",
       "      <th>gender_None</th>\n",
       "      <th>age_18-24</th>\n",
       "      <th>age_25-34</th>\n",
       "      <th>age_35-44</th>\n",
       "      <th>age_45-54</th>\n",
       "      <th>age_55-64</th>\n",
       "      <th>age_65 or Above</th>\n",
       "      <th>...</th>\n",
       "      <th>cheese_Swiss</th>\n",
       "      <th>cheese_none</th>\n",
       "      <th>cheese_programming')</th>\n",
       "      <th>continent_Africa</th>\n",
       "      <th>continent_Asia</th>\n",
       "      <th>continent_Europe</th>\n",
       "      <th>continent_None</th>\n",
       "      <th>continent_North America</th>\n",
       "      <th>continent_Oceania</th>\n",
       "      <th>continent_South America</th>\n",
       "    </tr>\n",
       "  </thead>\n",
       "  <tbody>\n",
       "    <tr>\n",
       "      <th>0</th>\n",
       "      <td>1</td>\n",
       "      <td>0.0</td>\n",
       "      <td>1.0</td>\n",
       "      <td>0.0</td>\n",
       "      <td>0.0</td>\n",
       "      <td>1.0</td>\n",
       "      <td>0.0</td>\n",
       "      <td>0.0</td>\n",
       "      <td>0.0</td>\n",
       "      <td>0.0</td>\n",
       "      <td>...</td>\n",
       "      <td>0.0</td>\n",
       "      <td>1.0</td>\n",
       "      <td>0.0</td>\n",
       "      <td>0.0</td>\n",
       "      <td>0.0</td>\n",
       "      <td>0.0</td>\n",
       "      <td>0.0</td>\n",
       "      <td>1.0</td>\n",
       "      <td>0.0</td>\n",
       "      <td>0.0</td>\n",
       "    </tr>\n",
       "    <tr>\n",
       "      <th>1</th>\n",
       "      <td>2</td>\n",
       "      <td>0.0</td>\n",
       "      <td>1.0</td>\n",
       "      <td>0.0</td>\n",
       "      <td>0.0</td>\n",
       "      <td>1.0</td>\n",
       "      <td>0.0</td>\n",
       "      <td>0.0</td>\n",
       "      <td>0.0</td>\n",
       "      <td>0.0</td>\n",
       "      <td>...</td>\n",
       "      <td>0.0</td>\n",
       "      <td>1.0</td>\n",
       "      <td>0.0</td>\n",
       "      <td>0.0</td>\n",
       "      <td>0.0</td>\n",
       "      <td>0.0</td>\n",
       "      <td>0.0</td>\n",
       "      <td>1.0</td>\n",
       "      <td>0.0</td>\n",
       "      <td>0.0</td>\n",
       "    </tr>\n",
       "    <tr>\n",
       "      <th>2</th>\n",
       "      <td>3</td>\n",
       "      <td>1.0</td>\n",
       "      <td>0.0</td>\n",
       "      <td>0.0</td>\n",
       "      <td>1.0</td>\n",
       "      <td>0.0</td>\n",
       "      <td>0.0</td>\n",
       "      <td>0.0</td>\n",
       "      <td>0.0</td>\n",
       "      <td>0.0</td>\n",
       "      <td>...</td>\n",
       "      <td>0.0</td>\n",
       "      <td>1.0</td>\n",
       "      <td>0.0</td>\n",
       "      <td>0.0</td>\n",
       "      <td>0.0</td>\n",
       "      <td>0.0</td>\n",
       "      <td>0.0</td>\n",
       "      <td>1.0</td>\n",
       "      <td>0.0</td>\n",
       "      <td>0.0</td>\n",
       "    </tr>\n",
       "    <tr>\n",
       "      <th>3</th>\n",
       "      <td>4</td>\n",
       "      <td>0.0</td>\n",
       "      <td>1.0</td>\n",
       "      <td>0.0</td>\n",
       "      <td>0.0</td>\n",
       "      <td>1.0</td>\n",
       "      <td>0.0</td>\n",
       "      <td>0.0</td>\n",
       "      <td>0.0</td>\n",
       "      <td>0.0</td>\n",
       "      <td>...</td>\n",
       "      <td>0.0</td>\n",
       "      <td>1.0</td>\n",
       "      <td>0.0</td>\n",
       "      <td>0.0</td>\n",
       "      <td>0.0</td>\n",
       "      <td>0.0</td>\n",
       "      <td>0.0</td>\n",
       "      <td>1.0</td>\n",
       "      <td>0.0</td>\n",
       "      <td>0.0</td>\n",
       "    </tr>\n",
       "    <tr>\n",
       "      <th>4</th>\n",
       "      <td>5</td>\n",
       "      <td>1.0</td>\n",
       "      <td>0.0</td>\n",
       "      <td>0.0</td>\n",
       "      <td>0.0</td>\n",
       "      <td>1.0</td>\n",
       "      <td>0.0</td>\n",
       "      <td>0.0</td>\n",
       "      <td>0.0</td>\n",
       "      <td>0.0</td>\n",
       "      <td>...</td>\n",
       "      <td>0.0</td>\n",
       "      <td>1.0</td>\n",
       "      <td>0.0</td>\n",
       "      <td>0.0</td>\n",
       "      <td>0.0</td>\n",
       "      <td>0.0</td>\n",
       "      <td>0.0</td>\n",
       "      <td>1.0</td>\n",
       "      <td>0.0</td>\n",
       "      <td>0.0</td>\n",
       "    </tr>\n",
       "  </tbody>\n",
       "</table>\n",
       "<p>5 rows × 70 columns</p>\n",
       "</div>"
      ],
      "text/plain": [
       "   Entry Id  gender_Female  gender_Male  gender_None  age_18-24  age_25-34  \\\n",
       "0         1            0.0          1.0          0.0        0.0        1.0   \n",
       "1         2            0.0          1.0          0.0        0.0        1.0   \n",
       "2         3            1.0          0.0          0.0        1.0        0.0   \n",
       "3         4            0.0          1.0          0.0        0.0        1.0   \n",
       "4         5            1.0          0.0          0.0        0.0        1.0   \n",
       "\n",
       "   age_35-44  age_45-54  age_55-64  age_65 or Above           ...             \\\n",
       "0        0.0        0.0        0.0              0.0           ...              \n",
       "1        0.0        0.0        0.0              0.0           ...              \n",
       "2        0.0        0.0        0.0              0.0           ...              \n",
       "3        0.0        0.0        0.0              0.0           ...              \n",
       "4        0.0        0.0        0.0              0.0           ...              \n",
       "\n",
       "   cheese_Swiss  cheese_none  cheese_programming')  continent_Africa  \\\n",
       "0           0.0          1.0                   0.0               0.0   \n",
       "1           0.0          1.0                   0.0               0.0   \n",
       "2           0.0          1.0                   0.0               0.0   \n",
       "3           0.0          1.0                   0.0               0.0   \n",
       "4           0.0          1.0                   0.0               0.0   \n",
       "\n",
       "   continent_Asia  continent_Europe  continent_None  continent_North America  \\\n",
       "0             0.0               0.0             0.0                      1.0   \n",
       "1             0.0               0.0             0.0                      1.0   \n",
       "2             0.0               0.0             0.0                      1.0   \n",
       "3             0.0               0.0             0.0                      1.0   \n",
       "4             0.0               0.0             0.0                      1.0   \n",
       "\n",
       "   continent_Oceania  continent_South America  \n",
       "0                0.0                      0.0  \n",
       "1                0.0                      0.0  \n",
       "2                0.0                      0.0  \n",
       "3                0.0                      0.0  \n",
       "4                0.0                      0.0  \n",
       "\n",
       "[5 rows x 70 columns]"
      ]
     },
     "execution_count": 73,
     "metadata": {},
     "output_type": "execute_result"
    }
   ],
   "source": [
    "# now the data frame contains just numeric data\n",
    "df.head()"
   ]
  },
  {
   "cell_type": "code",
   "execution_count": 84,
   "metadata": {
    "collapsed": true
   },
   "outputs": [],
   "source": [
    "# Dropping entry id since its just a id variable\n",
    "df.drop(\"Entry Id\", axis=1, inplace=True)"
   ]
  },
  {
   "cell_type": "code",
   "execution_count": 85,
   "metadata": {
    "collapsed": false
   },
   "outputs": [
    {
     "data": {
      "text/plain": [
       "RandomForestRegressor(bootstrap=True, criterion='mse', max_depth=None,\n",
       "           max_features='auto', max_leaf_nodes=None, min_samples_leaf=1,\n",
       "           min_samples_split=2, min_weight_fraction_leaf=0.0,\n",
       "           n_estimators=100, n_jobs=1, oob_score=True, random_state=42,\n",
       "           verbose=0, warm_start=False)"
      ]
     },
     "execution_count": 85,
     "metadata": {},
     "output_type": "execute_result"
    }
   ],
   "source": [
    "# Let's build our first model. I always have oob_score=True. It is a good idea to increase n_estimators to a number higher than \n",
    "# the default. In this case the oob_predictions will be based on a forest of 33 trees. I set random_state=42 so that you all can\n",
    "# replicate the model exactly.\n",
    "model = RandomForestRegressor(n_estimators=100, oob_score=True, random_state=42)\n",
    "\n",
    "model.fit(df, y)"
   ]
  },
  {
   "cell_type": "code",
   "execution_count": 86,
   "metadata": {
    "collapsed": false
   },
   "outputs": [
    {
     "data": {
      "text/plain": [
       "-0.12382925241350451"
      ]
     },
     "execution_count": 86,
     "metadata": {},
     "output_type": "execute_result"
    }
   ],
   "source": [
    "# For regression, the oob_score_ attribute gives the R^2 based on the oob predictions. We want to use c-stat, but I mention this \n",
    "# for awareness. By the way, attributes in sklearn that have a trailing underscore are only available after the model has been fit.\n",
    "model.oob_score_"
   ]
  },
  {
   "cell_type": "code",
   "execution_count": 87,
   "metadata": {
    "collapsed": false
   },
   "outputs": [
    {
     "name": "stdout",
     "output_type": "stream",
     "text": [
      "c-stat:  0.640016453119\n"
     ]
    }
   ],
   "source": [
    "y_oob = model.oob_prediction_\n",
    "print \"c-stat: \", roc_auc_score(y, y_oob)"
   ]
  },
  {
   "cell_type": "markdown",
   "metadata": {},
   "source": [
    "## Variable importance measures"
   ]
  },
  {
   "cell_type": "code",
   "execution_count": 91,
   "metadata": {
    "collapsed": false
   },
   "outputs": [
    {
     "data": {
      "text/plain": [
       "array([  9.39186064e-03,   7.56400243e-03,   2.55361622e-03,\n",
       "         1.74768889e-02,   1.96606085e-02,   1.26326706e-02,\n",
       "         6.57807515e-03,   3.15323546e-03,   3.05109514e-03,\n",
       "         1.71191034e-03,   7.54062163e-03,   3.91729390e-06,\n",
       "         1.04571272e-02,   2.66885161e-02,   2.97228642e-02,\n",
       "         1.18255936e-02,   3.34434887e-02,   2.49779873e-03,\n",
       "         2.11911644e-02,   1.52297056e-02,   2.60377942e-02,\n",
       "         7.55952931e-03,   1.22705381e-02,   4.76926819e-03,\n",
       "         1.86541292e-02,   2.03643207e-02,   8.21915427e-03,\n",
       "         2.09944190e-02,   1.23023183e-02,   2.70712450e-02,\n",
       "         2.35072590e-02,   1.99835169e-02,   1.58972474e-03,\n",
       "         2.39475256e-02,   6.45905109e-03,   8.74576590e-03,\n",
       "         2.11764291e-02,   1.84257488e-02,   2.08235647e-02,\n",
       "         1.94882729e-02,   2.18275287e-02,   2.61753944e-02,\n",
       "         2.35410231e-02,   2.30290655e-02,   1.08362282e-02,\n",
       "         3.63533581e-02,   4.15111266e-02,   2.72506449e-02,\n",
       "         3.93476965e-06,   9.49746815e-03,   2.02299578e-02,\n",
       "         2.58776618e-02,   1.69331062e-02,   1.51885670e-02,\n",
       "         3.87268853e-03,   1.18925709e-02,   3.04230596e-02,\n",
       "         4.00189121e-03,   1.97552340e-02,   2.12452127e-02,\n",
       "         3.00838452e-06,   0.00000000e+00,   7.21758316e-04,\n",
       "         5.60772478e-03,   1.11859426e-02,   7.81221633e-03,\n",
       "         9.54612978e-03,   7.65064603e-03,   3.26251580e-03])"
      ]
     },
     "execution_count": 91,
     "metadata": {},
     "output_type": "execute_result"
    }
   ],
   "source": [
    "model.feature_importances_"
   ]
  },
  {
   "cell_type": "code",
   "execution_count": 92,
   "metadata": {
    "collapsed": false
   },
   "outputs": [
    {
     "data": {
      "image/png": "[encoded data removed]",
      "text/plain": [
       "<matplotlib.figure.Figure at 0x7fb48fb4b050>"
      ]
     },
     "metadata": {},
     "output_type": "display_data"
    }
   ],
   "source": [
    "# Simple version that shows all of the variables\n",
    "feature_importances = pd.Series(model.feature_importances_, index=df.columns)\n",
    "feature_importances.sort_values(inplace=True)\n",
    "feature_importances.plot(kind=\"barh\", figsize=(8,7));"
   ]
  },
  {
   "cell_type": "code",
   "execution_count": 93,
   "metadata": {
    "collapsed": false
   },
   "outputs": [
    {
     "data": {
      "image/png": "[encoded data removed]",
      "text/plain": [
       "<matplotlib.figure.Figure at 0x7fb48fb65d50>"
      ]
     },
     "metadata": {},
     "output_type": "display_data"
    }
   ],
   "source": [
    "# Complex version that shows the summary view\n",
    "\n",
    "def graph_feature_importances(model, feature_names, autoscale=True, headroom=0.05, width=10, summarized_columns=None):\n",
    "    \"\"\"\n",
    "    By Mike Bernico\n",
    "    \n",
    "    Graphs the feature importances of a random decision forest using a horizontal bar chart. \n",
    "    Probably works but untested on other sklearn.ensembles.\n",
    "    \n",
    "    Parameters\n",
    "    ----------\n",
    "    ensemble = Name of the ensemble whose features you would like graphed.\n",
    "    feature_names = A list of the names of those featurs, displayed on the Y axis.\n",
    "    autoscale = True (Automatically adjust the X axis size to the largest feature +.headroom) / False = scale from 0 to 1\n",
    "    headroom = used with autoscale, .05 default\n",
    "    width=figure width in inches\n",
    "    summarized_columns = a list of column prefixes to summarize on, for dummy variables (e.g. [\"day_\"] would summarize all day_ vars\n",
    "    \"\"\"\n",
    "    \n",
    "    if autoscale:\n",
    "        x_scale = model.feature_importances_.max()+ headroom\n",
    "    else:\n",
    "        x_scale = 1\n",
    "    \n",
    "    feature_dict=dict(zip(feature_names, model.feature_importances_))\n",
    "    \n",
    "    if summarized_columns: \n",
    "        #some dummy columns need to be summarized\n",
    "        for col_name in summarized_columns: \n",
    "            #sum all the features that contain col_name, store in temp sum_value\n",
    "            sum_value = sum(x for i, x in feature_dict.iteritems() if col_name in i )  \n",
    "            \n",
    "            #now remove all keys that are part of col_name\n",
    "            keys_to_remove = [i for i in feature_dict.keys() if col_name in i ]\n",
    "            for i in keys_to_remove:\n",
    "                feature_dict.pop(i)\n",
    "            #lastly, read the summarized field\n",
    "            feature_dict[col_name] = sum_value\n",
    "        \n",
    "    results = pd.Series(feature_dict.values(), index=feature_dict.keys())\n",
    "    results.sort_values(inplace=True)\n",
    "    results.plot(kind=\"barh\", figsize=(width,len(results)/4), xlim=(0,x_scale))\n",
    " \n",
    "\n",
    "\n",
    "graph_feature_importances(model, df.columns, summarized_columns=nice_names)"
   ]
  },
  {
   "cell_type": "markdown",
   "metadata": {},
   "source": [
    "## Parameter Testing"
   ]
  },
  {
   "cell_type": "markdown",
   "metadata": {},
   "source": [
    "### max_features"
   ]
  },
  {
   "cell_type": "code",
   "execution_count": 94,
   "metadata": {
    "collapsed": false
   },
   "outputs": [
    {
     "name": "stdout",
     "output_type": "stream",
     "text": [
      "auto option\n",
      "C-stat:  0.65201893644\n",
      "\n",
      "None option\n",
      "C-stat:  0.65201893644\n",
      "\n",
      "sqrt option\n",
      "C-stat:  0.655772803386\n",
      "\n",
      "log2 option\n",
      "C-stat:  0.654054123702\n",
      "\n",
      "0.9 option\n",
      "C-stat:  0.65136505063\n",
      "\n",
      "0.2 option\n",
      "C-stat:  0.656387563164\n",
      "\n"
     ]
    },
    {
     "data": {
      "image/png": "[encoded data removed]",
      "text/plain": [
       "<matplotlib.figure.Figure at 0x7fb48fbdd3d0>"
      ]
     },
     "metadata": {},
     "output_type": "display_data"
    }
   ],
   "source": [
    "results = []\n",
    "max_features_options = [\"auto\", None, \"sqrt\", \"log2\", 0.9, 0.2]\n",
    "\n",
    "for max_features in max_features_options:\n",
    "    model = RandomForestRegressor(n_estimators=1000, oob_score=True, n_jobs=-1, random_state=42, max_features=max_features)\n",
    "    model.fit(df, y)\n",
    "    print max_features, \"option\"\n",
    "    roc = roc_auc_score(y, model.oob_prediction_)\n",
    "    print \"C-stat: \", roc\n",
    "    results.append(roc)\n",
    "    print \"\"\n",
    "    \n",
    "pd.Series(results, max_features_options).plot(kind=\"barh\", xlim=(.85,.88));"
   ]
  },
  {
   "cell_type": "markdown",
   "metadata": {},
   "source": [
    "### min samples leaf"
   ]
  },
  {
   "cell_type": "code",
   "execution_count": 95,
   "metadata": {
    "collapsed": false
   },
   "outputs": [
    {
     "name": "stdout",
     "output_type": "stream",
     "text": [
      "1 min samples\n",
      "C-stat:  0.65201893644\n",
      "\n",
      "2 min samples\n",
      "C-stat:  0.662775832821\n",
      "\n",
      "3 min samples\n",
      "C-stat:  0.67226068007\n",
      "\n",
      "4 min samples\n",
      "C-stat:  0.679267370894\n",
      "\n",
      "5 min samples\n",
      "C-stat:  0.6846970638\n",
      "\n",
      "6 min samples\n",
      "C-stat:  0.68833618266\n",
      "\n",
      "7 min samples\n",
      "C-stat:  0.691555921429\n",
      "\n",
      "8 min samples\n",
      "C-stat:  0.693834123273\n",
      "\n",
      "9 min samples\n",
      "C-stat:  0.696231051371\n",
      "\n",
      "10 min samples\n",
      "C-stat:  0.698481347093\n",
      "\n"
     ]
    },
    {
     "data": {
      "image/png": "[encoded data removed]",
      "text/plain": [
       "<matplotlib.figure.Figure at 0x7fb48f6c38d0>"
      ]
     },
     "metadata": {},
     "output_type": "display_data"
    }
   ],
   "source": [
    "results = []\n",
    "min_samples_leaf_options = [1, 2, 3, 4, 5, 6, 7, 8, 9, 10]\n",
    "\n",
    "for min_samples in min_samples_leaf_options:\n",
    "    model = RandomForestRegressor(n_estimators=1000, \n",
    "                                  oob_score=True, \n",
    "                                  n_jobs=-1, \n",
    "                                  random_state=42, \n",
    "                                  max_features=\"auto\", \n",
    "                                  min_samples_leaf=min_samples)\n",
    "    model.fit(df, y)\n",
    "    print min_samples, \"min samples\"\n",
    "    roc = roc_auc_score(y, model.oob_prediction_)\n",
    "    print \"C-stat: \", roc\n",
    "    results.append(roc)\n",
    "    print \"\"\n",
    "    \n",
    "pd.Series(results, min_samples_leaf_options).plot();"
   ]
  },
  {
   "cell_type": "markdown",
   "metadata": {},
   "source": [
    "### Some more min samples leaf\n",
    "As c stat was increasing, trying some more min sample leaves options"
   ]
  },
  {
   "cell_type": "code",
   "execution_count": 97,
   "metadata": {
    "collapsed": false
   },
   "outputs": [
    {
     "name": "stdout",
     "output_type": "stream",
     "text": [
      "11 min samples\n",
      "C-stat:  0.700632078075\n",
      "\n",
      "12 min samples\n",
      "C-stat:  0.702057367766\n",
      "\n",
      "13 min samples\n",
      "C-stat:  0.703557093427\n",
      "\n",
      "14 min samples\n",
      "C-stat:  0.704718041129\n",
      "\n",
      "15 min samples\n",
      "C-stat:  0.705544903639\n",
      "\n",
      "16 min samples\n",
      "C-stat:  0.706441686159\n",
      "\n",
      "17 min samples\n",
      "C-stat:  0.707120855446\n",
      "\n",
      "18 min samples\n",
      "C-stat:  0.707999463625\n",
      "\n",
      "19 min samples\n",
      "C-stat:  0.708465867152\n",
      "\n",
      "20 min samples\n",
      "C-stat:  0.708697219803\n",
      "\n"
     ]
    },
    {
     "data": {
      "image/png": "[encoded data removed]",
      "text/plain": [
       "<matplotlib.figure.Figure at 0x7fb48f620b10>"
      ]
     },
     "metadata": {},
     "output_type": "display_data"
    }
   ],
   "source": [
    "results = []\n",
    "min_samples_leaf_options = [11,12,13,14,15,16,17,18,19,20]\n",
    "\n",
    "for min_samples in min_samples_leaf_options:\n",
    "    model = RandomForestRegressor(n_estimators=1000, \n",
    "                                  oob_score=True, \n",
    "                                  n_jobs=-1, \n",
    "                                  random_state=42, \n",
    "                                  max_features=\"auto\", \n",
    "                                  min_samples_leaf=min_samples)\n",
    "    model.fit(df, y)\n",
    "    print min_samples, \"min samples\"\n",
    "    roc = roc_auc_score(y, model.oob_prediction_)\n",
    "    print \"C-stat: \", roc\n",
    "    results.append(roc)\n",
    "    print \"\"\n",
    "    \n",
    "pd.Series(results, min_samples_leaf_options).plot();"
   ]
  },
  {
   "cell_type": "markdown",
   "metadata": {},
   "source": [
    "### Even  more min samples leaf\n",
    "C  stat is still increasing, so trying even some more min sample leaves options"
   ]
  },
  {
   "cell_type": "code",
   "execution_count": 98,
   "metadata": {
    "collapsed": false
   },
   "outputs": [
    {
     "name": "stdout",
     "output_type": "stream",
     "text": [
      "21 min samples\n",
      "C-stat:  0.709182593305\n",
      "\n",
      "22 min samples\n",
      "C-stat:  0.709582819247\n",
      "\n",
      "23 min samples\n",
      "C-stat:  0.709878780316\n",
      "\n",
      "24 min samples\n",
      "C-stat:  0.710177106186\n",
      "\n",
      "25 min samples\n",
      "C-stat:  0.71038864166\n",
      "\n",
      "26 min samples\n",
      "C-stat:  0.710354377835\n",
      "\n",
      "27 min samples\n",
      "C-stat:  0.710775378662\n",
      "\n",
      "28 min samples\n",
      "C-stat:  0.71098849067\n",
      "\n",
      "29 min samples\n",
      "C-stat:  0.711101993736\n",
      "\n",
      "30 min samples\n",
      "C-stat:  0.711378800656\n",
      "\n"
     ]
    },
    {
     "data": {
      "image/png": "[encoded data removed]",
      "text/plain": [
       "<matplotlib.figure.Figure at 0x7fb48fb1c890>"
      ]
     },
     "metadata": {},
     "output_type": "display_data"
    }
   ],
   "source": [
    "results = []\n",
    "min_samples_leaf_options = [21,22,23,24,25,26,27,28,29,30]\n",
    "\n",
    "for min_samples in min_samples_leaf_options:\n",
    "    model = RandomForestRegressor(n_estimators=1000, \n",
    "                                  oob_score=True, \n",
    "                                  n_jobs=-1, \n",
    "                                  random_state=42, \n",
    "                                  max_features=\"auto\", \n",
    "                                  min_samples_leaf=min_samples)\n",
    "    model.fit(df, y)\n",
    "    print min_samples, \"min samples\"\n",
    "    roc = roc_auc_score(y, model.oob_prediction_)\n",
    "    print \"C-stat: \", roc\n",
    "    results.append(roc)\n",
    "    print \"\"\n",
    "    \n",
    "pd.Series(results, min_samples_leaf_options).plot();"
   ]
  },
  {
   "cell_type": "markdown",
   "metadata": {},
   "source": [
    "### A little more min sample leaf\n",
    "\n",
    "C stat seems to be gradually stabilizing but adding a few samples more just to be sure"
   ]
  },
  {
   "cell_type": "code",
   "execution_count": null,
   "metadata": {
    "collapsed": true
   },
   "outputs": [],
   "source": [
    "results = []\n",
    "min_samples_leaf_options = [31,32,33,34,35,36,37,38,39,40]\n",
    "\n",
    "for min_samples in min_samples_leaf_options:\n",
    "    model = RandomForestRegressor(n_estimators=1000, \n",
    "                                  oob_score=True, \n",
    "                                  n_jobs=-1, \n",
    "                                  random_state=42, \n",
    "                                  max_features=\"auto\", \n",
    "                                  min_samples_leaf=min_samples)\n",
    "    model.fit(df, y)\n",
    "    print min_samples, \"min samples\"\n",
    "    roc = roc_auc_score(y, model.oob_prediction_)\n",
    "    print \"C-stat: \", roc\n",
    "    results.append(roc)\n",
    "    print \"\"\n",
    "    \n",
    "pd.Series(results, min_samples_leaf_options).plot();"
   ]
  },
  {
   "cell_type": "markdown",
   "metadata": {},
   "source": [
    "## Final Model"
   ]
  },
  {
   "cell_type": "code",
   "execution_count": null,
   "metadata": {
    "collapsed": true
   },
   "outputs": [],
   "source": []
  },
  {
   "cell_type": "code",
   "execution_count": null,
   "metadata": {
    "collapsed": true
   },
   "outputs": [],
   "source": [
    "model = RandomForestRegressor(n_estimators=1000, \n",
    "                              oob_score=True, \n",
    "                              n_jobs=-1, \n",
    "                              random_state=42, \n",
    "                              max_features=\"auto\", \n",
    "                              min_samples_leaf=5)\n",
    "model.fit(df, y)\n",
    "roc = roc_auc_score(y, model.oob_prediction_)\n",
    "print \"C-stat: \", roc\n"
   ]
  }
 ],
 "metadata": {
  "kernelspec": {
   "display_name": "Python [Root]",
   "language": "python",
   "name": "Python [Root]"
  },
  "language_info": {
   "codemirror_mode": {
    "name": "ipython",
    "version": 2
   },
   "file_extension": ".py",
   "mimetype": "text/x-python",
   "name": "python",
   "nbconvert_exporter": "python",
   "pygments_lexer": "ipython2",
   "version": "2.7.12"
  }
 },
 "nbformat": 4,
 "nbformat_minor": 0
}
